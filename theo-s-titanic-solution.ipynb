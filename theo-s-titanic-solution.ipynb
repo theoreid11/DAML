{
 "cells": [
  {
   "cell_type": "code",
   "execution_count": 1,
   "id": "de3aa5ae",
   "metadata": {
    "_cell_guid": "b1076dfc-b9ad-4769-8c92-a6c4dae69d19",
    "_uuid": "8f2839f25d086af736a60e9eeb907d3b93b6e0e5",
    "execution": {
     "iopub.execute_input": "2023-06-07T19:26:24.337214Z",
     "iopub.status.busy": "2023-06-07T19:26:24.336874Z",
     "iopub.status.idle": "2023-06-07T19:26:24.349727Z",
     "shell.execute_reply": "2023-06-07T19:26:24.348236Z"
    },
    "papermill": {
     "duration": 0.01988,
     "end_time": "2023-06-07T19:26:24.352196",
     "exception": false,
     "start_time": "2023-06-07T19:26:24.332316",
     "status": "completed"
    },
    "tags": []
   },
   "outputs": [
    {
     "name": "stdout",
     "output_type": "stream",
     "text": [
      "/kaggle/input/titanic/train.csv\n",
      "/kaggle/input/titanic/test.csv\n",
      "/kaggle/input/titanic/gender_submission.csv\n"
     ]
    }
   ],
   "source": [
    "# This Python 3 environment comes with many helpful analytics libraries installed\n",
    "# It is defined by the kaggle/python Docker image: https://github.com/kaggle/docker-python\n",
    "# For example, here's several helpful packages to load\n",
    "\n",
    "import numpy as np # linear algebra\n",
    "import pandas as pd # data processing, CSV file I/O (e.g. pd.read_csv)\n",
    "\n",
    "# Input data files are available in the read-only \"../input/\" directory\n",
    "# For example, running this (by clicking run or pressing Shift+Enter) will list all files under the input directory\n",
    "\n",
    "import os\n",
    "for dirname, _, filenames in os.walk('/kaggle/input'):\n",
    "    for filename in filenames:\n",
    "        print(os.path.join(dirname, filename))\n",
    "\n",
    "# You can write up to 20GB to the current directory (/kaggle/working/) that gets preserved as output when you create a version using \"Save & Run All\" \n",
    "# You can also write temporary files to /kaggle/temp/, but they won't be saved outside of the current session"
   ]
  },
  {
   "cell_type": "code",
   "execution_count": 2,
   "id": "8bb7c927",
   "metadata": {
    "execution": {
     "iopub.execute_input": "2023-06-07T19:26:24.359375Z",
     "iopub.status.busy": "2023-06-07T19:26:24.358809Z",
     "iopub.status.idle": "2023-06-07T19:26:34.781486Z",
     "shell.execute_reply": "2023-06-07T19:26:34.780239Z"
    },
    "papermill": {
     "duration": 10.42899,
     "end_time": "2023-06-07T19:26:34.784088",
     "exception": false,
     "start_time": "2023-06-07T19:26:24.355098",
     "status": "completed"
    },
    "tags": []
   },
   "outputs": [
    {
     "name": "stderr",
     "output_type": "stream",
     "text": [
      "/opt/conda/lib/python3.10/site-packages/tensorflow_io/python/ops/__init__.py:98: UserWarning: unable to load libtensorflow_io_plugins.so: unable to open file: libtensorflow_io_plugins.so, from paths: ['/opt/conda/lib/python3.10/site-packages/tensorflow_io/python/ops/libtensorflow_io_plugins.so']\n",
      "caused by: ['/opt/conda/lib/python3.10/site-packages/tensorflow_io/python/ops/libtensorflow_io_plugins.so: undefined symbol: _ZN3tsl6StatusC1EN10tensorflow5error4CodeESt17basic_string_viewIcSt11char_traitsIcEENS_14SourceLocationE']\n",
      "  warnings.warn(f\"unable to load libtensorflow_io_plugins.so: {e}\")\n",
      "/opt/conda/lib/python3.10/site-packages/tensorflow_io/python/ops/__init__.py:104: UserWarning: file system plugins are not loaded: unable to open file: libtensorflow_io.so, from paths: ['/opt/conda/lib/python3.10/site-packages/tensorflow_io/python/ops/libtensorflow_io.so']\n",
      "caused by: ['/opt/conda/lib/python3.10/site-packages/tensorflow_io/python/ops/libtensorflow_io.so: undefined symbol: _ZTVN10tensorflow13GcsFileSystemE']\n",
      "  warnings.warn(f\"file system plugins are not loaded: {e}\")\n"
     ]
    }
   ],
   "source": [
    "\n",
    "import tensorflow as tf\n",
    "\n",
    "from tensorflow.keras.models import Sequential\n",
    "from tensorflow.keras.layers import Dense, Activation, Dropout\n",
    "from tensorflow.keras.optimizers import Adam\n",
    "from tensorflow.keras.losses import SparseCategoricalCrossentropy,BinaryCrossentropy\n",
    "from tensorflow.keras.metrics import Accuracy\n",
    "\n",
    "from sklearn.model_selection import train_test_split\n",
    "from sklearn.preprocessing import LabelEncoder\n",
    "\n",
    "import matplotlib.pyplot as plt"
   ]
  },
  {
   "cell_type": "code",
   "execution_count": 3,
   "id": "6c6c0768",
   "metadata": {
    "execution": {
     "iopub.execute_input": "2023-06-07T19:26:34.792738Z",
     "iopub.status.busy": "2023-06-07T19:26:34.791122Z",
     "iopub.status.idle": "2023-06-07T19:26:34.844013Z",
     "shell.execute_reply": "2023-06-07T19:26:34.842619Z"
    },
    "papermill": {
     "duration": 0.058622,
     "end_time": "2023-06-07T19:26:34.845933",
     "exception": false,
     "start_time": "2023-06-07T19:26:34.787311",
     "status": "completed"
    },
    "tags": []
   },
   "outputs": [
    {
     "name": "stdout",
     "output_type": "stream",
     "text": [
      "     PassengerId  Survived  Pclass  \\\n",
      "1              2         1       1   \n",
      "3              4         1       1   \n",
      "6              7         0       1   \n",
      "10            11         1       3   \n",
      "11            12         1       1   \n",
      "..           ...       ...     ...   \n",
      "871          872         1       1   \n",
      "872          873         0       1   \n",
      "879          880         1       1   \n",
      "887          888         1       1   \n",
      "889          890         1       1   \n",
      "\n",
      "                                                  Name     Sex   Age  SibSp  \\\n",
      "1    Cumings, Mrs. John Bradley (Florence Briggs Th...  female  38.0      1   \n",
      "3         Futrelle, Mrs. Jacques Heath (Lily May Peel)  female  35.0      1   \n",
      "6                              McCarthy, Mr. Timothy J    male  54.0      0   \n",
      "10                     Sandstrom, Miss. Marguerite Rut  female   4.0      1   \n",
      "11                            Bonnell, Miss. Elizabeth  female  58.0      0   \n",
      "..                                                 ...     ...   ...    ...   \n",
      "871   Beckwith, Mrs. Richard Leonard (Sallie Monypeny)  female  47.0      1   \n",
      "872                           Carlsson, Mr. Frans Olof    male  33.0      0   \n",
      "879      Potter, Mrs. Thomas Jr (Lily Alexenia Wilson)  female  56.0      0   \n",
      "887                       Graham, Miss. Margaret Edith  female  19.0      0   \n",
      "889                              Behr, Mr. Karl Howell    male  26.0      0   \n",
      "\n",
      "     Parch    Ticket     Fare        Cabin Embarked  \n",
      "1        0  PC 17599  71.2833          C85        C  \n",
      "3        0    113803  53.1000         C123        S  \n",
      "6        0     17463  51.8625          E46        S  \n",
      "10       1   PP 9549  16.7000           G6        S  \n",
      "11       0    113783  26.5500         C103        S  \n",
      "..     ...       ...      ...          ...      ...  \n",
      "871      1     11751  52.5542          D35        S  \n",
      "872      0       695   5.0000  B51 B53 B55        S  \n",
      "879      1     11767  83.1583          C50        C  \n",
      "887      0    112053  30.0000          B42        S  \n",
      "889      0    111369  30.0000         C148        C  \n",
      "\n",
      "[183 rows x 12 columns]\n"
     ]
    }
   ],
   "source": [
    "train_df = pd.read_csv('//kaggle//input//titanic//train.csv')\n",
    "train_df.dropna(inplace=True)\n",
    "\n",
    "print(train_df)\n"
   ]
  },
  {
   "cell_type": "code",
   "execution_count": 4,
   "id": "6fccec29",
   "metadata": {
    "execution": {
     "iopub.execute_input": "2023-06-07T19:26:34.852828Z",
     "iopub.status.busy": "2023-06-07T19:26:34.852504Z",
     "iopub.status.idle": "2023-06-07T19:26:34.874950Z",
     "shell.execute_reply": "2023-06-07T19:26:34.873114Z"
    },
    "papermill": {
     "duration": 0.028531,
     "end_time": "2023-06-07T19:26:34.877383",
     "exception": false,
     "start_time": "2023-06-07T19:26:34.848852",
     "status": "completed"
    },
    "tags": []
   },
   "outputs": [],
   "source": [
    "\n",
    "features = ['Pclass','Sex','SibSp','Parch','Embarked']\n",
    "Y_train = train_df['Survived']\n",
    "X_train = train_df[features]\n",
    "# Encode categorical columns\n",
    "#encoder = LabelEncoder()\n",
    "#X_train['Sex'] = encoder.fit_transform(X_train['Sex'])\n",
    "#X_train['Embarked'] = encoder.fit_transform(X_train['Embarked'])\n",
    "\n",
    "\n",
    "# Perform one-hot encoding on the categorical features\n",
    "#X_train_encoded = pd.get_dummies(X_train, columns=['Pclass', 'SibSp', 'Parch'])\n",
    "X_train_encoded = pd.get_dummies(X_train, columns = features)\n",
    "\n",
    "X_train = X_train_encoded\n",
    "#X_train = train_df[features]\n",
    "#input_dim = len(features) \n",
    "\n",
    "X_train,X_val,Y_train,Y_val = train_test_split(X_train,Y_train,test_size = 0.2)\n",
    "Y_train = np.array(Y_train, dtype=np.float32)\n",
    "Y_val = np.array(Y_val, dtype=np.float32)\n"
   ]
  },
  {
   "cell_type": "code",
   "execution_count": 5,
   "id": "d177ad47",
   "metadata": {
    "execution": {
     "iopub.execute_input": "2023-06-07T19:26:34.884851Z",
     "iopub.status.busy": "2023-06-07T19:26:34.884377Z",
     "iopub.status.idle": "2023-06-07T19:26:35.064807Z",
     "shell.execute_reply": "2023-06-07T19:26:35.063558Z"
    },
    "papermill": {
     "duration": 0.186839,
     "end_time": "2023-06-07T19:26:35.067084",
     "exception": false,
     "start_time": "2023-06-07T19:26:34.880245",
     "status": "completed"
    },
    "tags": []
   },
   "outputs": [],
   "source": [
    "model = Sequential()\n",
    "model.add(Dense(64,input_shape=(X_train.shape[1],),activation = 'relu'))\n",
    "model.add(Dense(32,activation = 'relu'))\n",
    "model.add(Dense(1,activation = 'sigmoid'))"
   ]
  },
  {
   "cell_type": "code",
   "execution_count": 6,
   "id": "768ae181",
   "metadata": {
    "execution": {
     "iopub.execute_input": "2023-06-07T19:26:35.074588Z",
     "iopub.status.busy": "2023-06-07T19:26:35.074217Z",
     "iopub.status.idle": "2023-06-07T19:26:35.092842Z",
     "shell.execute_reply": "2023-06-07T19:26:35.091381Z"
    },
    "papermill": {
     "duration": 0.025379,
     "end_time": "2023-06-07T19:26:35.095297",
     "exception": false,
     "start_time": "2023-06-07T19:26:35.069918",
     "status": "completed"
    },
    "tags": []
   },
   "outputs": [],
   "source": [
    "model.compile(optimizer = 'adam',loss = 'BinaryCrossentropy', metrics = ['accuracy',])"
   ]
  },
  {
   "cell_type": "code",
   "execution_count": 7,
   "id": "3a823808",
   "metadata": {
    "execution": {
     "iopub.execute_input": "2023-06-07T19:26:35.102231Z",
     "iopub.status.busy": "2023-06-07T19:26:35.101858Z",
     "iopub.status.idle": "2023-06-07T19:26:39.618737Z",
     "shell.execute_reply": "2023-06-07T19:26:39.617049Z"
    },
    "papermill": {
     "duration": 4.523104,
     "end_time": "2023-06-07T19:26:39.621179",
     "exception": false,
     "start_time": "2023-06-07T19:26:35.098075",
     "status": "completed"
    },
    "tags": []
   },
   "outputs": [
    {
     "name": "stdout",
     "output_type": "stream",
     "text": [
      "Epoch 1/100\n",
      "2/2 [==============================] - 1s 202ms/step - loss: 0.6962 - accuracy: 0.5000 - val_loss: 0.6831 - val_accuracy: 0.6757\n",
      "Epoch 2/100\n",
      "2/2 [==============================] - 0s 26ms/step - loss: 0.6785 - accuracy: 0.6849 - val_loss: 0.6709 - val_accuracy: 0.6486\n",
      "Epoch 3/100\n",
      "2/2 [==============================] - 0s 26ms/step - loss: 0.6623 - accuracy: 0.6781 - val_loss: 0.6597 - val_accuracy: 0.6486\n",
      "Epoch 4/100\n",
      "2/2 [==============================] - 0s 25ms/step - loss: 0.6484 - accuracy: 0.6781 - val_loss: 0.6488 - val_accuracy: 0.6486\n",
      "Epoch 5/100\n",
      "2/2 [==============================] - 0s 25ms/step - loss: 0.6356 - accuracy: 0.6781 - val_loss: 0.6396 - val_accuracy: 0.6486\n",
      "Epoch 6/100\n",
      "2/2 [==============================] - 0s 27ms/step - loss: 0.6235 - accuracy: 0.6781 - val_loss: 0.6312 - val_accuracy: 0.6486\n",
      "Epoch 7/100\n",
      "2/2 [==============================] - 0s 25ms/step - loss: 0.6123 - accuracy: 0.6781 - val_loss: 0.6235 - val_accuracy: 0.6486\n",
      "Epoch 8/100\n",
      "2/2 [==============================] - 0s 29ms/step - loss: 0.6019 - accuracy: 0.6781 - val_loss: 0.6169 - val_accuracy: 0.6486\n",
      "Epoch 9/100\n",
      "2/2 [==============================] - 0s 27ms/step - loss: 0.5916 - accuracy: 0.6781 - val_loss: 0.6109 - val_accuracy: 0.6486\n",
      "Epoch 10/100\n",
      "2/2 [==============================] - 0s 27ms/step - loss: 0.5827 - accuracy: 0.6781 - val_loss: 0.6058 - val_accuracy: 0.6486\n",
      "Epoch 11/100\n",
      "2/2 [==============================] - 0s 26ms/step - loss: 0.5751 - accuracy: 0.6781 - val_loss: 0.6015 - val_accuracy: 0.6486\n",
      "Epoch 12/100\n",
      "2/2 [==============================] - 0s 26ms/step - loss: 0.5676 - accuracy: 0.6781 - val_loss: 0.5975 - val_accuracy: 0.6486\n",
      "Epoch 13/100\n",
      "2/2 [==============================] - 0s 25ms/step - loss: 0.5608 - accuracy: 0.6781 - val_loss: 0.5933 - val_accuracy: 0.6486\n",
      "Epoch 14/100\n",
      "2/2 [==============================] - 0s 25ms/step - loss: 0.5539 - accuracy: 0.6781 - val_loss: 0.5887 - val_accuracy: 0.6486\n",
      "Epoch 15/100\n",
      "2/2 [==============================] - 0s 28ms/step - loss: 0.5468 - accuracy: 0.6781 - val_loss: 0.5837 - val_accuracy: 0.6486\n",
      "Epoch 16/100\n",
      "2/2 [==============================] - 0s 27ms/step - loss: 0.5399 - accuracy: 0.6781 - val_loss: 0.5785 - val_accuracy: 0.6216\n",
      "Epoch 17/100\n",
      "2/2 [==============================] - 0s 24ms/step - loss: 0.5325 - accuracy: 0.6781 - val_loss: 0.5726 - val_accuracy: 0.6216\n",
      "Epoch 18/100\n",
      "2/2 [==============================] - 0s 24ms/step - loss: 0.5254 - accuracy: 0.6781 - val_loss: 0.5665 - val_accuracy: 0.6486\n",
      "Epoch 19/100\n",
      "2/2 [==============================] - 0s 27ms/step - loss: 0.5174 - accuracy: 0.7123 - val_loss: 0.5609 - val_accuracy: 0.6486\n",
      "Epoch 20/100\n",
      "2/2 [==============================] - 0s 27ms/step - loss: 0.5121 - accuracy: 0.7123 - val_loss: 0.5555 - val_accuracy: 0.7027\n",
      "Epoch 21/100\n",
      "2/2 [==============================] - 0s 28ms/step - loss: 0.5048 - accuracy: 0.7534 - val_loss: 0.5504 - val_accuracy: 0.7027\n",
      "Epoch 22/100\n",
      "2/2 [==============================] - 0s 27ms/step - loss: 0.4986 - accuracy: 0.7534 - val_loss: 0.5452 - val_accuracy: 0.6757\n",
      "Epoch 23/100\n",
      "2/2 [==============================] - 0s 27ms/step - loss: 0.4927 - accuracy: 0.7603 - val_loss: 0.5400 - val_accuracy: 0.6757\n",
      "Epoch 24/100\n",
      "2/2 [==============================] - 0s 26ms/step - loss: 0.4867 - accuracy: 0.7603 - val_loss: 0.5351 - val_accuracy: 0.6757\n",
      "Epoch 25/100\n",
      "2/2 [==============================] - 0s 27ms/step - loss: 0.4816 - accuracy: 0.7397 - val_loss: 0.5306 - val_accuracy: 0.7027\n",
      "Epoch 26/100\n",
      "2/2 [==============================] - 0s 25ms/step - loss: 0.4758 - accuracy: 0.7671 - val_loss: 0.5269 - val_accuracy: 0.6757\n",
      "Epoch 27/100\n",
      "2/2 [==============================] - 0s 23ms/step - loss: 0.4707 - accuracy: 0.7603 - val_loss: 0.5233 - val_accuracy: 0.6757\n",
      "Epoch 28/100\n",
      "2/2 [==============================] - 0s 26ms/step - loss: 0.4661 - accuracy: 0.7671 - val_loss: 0.5192 - val_accuracy: 0.6757\n",
      "Epoch 29/100\n",
      "2/2 [==============================] - 0s 27ms/step - loss: 0.4617 - accuracy: 0.7945 - val_loss: 0.5154 - val_accuracy: 0.6757\n",
      "Epoch 30/100\n",
      "2/2 [==============================] - 0s 29ms/step - loss: 0.4583 - accuracy: 0.7877 - val_loss: 0.5129 - val_accuracy: 0.6757\n",
      "Epoch 31/100\n",
      "2/2 [==============================] - 0s 26ms/step - loss: 0.4553 - accuracy: 0.7877 - val_loss: 0.5115 - val_accuracy: 0.7027\n",
      "Epoch 32/100\n",
      "2/2 [==============================] - 0s 28ms/step - loss: 0.4529 - accuracy: 0.7877 - val_loss: 0.5105 - val_accuracy: 0.7027\n",
      "Epoch 33/100\n",
      "2/2 [==============================] - 0s 29ms/step - loss: 0.4502 - accuracy: 0.7877 - val_loss: 0.5099 - val_accuracy: 0.7027\n",
      "Epoch 34/100\n",
      "2/2 [==============================] - 0s 29ms/step - loss: 0.4472 - accuracy: 0.7877 - val_loss: 0.5103 - val_accuracy: 0.7027\n",
      "Epoch 35/100\n",
      "2/2 [==============================] - 0s 27ms/step - loss: 0.4437 - accuracy: 0.7877 - val_loss: 0.5120 - val_accuracy: 0.6757\n",
      "Epoch 36/100\n",
      "2/2 [==============================] - 0s 27ms/step - loss: 0.4417 - accuracy: 0.7945 - val_loss: 0.5145 - val_accuracy: 0.6757\n",
      "Epoch 37/100\n",
      "2/2 [==============================] - 0s 29ms/step - loss: 0.4392 - accuracy: 0.8014 - val_loss: 0.5167 - val_accuracy: 0.6757\n",
      "Epoch 38/100\n",
      "2/2 [==============================] - 0s 23ms/step - loss: 0.4378 - accuracy: 0.8014 - val_loss: 0.5196 - val_accuracy: 0.6486\n",
      "Epoch 39/100\n",
      "2/2 [==============================] - 0s 29ms/step - loss: 0.4367 - accuracy: 0.7877 - val_loss: 0.5226 - val_accuracy: 0.6486\n",
      "Epoch 40/100\n",
      "2/2 [==============================] - 0s 26ms/step - loss: 0.4361 - accuracy: 0.7877 - val_loss: 0.5240 - val_accuracy: 0.6486\n",
      "Epoch 41/100\n",
      "2/2 [==============================] - 0s 25ms/step - loss: 0.4347 - accuracy: 0.7877 - val_loss: 0.5235 - val_accuracy: 0.6486\n",
      "Epoch 42/100\n",
      "2/2 [==============================] - 0s 26ms/step - loss: 0.4328 - accuracy: 0.7877 - val_loss: 0.5219 - val_accuracy: 0.6486\n",
      "Epoch 43/100\n",
      "2/2 [==============================] - 0s 27ms/step - loss: 0.4312 - accuracy: 0.7877 - val_loss: 0.5202 - val_accuracy: 0.6757\n",
      "Epoch 44/100\n",
      "2/2 [==============================] - 0s 25ms/step - loss: 0.4289 - accuracy: 0.8014 - val_loss: 0.5183 - val_accuracy: 0.6757\n",
      "Epoch 45/100\n",
      "2/2 [==============================] - 0s 27ms/step - loss: 0.4290 - accuracy: 0.8014 - val_loss: 0.5171 - val_accuracy: 0.6757\n",
      "Epoch 46/100\n",
      "2/2 [==============================] - 0s 26ms/step - loss: 0.4270 - accuracy: 0.8014 - val_loss: 0.5179 - val_accuracy: 0.6757\n",
      "Epoch 47/100\n",
      "2/2 [==============================] - 0s 26ms/step - loss: 0.4263 - accuracy: 0.8014 - val_loss: 0.5193 - val_accuracy: 0.6757\n",
      "Epoch 48/100\n",
      "2/2 [==============================] - 0s 23ms/step - loss: 0.4255 - accuracy: 0.8014 - val_loss: 0.5209 - val_accuracy: 0.6757\n",
      "Epoch 49/100\n",
      "2/2 [==============================] - 0s 27ms/step - loss: 0.4250 - accuracy: 0.8014 - val_loss: 0.5219 - val_accuracy: 0.6757\n",
      "Epoch 50/100\n",
      "2/2 [==============================] - 0s 43ms/step - loss: 0.4244 - accuracy: 0.8014 - val_loss: 0.5215 - val_accuracy: 0.6757\n",
      "Epoch 51/100\n",
      "2/2 [==============================] - 0s 39ms/step - loss: 0.4237 - accuracy: 0.8014 - val_loss: 0.5204 - val_accuracy: 0.7027\n",
      "Epoch 52/100\n",
      "2/2 [==============================] - 0s 45ms/step - loss: 0.4235 - accuracy: 0.8014 - val_loss: 0.5210 - val_accuracy: 0.7027\n",
      "Epoch 53/100\n",
      "2/2 [==============================] - 0s 30ms/step - loss: 0.4226 - accuracy: 0.8014 - val_loss: 0.5228 - val_accuracy: 0.7027\n",
      "Epoch 54/100\n",
      "2/2 [==============================] - 0s 28ms/step - loss: 0.4218 - accuracy: 0.8014 - val_loss: 0.5253 - val_accuracy: 0.7027\n",
      "Epoch 55/100\n",
      "2/2 [==============================] - 0s 25ms/step - loss: 0.4208 - accuracy: 0.8014 - val_loss: 0.5292 - val_accuracy: 0.6757\n",
      "Epoch 56/100\n",
      "2/2 [==============================] - 0s 27ms/step - loss: 0.4205 - accuracy: 0.8014 - val_loss: 0.5338 - val_accuracy: 0.6757\n",
      "Epoch 57/100\n",
      "2/2 [==============================] - 0s 27ms/step - loss: 0.4215 - accuracy: 0.8014 - val_loss: 0.5369 - val_accuracy: 0.6757\n",
      "Epoch 58/100\n",
      "2/2 [==============================] - 0s 29ms/step - loss: 0.4207 - accuracy: 0.8014 - val_loss: 0.5374 - val_accuracy: 0.6757\n",
      "Epoch 59/100\n",
      "2/2 [==============================] - 0s 25ms/step - loss: 0.4200 - accuracy: 0.8014 - val_loss: 0.5374 - val_accuracy: 0.7027\n",
      "Epoch 60/100\n",
      "2/2 [==============================] - 0s 25ms/step - loss: 0.4190 - accuracy: 0.8014 - val_loss: 0.5369 - val_accuracy: 0.7027\n",
      "Epoch 61/100\n",
      "2/2 [==============================] - 0s 25ms/step - loss: 0.4183 - accuracy: 0.8014 - val_loss: 0.5359 - val_accuracy: 0.7027\n",
      "Epoch 62/100\n",
      "2/2 [==============================] - 0s 29ms/step - loss: 0.4181 - accuracy: 0.8014 - val_loss: 0.5352 - val_accuracy: 0.7027\n",
      "Epoch 63/100\n",
      "2/2 [==============================] - 0s 27ms/step - loss: 0.4175 - accuracy: 0.8014 - val_loss: 0.5353 - val_accuracy: 0.7027\n",
      "Epoch 64/100\n",
      "2/2 [==============================] - 0s 29ms/step - loss: 0.4175 - accuracy: 0.8014 - val_loss: 0.5354 - val_accuracy: 0.7027\n",
      "Epoch 65/100\n",
      "2/2 [==============================] - 0s 28ms/step - loss: 0.4171 - accuracy: 0.8014 - val_loss: 0.5366 - val_accuracy: 0.7027\n",
      "Epoch 66/100\n",
      "2/2 [==============================] - 0s 27ms/step - loss: 0.4165 - accuracy: 0.8014 - val_loss: 0.5385 - val_accuracy: 0.7027\n",
      "Epoch 67/100\n",
      "2/2 [==============================] - 0s 27ms/step - loss: 0.4166 - accuracy: 0.8014 - val_loss: 0.5403 - val_accuracy: 0.7027\n",
      "Epoch 68/100\n",
      "2/2 [==============================] - 0s 26ms/step - loss: 0.4161 - accuracy: 0.8014 - val_loss: 0.5405 - val_accuracy: 0.7027\n",
      "Epoch 69/100\n",
      "2/2 [==============================] - 0s 28ms/step - loss: 0.4157 - accuracy: 0.8014 - val_loss: 0.5398 - val_accuracy: 0.7027\n",
      "Epoch 70/100\n",
      "2/2 [==============================] - 0s 26ms/step - loss: 0.4149 - accuracy: 0.8014 - val_loss: 0.5378 - val_accuracy: 0.7027\n",
      "Epoch 71/100\n",
      "2/2 [==============================] - 0s 25ms/step - loss: 0.4143 - accuracy: 0.8014 - val_loss: 0.5357 - val_accuracy: 0.7027\n",
      "Epoch 72/100\n",
      "2/2 [==============================] - 0s 26ms/step - loss: 0.4134 - accuracy: 0.8014 - val_loss: 0.5334 - val_accuracy: 0.7027\n",
      "Epoch 73/100\n",
      "2/2 [==============================] - 0s 28ms/step - loss: 0.4134 - accuracy: 0.8014 - val_loss: 0.5312 - val_accuracy: 0.7027\n",
      "Epoch 74/100\n",
      "2/2 [==============================] - 0s 24ms/step - loss: 0.4132 - accuracy: 0.8082 - val_loss: 0.5306 - val_accuracy: 0.7027\n",
      "Epoch 75/100\n",
      "2/2 [==============================] - 0s 28ms/step - loss: 0.4133 - accuracy: 0.8082 - val_loss: 0.5307 - val_accuracy: 0.7027\n",
      "Epoch 76/100\n",
      "2/2 [==============================] - 0s 24ms/step - loss: 0.4127 - accuracy: 0.8082 - val_loss: 0.5312 - val_accuracy: 0.7027\n",
      "Epoch 77/100\n",
      "2/2 [==============================] - 0s 25ms/step - loss: 0.4118 - accuracy: 0.8014 - val_loss: 0.5319 - val_accuracy: 0.7027\n",
      "Epoch 78/100\n",
      "2/2 [==============================] - 0s 29ms/step - loss: 0.4108 - accuracy: 0.8014 - val_loss: 0.5328 - val_accuracy: 0.7027\n",
      "Epoch 79/100\n",
      "2/2 [==============================] - 0s 27ms/step - loss: 0.4100 - accuracy: 0.8014 - val_loss: 0.5345 - val_accuracy: 0.7027\n",
      "Epoch 80/100\n",
      "2/2 [==============================] - 0s 43ms/step - loss: 0.4098 - accuracy: 0.8014 - val_loss: 0.5364 - val_accuracy: 0.7027\n",
      "Epoch 81/100\n",
      "2/2 [==============================] - 0s 27ms/step - loss: 0.4083 - accuracy: 0.8014 - val_loss: 0.5376 - val_accuracy: 0.7027\n",
      "Epoch 82/100\n",
      "2/2 [==============================] - 0s 26ms/step - loss: 0.4083 - accuracy: 0.8014 - val_loss: 0.5391 - val_accuracy: 0.7027\n",
      "Epoch 83/100\n",
      "2/2 [==============================] - 0s 28ms/step - loss: 0.4076 - accuracy: 0.8014 - val_loss: 0.5398 - val_accuracy: 0.7027\n",
      "Epoch 84/100\n",
      "2/2 [==============================] - 0s 26ms/step - loss: 0.4072 - accuracy: 0.8014 - val_loss: 0.5405 - val_accuracy: 0.7027\n",
      "Epoch 85/100\n",
      "2/2 [==============================] - 0s 28ms/step - loss: 0.4065 - accuracy: 0.8014 - val_loss: 0.5404 - val_accuracy: 0.7027\n",
      "Epoch 86/100\n",
      "2/2 [==============================] - 0s 26ms/step - loss: 0.4060 - accuracy: 0.8014 - val_loss: 0.5408 - val_accuracy: 0.7027\n",
      "Epoch 87/100\n",
      "2/2 [==============================] - 0s 24ms/step - loss: 0.4062 - accuracy: 0.8014 - val_loss: 0.5404 - val_accuracy: 0.7027\n",
      "Epoch 88/100\n",
      "2/2 [==============================] - 0s 24ms/step - loss: 0.4055 - accuracy: 0.8014 - val_loss: 0.5389 - val_accuracy: 0.7027\n",
      "Epoch 89/100\n",
      "2/2 [==============================] - 0s 26ms/step - loss: 0.4047 - accuracy: 0.8014 - val_loss: 0.5383 - val_accuracy: 0.7027\n",
      "Epoch 90/100\n",
      "2/2 [==============================] - 0s 23ms/step - loss: 0.4042 - accuracy: 0.8014 - val_loss: 0.5370 - val_accuracy: 0.7027\n",
      "Epoch 91/100\n",
      "2/2 [==============================] - 0s 23ms/step - loss: 0.4034 - accuracy: 0.8082 - val_loss: 0.5344 - val_accuracy: 0.7027\n",
      "Epoch 92/100\n",
      "2/2 [==============================] - 0s 29ms/step - loss: 0.4032 - accuracy: 0.8082 - val_loss: 0.5315 - val_accuracy: 0.7297\n",
      "Epoch 93/100\n",
      "2/2 [==============================] - 0s 27ms/step - loss: 0.4041 - accuracy: 0.8082 - val_loss: 0.5299 - val_accuracy: 0.7297\n",
      "Epoch 94/100\n",
      "2/2 [==============================] - 0s 24ms/step - loss: 0.4059 - accuracy: 0.8082 - val_loss: 0.5291 - val_accuracy: 0.7297\n",
      "Epoch 95/100\n",
      "2/2 [==============================] - 0s 28ms/step - loss: 0.4077 - accuracy: 0.8082 - val_loss: 0.5289 - val_accuracy: 0.7568\n",
      "Epoch 96/100\n",
      "2/2 [==============================] - 0s 29ms/step - loss: 0.4087 - accuracy: 0.8082 - val_loss: 0.5294 - val_accuracy: 0.7568\n",
      "Epoch 97/100\n",
      "2/2 [==============================] - 0s 29ms/step - loss: 0.4080 - accuracy: 0.8082 - val_loss: 0.5300 - val_accuracy: 0.7568\n",
      "Epoch 98/100\n",
      "2/2 [==============================] - 0s 28ms/step - loss: 0.4064 - accuracy: 0.8082 - val_loss: 0.5307 - val_accuracy: 0.7297\n",
      "Epoch 99/100\n",
      "2/2 [==============================] - 0s 29ms/step - loss: 0.4043 - accuracy: 0.8082 - val_loss: 0.5316 - val_accuracy: 0.7297\n",
      "Epoch 100/100\n",
      "2/2 [==============================] - 0s 27ms/step - loss: 0.4026 - accuracy: 0.8082 - val_loss: 0.5336 - val_accuracy: 0.7297\n"
     ]
    }
   ],
   "source": [
    "\n",
    "\n",
    "history = model.fit(X_train,Y_train, batch_size= 120, epochs = 100, validation_data = (X_val,Y_val) )"
   ]
  },
  {
   "cell_type": "code",
   "execution_count": 8,
   "id": "30b3ed1a",
   "metadata": {
    "execution": {
     "iopub.execute_input": "2023-06-07T19:26:39.663802Z",
     "iopub.status.busy": "2023-06-07T19:26:39.663406Z",
     "iopub.status.idle": "2023-06-07T19:26:40.119591Z",
     "shell.execute_reply": "2023-06-07T19:26:40.119000Z"
    },
    "papermill": {
     "duration": 0.478869,
     "end_time": "2023-06-07T19:26:40.121204",
     "exception": false,
     "start_time": "2023-06-07T19:26:39.642335",
     "status": "completed"
    },
    "tags": []
   },
   "outputs": [
    {
     "data": {
      "image/png": "[encoded data removed]",
      "text/plain": [
       "<Figure size 640x480 with 1 Axes>"
      ]
     },
     "metadata": {},
     "output_type": "display_data"
    },
    {
     "data": {
      "image/png": "[encoded data removed]",
      "text/plain": [
       "<Figure size 640x480 with 1 Axes>"
      ]
     },
     "metadata": {},
     "output_type": "display_data"
    }
   ],
   "source": [
    "\n",
    "plt.plot(history.history['loss'], label='Training Loss')\n",
    "plt.plot(history.history['val_loss'], label='Validation Loss')\n",
    "plt.title('Loss Curve')\n",
    "plt.xlabel('Epochs')\n",
    "plt.ylabel('Loss')\n",
    "plt.legend()\n",
    "plt.show()\n",
    "\n",
    "# Plot the accuracy curve\n",
    "plt.plot(history.history['accuracy'], label='Training Accuracy')\n",
    "plt.plot(history.history['val_accuracy'], label='Validation Accuracy')\n",
    "plt.title('Accuracy Curve')\n",
    "plt.xlabel('Epochs')\n",
    "plt.ylabel('Accuracy')\n",
    "plt.legend()\n",
    "plt.show()"
   ]
  }
 ],
 "metadata": {
  "kernelspec": {
   "display_name": "Python 3",
   "language": "python",
   "name": "python3"
  },
  "language_info": {
   "codemirror_mode": {
    "name": "ipython",
    "version": 3
   },
   "file_extension": ".py",
   "mimetype": "text/x-python",
   "name": "python",
   "nbconvert_exporter": "python",
   "pygments_lexer": "ipython3",
   "version": "3.10.10"
  },
  "papermill": {
   "default_parameters": {},
   "duration": 28.385874,
   "end_time": "2023-06-07T19:26:43.317136",
   "environment_variables": {},
   "exception": null,
   "input_path": "__notebook__.ipynb",
   "output_path": "__notebook__.ipynb",
   "parameters": {},
   "start_time": "2023-06-07T19:26:14.931262",
   "version": "2.4.0"
  }
 },
 "nbformat": 4,
 "nbformat_minor": 5
}
