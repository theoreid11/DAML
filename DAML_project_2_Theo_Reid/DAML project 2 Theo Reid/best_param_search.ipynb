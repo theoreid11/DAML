{
 "cells": [
  {
   "cell_type": "markdown",
   "id": "f57ec007",
   "metadata": {},
   "source": [
    "This file runs a gridsearch in order to find optimal parameters to build the auto encoder. The best parameters are saved to a file and retrieved by the main file. I ran the gridsearch a few times each time narrowing down the best parameters it found in order to come up with the current gridsearch parameters. With more time and computing power it would have been better to automate this process."
   ]
  },
  {
   "cell_type": "code",
   "execution_count": 1,
   "id": "c29d5980",
   "metadata": {},
   "outputs": [],
   "source": [
    "from sklearn import preprocessing\n",
    "from sklearn.model_selection import train_test_split\n",
    "\n",
    "# Standard import(s)\n",
    "import numpy as np\n",
    "import csv\n",
    "import pandas as pd\n",
    "import tensorflow as tf\n",
    "import matplotlib.pyplot as plt\n",
    "import numpy as np\n",
    "import tensorflow as tf\n",
    "from tensorflow import keras\n",
    "from tensorflow.keras import layers\n",
    "import seaborn as sns\n",
    "import pickle\n",
    "\n",
    "# Keras import(s)\n",
    "#if float(tf.__version__[:3])>2.8:\n",
    "from tensorflow.keras.utils import plot_model\n",
    "#from tensorflow.python.keras.utils.vis_utils import plot_model\n",
    "from tensorflow.keras.models import Model, Sequential\n",
    "\n",
    "from tensorflow.keras.layers import BatchNormalization,Input, Dense, Dropout, Flatten, Reshape, Conv2D, MaxPooling2D, Conv2DTranspose, Concatenate, Lambda, UpSampling2D\n",
    "from tensorflow.keras import backend as K\n",
    "from tensorflow.keras.callbacks import EarlyStopping\n",
    "from tensorflow.keras.losses import binary_crossentropy\n",
    "from tensorflow.keras.losses import mae\n",
    "from tensorflow.keras.losses import mean_squared_error \n",
    "from tensorflow.keras.layers import LeakyReLU\n",
    "from tensorflow.keras.backend import set_image_data_format\n",
    "from tensorflow.keras.optimizers import Adam\n",
    "from tensorflow.python.framework.ops import disable_eager_execution\n",
    "disable_eager_execution()\n",
    "set_image_data_format('channels_last')  # Images are formatted as (N, N, 1), with colour-channels last\n",
    "\n",
    "# Keras import(s)\n",
    "if float(tf.__version__[:3])>2.8:\n",
    "    from tensorflow.keras.utils import plot_model\n",
    "else:\n",
    "    from tensorflow.keras.utils.vis_utils import plot_model\n",
    "from tensorflow.keras.models import Model\n",
    "from tensorflow.keras.layers import Input, Dense, Flatten, Reshape, Conv2D, MaxPooling2D, AveragePooling2D, UpSampling2D\n",
    "from sklearn.metrics import confusion_matrix\n",
    "from sklearn.metrics import plot_confusion_matrix\n",
    "from tensorflow.keras import regularizers\n",
    "from sklearn.metrics import mean_absolute_error\n",
    "from sklearn.metrics import mean_squared_error\n",
    "\n",
    "from sklearn.model_selection import GridSearchCV, RandomizedSearchCV"
   ]
  },
  {
   "cell_type": "code",
   "execution_count": 2,
   "id": "e49ac10c",
   "metadata": {},
   "outputs": [],
   "source": [
    "#Open file containing the saved SM training data \n",
    "with open('X_datafile.pickle', 'rb') as handlex:\n",
    "    X_train = pickle.load(handlex)\n"
   ]
  },
  {
   "cell_type": "code",
   "execution_count": 3,
   "id": "e5994475",
   "metadata": {},
   "outputs": [],
   "source": [
    "#Auto encoder function used for gridsearch\n",
    "def build_ae(num_dense_layers,first_dense_dim,regularization_factor ,act_func,latent_dim = 10):\n",
    "    input_dim = X_train.shape[1]\n",
    "    input_layer = Input(shape=(input_dim,))\n",
    "    encoder = Dense(first_dense_dim, activation=\"relu\", activity_regularizer=regularizers.l1(regularization_factor))(input_layer)\n",
    "    dim =first_dense_dim/2\n",
    "    for i in range(num_dense_layers - 1):\n",
    "        encoder = Dense(int(dim),activation=\"relu\")(encoder)\n",
    "        dim = dim/2\n",
    "                        \n",
    "    encoder = x = Dense(latent_dim, activation=\"relu\")(encoder)\n",
    "    decoder = encoder\n",
    "    \n",
    "    for i in range(num_dense_layers - 1):\n",
    "        dim = dim*2\n",
    "        decoder = Dense(int(dim), activation=\"relu\")(decoder)\n",
    "    decoder = Dense(first_dense_dim, activation=\"relu\")(decoder)\n",
    "    decoder = Dense(input_dim, activation=act_func)(decoder)\n",
    "    autoencoder = Model(inputs=input_layer, outputs=decoder)\n",
    "    autoencoder.compile(optimizer='adam', loss='mean_squared_error')\n",
    "    return autoencoder\n",
    "\n"
   ]
  },
  {
   "cell_type": "code",
   "execution_count": 4,
   "id": "6b709b19",
   "metadata": {},
   "outputs": [],
   "source": [
    "#Define dictionary of parameters to use in gridsearch.\n",
    "param_grid = {\n",
    "    'first_dense_dim': [256,128],\n",
    "    'num_dense_layers': [1,2,3],\n",
    "    'regularization_factor': [0.0001],\n",
    "    'act_func' : ['linear','LeakyReLU']\n",
    " \n",
    "}\n"
   ]
  },
  {
   "cell_type": "code",
   "execution_count": 5,
   "id": "9bd0df17",
   "metadata": {},
   "outputs": [
    {
     "name": "stderr",
     "output_type": "stream",
     "text": [
      "C:\\Users\\Theo\\AppData\\Local\\Temp\\ipykernel_15048\\4264055899.py:2: DeprecationWarning: KerasRegressor is deprecated, use Sci-Keras (https://github.com/adriangb/scikeras) instead. See https://www.adriangb.com/scikeras/stable/migration.html for help migrating.\n",
      "  ae_estimator = tf.keras.wrappers.scikit_learn.KerasRegressor(build_fn=build_ae, epochs=5)\n"
     ]
    }
   ],
   "source": [
    "#Create an estimator to be used for the gridsearh\n",
    "ae_estimator = tf.keras.wrappers.scikit_learn.KerasRegressor(build_fn=build_ae, epochs=5)\n",
    "\n",
    "#execute gridsearch, using cv = 3 to minimise the searching time\n",
    "grid = GridSearchCV(ae_estimator, param_grid,scoring='neg_mean_squared_error',cv = 3)      #negative MSE to minimise reconstruction error"
   ]
  },
  {
   "cell_type": "code",
   "execution_count": 6,
   "id": "fb50d919",
   "metadata": {},
   "outputs": [
    {
     "name": "stdout",
     "output_type": "stream",
     "text": [
      "Train on 145180 samples, validate on 36296 samples\n",
      "Epoch 1/5\n",
      "143300/145180 [============================>.] - ETA: 0s - loss: 0.0159"
     ]
    },
    {
     "name": "stderr",
     "output_type": "stream",
     "text": [
      "C:\\Users\\Theo\\Anaconda3\\envs\\daml\\lib\\site-packages\\keras\\engine\\training_v1.py:2045: UserWarning: `Model.state_updates` will be removed in a future version. This property should not be used in TensorFlow 2.0, as `updates` are applied automatically.\n",
      "  updates = self.state_updates\n"
     ]
    },
    {
     "name": "stdout",
     "output_type": "stream",
     "text": [
      "145180/145180 [==============================] - 5s 36us/sample - loss: 0.0158 - val_loss: 0.0079\n",
      "Epoch 2/5\n",
      "145180/145180 [==============================] - 5s 32us/sample - loss: 0.0072 - val_loss: 0.0061\n",
      "Epoch 3/5\n",
      "145180/145180 [==============================] - 5s 36us/sample - loss: 0.0058 - val_loss: 0.0055\n",
      "Epoch 4/5\n",
      "145180/145180 [==============================] - 5s 31us/sample - loss: 0.0054 - val_loss: 0.0053\n",
      "Epoch 5/5\n",
      "145180/145180 [==============================] - 4s 28us/sample - loss: 0.0052 - val_loss: 0.0051\n"
     ]
    },
    {
     "name": "stderr",
     "output_type": "stream",
     "text": [
      "C:\\Users\\Theo\\Anaconda3\\envs\\daml\\lib\\site-packages\\keras\\engine\\training_v1.py:2067: UserWarning: `Model.state_updates` will be removed in a future version. This property should not be used in TensorFlow 2.0, as `updates` are applied automatically.\n",
      "  updates=self.state_updates,\n"
     ]
    },
    {
     "name": "stdout",
     "output_type": "stream",
     "text": [
      "Train on 145180 samples, validate on 36296 samples\n",
      "Epoch 1/5\n",
      "143800/145180 [============================>.] - ETA: 0s - loss: 0.0147"
     ]
    },
    {
     "name": "stderr",
     "output_type": "stream",
     "text": [
      "C:\\Users\\Theo\\Anaconda3\\envs\\daml\\lib\\site-packages\\keras\\engine\\training_v1.py:2045: UserWarning: `Model.state_updates` will be removed in a future version. This property should not be used in TensorFlow 2.0, as `updates` are applied automatically.\n",
      "  updates = self.state_updates\n"
     ]
    },
    {
     "name": "stdout",
     "output_type": "stream",
     "text": [
      "145180/145180 [==============================] - 4s 26us/sample - loss: 0.0146 - val_loss: 0.0083\n",
      "Epoch 2/5\n",
      "145180/145180 [==============================] - 4s 24us/sample - loss: 0.0069 - val_loss: 0.0059\n",
      "Epoch 3/5\n",
      "145180/145180 [==============================] - 4s 26us/sample - loss: 0.0057 - val_loss: 0.0055\n",
      "Epoch 4/5\n",
      "145180/145180 [==============================] - 4s 25us/sample - loss: 0.0053 - val_loss: 0.0051\n",
      "Epoch 5/5\n",
      "145180/145180 [==============================] - 4s 26us/sample - loss: 0.0049 - val_loss: 0.0047\n"
     ]
    },
    {
     "name": "stderr",
     "output_type": "stream",
     "text": [
      "C:\\Users\\Theo\\Anaconda3\\envs\\daml\\lib\\site-packages\\keras\\engine\\training_v1.py:2067: UserWarning: `Model.state_updates` will be removed in a future version. This property should not be used in TensorFlow 2.0, as `updates` are applied automatically.\n",
      "  updates=self.state_updates,\n"
     ]
    },
    {
     "name": "stdout",
     "output_type": "stream",
     "text": [
      "Train on 145180 samples, validate on 36296 samples\n",
      "Epoch 1/5\n",
      "143800/145180 [============================>.] - ETA: 0s - loss: 0.0125"
     ]
    },
    {
     "name": "stderr",
     "output_type": "stream",
     "text": [
      "C:\\Users\\Theo\\Anaconda3\\envs\\daml\\lib\\site-packages\\keras\\engine\\training_v1.py:2045: UserWarning: `Model.state_updates` will be removed in a future version. This property should not be used in TensorFlow 2.0, as `updates` are applied automatically.\n",
      "  updates = self.state_updates\n"
     ]
    },
    {
     "name": "stdout",
     "output_type": "stream",
     "text": [
      "145180/145180 [==============================] - 4s 30us/sample - loss: 0.0125 - val_loss: 0.0071\n",
      "Epoch 2/5\n",
      "145180/145180 [==============================] - 4s 28us/sample - loss: 0.0065 - val_loss: 0.0062\n",
      "Epoch 3/5\n",
      "145180/145180 [==============================] - 4s 26us/sample - loss: 0.0058 - val_loss: 0.0055\n",
      "Epoch 4/5\n",
      "145180/145180 [==============================] - 4s 26us/sample - loss: 0.0051 - val_loss: 0.0050\n",
      "Epoch 5/5\n",
      "145180/145180 [==============================] - 4s 28us/sample - loss: 0.0048 - val_loss: 0.0048\n"
     ]
    },
    {
     "name": "stderr",
     "output_type": "stream",
     "text": [
      "C:\\Users\\Theo\\Anaconda3\\envs\\daml\\lib\\site-packages\\keras\\engine\\training_v1.py:2067: UserWarning: `Model.state_updates` will be removed in a future version. This property should not be used in TensorFlow 2.0, as `updates` are applied automatically.\n",
      "  updates=self.state_updates,\n"
     ]
    },
    {
     "name": "stdout",
     "output_type": "stream",
     "text": [
      "Train on 145180 samples, validate on 36296 samples\n",
      "Epoch 1/5\n",
      "144300/145180 [============================>.] - ETA: 0s - loss: 0.0114"
     ]
    },
    {
     "name": "stderr",
     "output_type": "stream",
     "text": [
      "C:\\Users\\Theo\\Anaconda3\\envs\\daml\\lib\\site-packages\\keras\\engine\\training_v1.py:2045: UserWarning: `Model.state_updates` will be removed in a future version. This property should not be used in TensorFlow 2.0, as `updates` are applied automatically.\n",
      "  updates = self.state_updates\n"
     ]
    },
    {
     "name": "stdout",
     "output_type": "stream",
     "text": [
      "145180/145180 [==============================] - 6s 39us/sample - loss: 0.0113 - val_loss: 0.0059\n",
      "Epoch 2/5\n",
      "145180/145180 [==============================] - 5s 37us/sample - loss: 0.0054 - val_loss: 0.0049\n",
      "Epoch 3/5\n",
      "145180/145180 [==============================] - 6s 39us/sample - loss: 0.0047 - val_loss: 0.0045\n",
      "Epoch 4/5\n",
      "145180/145180 [==============================] - 5s 37us/sample - loss: 0.0044 - val_loss: 0.0042\n",
      "Epoch 5/5\n",
      "145180/145180 [==============================] - 5s 38us/sample - loss: 0.0042 - val_loss: 0.0040\n"
     ]
    },
    {
     "name": "stderr",
     "output_type": "stream",
     "text": [
      "C:\\Users\\Theo\\Anaconda3\\envs\\daml\\lib\\site-packages\\keras\\engine\\training_v1.py:2067: UserWarning: `Model.state_updates` will be removed in a future version. This property should not be used in TensorFlow 2.0, as `updates` are applied automatically.\n",
      "  updates=self.state_updates,\n"
     ]
    },
    {
     "name": "stdout",
     "output_type": "stream",
     "text": [
      "Train on 145180 samples, validate on 36296 samples\n",
      "Epoch 1/5\n",
      "144000/145180 [============================>.] - ETA: 0s - loss: 0.0173"
     ]
    },
    {
     "name": "stderr",
     "output_type": "stream",
     "text": [
      "C:\\Users\\Theo\\Anaconda3\\envs\\daml\\lib\\site-packages\\keras\\engine\\training_v1.py:2045: UserWarning: `Model.state_updates` will be removed in a future version. This property should not be used in TensorFlow 2.0, as `updates` are applied automatically.\n",
      "  updates = self.state_updates\n"
     ]
    },
    {
     "name": "stdout",
     "output_type": "stream",
     "text": [
      "145180/145180 [==============================] - 7s 45us/sample - loss: 0.0173 - val_loss: 0.0109\n",
      "Epoch 2/5\n",
      "145180/145180 [==============================] - 8s 53us/sample - loss: 0.0091 - val_loss: 0.0084\n",
      "Epoch 3/5\n",
      "145180/145180 [==============================] - 5s 38us/sample - loss: 0.0082 - val_loss: 0.0080\n",
      "Epoch 4/5\n",
      "145180/145180 [==============================] - 5s 38us/sample - loss: 0.0079 - val_loss: 0.0077\n",
      "Epoch 5/5\n",
      "145180/145180 [==============================] - 6s 40us/sample - loss: 0.0076 - val_loss: 0.0075\n"
     ]
    },
    {
     "name": "stderr",
     "output_type": "stream",
     "text": [
      "C:\\Users\\Theo\\Anaconda3\\envs\\daml\\lib\\site-packages\\keras\\engine\\training_v1.py:2067: UserWarning: `Model.state_updates` will be removed in a future version. This property should not be used in TensorFlow 2.0, as `updates` are applied automatically.\n",
      "  updates=self.state_updates,\n"
     ]
    },
    {
     "name": "stdout",
     "output_type": "stream",
     "text": [
      "Train on 145180 samples, validate on 36296 samples\n",
      "Epoch 1/5\n",
      "143700/145180 [============================>.] - ETA: 0s - loss: 0.0132"
     ]
    },
    {
     "name": "stderr",
     "output_type": "stream",
     "text": [
      "C:\\Users\\Theo\\Anaconda3\\envs\\daml\\lib\\site-packages\\keras\\engine\\training_v1.py:2045: UserWarning: `Model.state_updates` will be removed in a future version. This property should not be used in TensorFlow 2.0, as `updates` are applied automatically.\n",
      "  updates = self.state_updates\n"
     ]
    },
    {
     "name": "stdout",
     "output_type": "stream",
     "text": [
      "145180/145180 [==============================] - 6s 42us/sample - loss: 0.0132 - val_loss: 0.0073\n",
      "Epoch 2/5\n",
      "145180/145180 [==============================] - 6s 40us/sample - loss: 0.0067 - val_loss: 0.0064\n",
      "Epoch 3/5\n",
      "145180/145180 [==============================] - 6s 39us/sample - loss: 0.0061 - val_loss: 0.0061\n",
      "Epoch 4/5\n",
      "145180/145180 [==============================] - 6s 38us/sample - loss: 0.0058 - val_loss: 0.0057\n",
      "Epoch 5/5\n",
      "145180/145180 [==============================] - 6s 40us/sample - loss: 0.0055 - val_loss: 0.0054\n"
     ]
    },
    {
     "name": "stderr",
     "output_type": "stream",
     "text": [
      "C:\\Users\\Theo\\Anaconda3\\envs\\daml\\lib\\site-packages\\keras\\engine\\training_v1.py:2067: UserWarning: `Model.state_updates` will be removed in a future version. This property should not be used in TensorFlow 2.0, as `updates` are applied automatically.\n",
      "  updates=self.state_updates,\n"
     ]
    },
    {
     "name": "stdout",
     "output_type": "stream",
     "text": [
      "Train on 145180 samples, validate on 36296 samples\n",
      "Epoch 1/5\n",
      "144100/145180 [============================>.] - ETA: 0s - loss: 0.0130"
     ]
    },
    {
     "name": "stderr",
     "output_type": "stream",
     "text": [
      "C:\\Users\\Theo\\Anaconda3\\envs\\daml\\lib\\site-packages\\keras\\engine\\training_v1.py:2045: UserWarning: `Model.state_updates` will be removed in a future version. This property should not be used in TensorFlow 2.0, as `updates` are applied automatically.\n",
      "  updates = self.state_updates\n"
     ]
    },
    {
     "name": "stdout",
     "output_type": "stream",
     "text": [
      "145180/145180 [==============================] - 7s 48us/sample - loss: 0.0130 - val_loss: 0.0081\n",
      "Epoch 2/5\n",
      "145180/145180 [==============================] - 7s 46us/sample - loss: 0.0075 - val_loss: 0.0071\n",
      "Epoch 3/5\n",
      "145180/145180 [==============================] - 7s 45us/sample - loss: 0.0069 - val_loss: 0.0067\n",
      "Epoch 4/5\n",
      "145180/145180 [==============================] - 7s 46us/sample - loss: 0.0066 - val_loss: 0.0063\n",
      "Epoch 5/5\n",
      "145180/145180 [==============================] - 6s 44us/sample - loss: 0.0062 - val_loss: 0.0061\n"
     ]
    },
    {
     "name": "stderr",
     "output_type": "stream",
     "text": [
      "C:\\Users\\Theo\\Anaconda3\\envs\\daml\\lib\\site-packages\\keras\\engine\\training_v1.py:2067: UserWarning: `Model.state_updates` will be removed in a future version. This property should not be used in TensorFlow 2.0, as `updates` are applied automatically.\n",
      "  updates=self.state_updates,\n"
     ]
    },
    {
     "name": "stdout",
     "output_type": "stream",
     "text": [
      "Train on 145180 samples, validate on 36296 samples\n",
      "Epoch 1/5\n",
      "144700/145180 [============================>.] - ETA: 0s - loss: 0.0140"
     ]
    },
    {
     "name": "stderr",
     "output_type": "stream",
     "text": [
      "C:\\Users\\Theo\\Anaconda3\\envs\\daml\\lib\\site-packages\\keras\\engine\\training_v1.py:2045: UserWarning: `Model.state_updates` will be removed in a future version. This property should not be used in TensorFlow 2.0, as `updates` are applied automatically.\n",
      "  updates = self.state_updates\n"
     ]
    },
    {
     "name": "stdout",
     "output_type": "stream",
     "text": [
      "145180/145180 [==============================] - 7s 51us/sample - loss: 0.0139 - val_loss: 0.0082\n",
      "Epoch 2/5\n",
      "145180/145180 [==============================] - 7s 46us/sample - loss: 0.0075 - val_loss: 0.0070\n",
      "Epoch 3/5\n",
      "145180/145180 [==============================] - 7s 47us/sample - loss: 0.0067 - val_loss: 0.0065\n",
      "Epoch 4/5\n",
      "145180/145180 [==============================] - 7s 46us/sample - loss: 0.0063 - val_loss: 0.0061\n",
      "Epoch 5/5\n",
      "145180/145180 [==============================] - 7s 47us/sample - loss: 0.0060 - val_loss: 0.0060\n"
     ]
    },
    {
     "name": "stderr",
     "output_type": "stream",
     "text": [
      "C:\\Users\\Theo\\Anaconda3\\envs\\daml\\lib\\site-packages\\keras\\engine\\training_v1.py:2067: UserWarning: `Model.state_updates` will be removed in a future version. This property should not be used in TensorFlow 2.0, as `updates` are applied automatically.\n",
      "  updates=self.state_updates,\n"
     ]
    },
    {
     "name": "stdout",
     "output_type": "stream",
     "text": [
      "Train on 145180 samples, validate on 36296 samples\n",
      "Epoch 1/5\n",
      "144200/145180 [============================>.] - ETA: 0s - loss: 0.0177"
     ]
    },
    {
     "name": "stderr",
     "output_type": "stream",
     "text": [
      "C:\\Users\\Theo\\Anaconda3\\envs\\daml\\lib\\site-packages\\keras\\engine\\training_v1.py:2045: UserWarning: `Model.state_updates` will be removed in a future version. This property should not be used in TensorFlow 2.0, as `updates` are applied automatically.\n",
      "  updates = self.state_updates\n"
     ]
    },
    {
     "name": "stdout",
     "output_type": "stream",
     "text": [
      "145180/145180 [==============================] - 7s 51us/sample - loss: 0.0176 - val_loss: 0.0124\n",
      "Epoch 2/5\n",
      "145180/145180 [==============================] - 7s 48us/sample - loss: 0.0106 - val_loss: 0.0099\n",
      "Epoch 3/5\n",
      "145180/145180 [==============================] - 7s 50us/sample - loss: 0.0093 - val_loss: 0.0090\n",
      "Epoch 4/5\n",
      "145180/145180 [==============================] - 7s 48us/sample - loss: 0.0085 - val_loss: 0.0083\n",
      "Epoch 5/5\n",
      "145180/145180 [==============================] - 7s 47us/sample - loss: 0.0081 - val_loss: 0.0079\n"
     ]
    },
    {
     "name": "stderr",
     "output_type": "stream",
     "text": [
      "C:\\Users\\Theo\\Anaconda3\\envs\\daml\\lib\\site-packages\\keras\\engine\\training_v1.py:2067: UserWarning: `Model.state_updates` will be removed in a future version. This property should not be used in TensorFlow 2.0, as `updates` are applied automatically.\n",
      "  updates=self.state_updates,\n"
     ]
    },
    {
     "name": "stdout",
     "output_type": "stream",
     "text": [
      "Train on 145180 samples, validate on 36296 samples\n",
      "Epoch 1/5\n",
      "143400/145180 [============================>.] - ETA: 0s - loss: 0.0163"
     ]
    },
    {
     "name": "stderr",
     "output_type": "stream",
     "text": [
      "C:\\Users\\Theo\\Anaconda3\\envs\\daml\\lib\\site-packages\\keras\\engine\\training_v1.py:2045: UserWarning: `Model.state_updates` will be removed in a future version. This property should not be used in TensorFlow 2.0, as `updates` are applied automatically.\n",
      "  updates = self.state_updates\n"
     ]
    },
    {
     "name": "stdout",
     "output_type": "stream",
     "text": [
      "145180/145180 [==============================] - 5s 36us/sample - loss: 0.0162 - val_loss: 0.0086\n",
      "Epoch 2/5\n",
      "145180/145180 [==============================] - 4s 30us/sample - loss: 0.0080 - val_loss: 0.0075\n",
      "Epoch 3/5\n",
      "145180/145180 [==============================] - 4s 30us/sample - loss: 0.0073 - val_loss: 0.0071\n",
      "Epoch 4/5\n",
      "145180/145180 [==============================] - 5s 32us/sample - loss: 0.0070 - val_loss: 0.0068\n",
      "Epoch 5/5\n",
      "145180/145180 [==============================] - 4s 30us/sample - loss: 0.0068 - val_loss: 0.0067\n"
     ]
    },
    {
     "name": "stderr",
     "output_type": "stream",
     "text": [
      "C:\\Users\\Theo\\Anaconda3\\envs\\daml\\lib\\site-packages\\keras\\engine\\training_v1.py:2067: UserWarning: `Model.state_updates` will be removed in a future version. This property should not be used in TensorFlow 2.0, as `updates` are applied automatically.\n",
      "  updates=self.state_updates,\n"
     ]
    },
    {
     "name": "stdout",
     "output_type": "stream",
     "text": [
      "Train on 145180 samples, validate on 36296 samples\n",
      "Epoch 1/5\n",
      "144900/145180 [============================>.] - ETA: 0s - loss: 0.0140"
     ]
    },
    {
     "name": "stderr",
     "output_type": "stream",
     "text": [
      "C:\\Users\\Theo\\Anaconda3\\envs\\daml\\lib\\site-packages\\keras\\engine\\training_v1.py:2045: UserWarning: `Model.state_updates` will be removed in a future version. This property should not be used in TensorFlow 2.0, as `updates` are applied automatically.\n",
      "  updates = self.state_updates\n"
     ]
    },
    {
     "name": "stdout",
     "output_type": "stream",
     "text": [
      "145180/145180 [==============================] - 5s 38us/sample - loss: 0.0140 - val_loss: 0.0076\n",
      "Epoch 2/5\n",
      "145180/145180 [==============================] - 5s 33us/sample - loss: 0.0067 - val_loss: 0.0061\n",
      "Epoch 3/5\n",
      "145180/145180 [==============================] - 4s 31us/sample - loss: 0.0058 - val_loss: 0.0055\n",
      "Epoch 4/5\n",
      "145180/145180 [==============================] - 4s 31us/sample - loss: 0.0054 - val_loss: 0.0052\n",
      "Epoch 5/5\n",
      "145180/145180 [==============================] - 5s 33us/sample - loss: 0.0051 - val_loss: 0.0050\n"
     ]
    },
    {
     "name": "stderr",
     "output_type": "stream",
     "text": [
      "C:\\Users\\Theo\\Anaconda3\\envs\\daml\\lib\\site-packages\\keras\\engine\\training_v1.py:2067: UserWarning: `Model.state_updates` will be removed in a future version. This property should not be used in TensorFlow 2.0, as `updates` are applied automatically.\n",
      "  updates=self.state_updates,\n"
     ]
    },
    {
     "name": "stdout",
     "output_type": "stream",
     "text": [
      "Train on 145180 samples, validate on 36296 samples\n",
      "Epoch 1/5\n",
      "145100/145180 [============================>.] - ETA: 0s - loss: 0.0174"
     ]
    },
    {
     "name": "stderr",
     "output_type": "stream",
     "text": [
      "C:\\Users\\Theo\\Anaconda3\\envs\\daml\\lib\\site-packages\\keras\\engine\\training_v1.py:2045: UserWarning: `Model.state_updates` will be removed in a future version. This property should not be used in TensorFlow 2.0, as `updates` are applied automatically.\n",
      "  updates = self.state_updates\n"
     ]
    },
    {
     "name": "stdout",
     "output_type": "stream",
     "text": [
      "145180/145180 [==============================] - 5s 35us/sample - loss: 0.0174 - val_loss: 0.0088\n",
      "Epoch 2/5\n",
      "145180/145180 [==============================] - 5s 32us/sample - loss: 0.0079 - val_loss: 0.0075\n",
      "Epoch 3/5\n",
      "145180/145180 [==============================] - 5s 33us/sample - loss: 0.0072 - val_loss: 0.0070\n",
      "Epoch 4/5\n",
      "145180/145180 [==============================] - 5s 31us/sample - loss: 0.0068 - val_loss: 0.0067\n",
      "Epoch 5/5\n",
      "145180/145180 [==============================] - 5s 31us/sample - loss: 0.0065 - val_loss: 0.0063\n"
     ]
    },
    {
     "name": "stderr",
     "output_type": "stream",
     "text": [
      "C:\\Users\\Theo\\Anaconda3\\envs\\daml\\lib\\site-packages\\keras\\engine\\training_v1.py:2067: UserWarning: `Model.state_updates` will be removed in a future version. This property should not be used in TensorFlow 2.0, as `updates` are applied automatically.\n",
      "  updates=self.state_updates,\n"
     ]
    },
    {
     "name": "stdout",
     "output_type": "stream",
     "text": [
      "Train on 145180 samples, validate on 36296 samples\n",
      "Epoch 1/5\n",
      "144600/145180 [============================>.] - ETA: 0s - loss: 0.0174"
     ]
    },
    {
     "name": "stderr",
     "output_type": "stream",
     "text": [
      "C:\\Users\\Theo\\Anaconda3\\envs\\daml\\lib\\site-packages\\keras\\engine\\training_v1.py:2045: UserWarning: `Model.state_updates` will be removed in a future version. This property should not be used in TensorFlow 2.0, as `updates` are applied automatically.\n",
      "  updates = self.state_updates\n"
     ]
    },
    {
     "name": "stdout",
     "output_type": "stream",
     "text": [
      "145180/145180 [==============================] - 6s 41us/sample - loss: 0.0174 - val_loss: 0.0115\n",
      "Epoch 2/5\n",
      "145180/145180 [==============================] - 5s 37us/sample - loss: 0.0110 - val_loss: 0.0106\n",
      "Epoch 3/5\n",
      "145180/145180 [==============================] - 6s 39us/sample - loss: 0.0088 - val_loss: 0.0082\n",
      "Epoch 4/5\n",
      "145180/145180 [==============================] - 5s 37us/sample - loss: 0.0081 - val_loss: 0.0078\n",
      "Epoch 5/5\n",
      "145180/145180 [==============================] - 5s 37us/sample - loss: 0.0075 - val_loss: 0.0072\n"
     ]
    },
    {
     "name": "stderr",
     "output_type": "stream",
     "text": [
      "C:\\Users\\Theo\\Anaconda3\\envs\\daml\\lib\\site-packages\\keras\\engine\\training_v1.py:2067: UserWarning: `Model.state_updates` will be removed in a future version. This property should not be used in TensorFlow 2.0, as `updates` are applied automatically.\n",
      "  updates=self.state_updates,\n"
     ]
    },
    {
     "name": "stdout",
     "output_type": "stream",
     "text": [
      "Train on 145180 samples, validate on 36296 samples\n",
      "Epoch 1/5\n",
      "144300/145180 [============================>.] - ETA: 0s - loss: 0.0155"
     ]
    },
    {
     "name": "stderr",
     "output_type": "stream",
     "text": [
      "C:\\Users\\Theo\\Anaconda3\\envs\\daml\\lib\\site-packages\\keras\\engine\\training_v1.py:2045: UserWarning: `Model.state_updates` will be removed in a future version. This property should not be used in TensorFlow 2.0, as `updates` are applied automatically.\n",
      "  updates = self.state_updates\n"
     ]
    },
    {
     "name": "stdout",
     "output_type": "stream",
     "text": [
      "145180/145180 [==============================] - 6s 43us/sample - loss: 0.0154 - val_loss: 0.0089\n",
      "Epoch 2/5\n",
      "145180/145180 [==============================] - 5s 38us/sample - loss: 0.0081 - val_loss: 0.0075\n",
      "Epoch 3/5\n",
      "145180/145180 [==============================] - 6s 40us/sample - loss: 0.0073 - val_loss: 0.0070\n",
      "Epoch 4/5\n",
      "145180/145180 [==============================] - 6s 38us/sample - loss: 0.0068 - val_loss: 0.0067\n",
      "Epoch 5/5\n",
      "145180/145180 [==============================] - 6s 39us/sample - loss: 0.0066 - val_loss: 0.0064\n"
     ]
    },
    {
     "name": "stderr",
     "output_type": "stream",
     "text": [
      "C:\\Users\\Theo\\Anaconda3\\envs\\daml\\lib\\site-packages\\keras\\engine\\training_v1.py:2067: UserWarning: `Model.state_updates` will be removed in a future version. This property should not be used in TensorFlow 2.0, as `updates` are applied automatically.\n",
      "  updates=self.state_updates,\n"
     ]
    },
    {
     "name": "stdout",
     "output_type": "stream",
     "text": [
      "Train on 145180 samples, validate on 36296 samples\n",
      "Epoch 1/5\n",
      "143800/145180 [============================>.] - ETA: 0s - loss: 0.0148"
     ]
    },
    {
     "name": "stderr",
     "output_type": "stream",
     "text": [
      "C:\\Users\\Theo\\Anaconda3\\envs\\daml\\lib\\site-packages\\keras\\engine\\training_v1.py:2045: UserWarning: `Model.state_updates` will be removed in a future version. This property should not be used in TensorFlow 2.0, as `updates` are applied automatically.\n",
      "  updates = self.state_updates\n"
     ]
    },
    {
     "name": "stdout",
     "output_type": "stream",
     "text": [
      "145180/145180 [==============================] - 7s 45us/sample - loss: 0.0147 - val_loss: 0.0090\n",
      "Epoch 2/5\n",
      "145180/145180 [==============================] - 6s 41us/sample - loss: 0.0083 - val_loss: 0.0080\n",
      "Epoch 3/5\n",
      "145180/145180 [==============================] - 6s 39us/sample - loss: 0.0078 - val_loss: 0.0076\n",
      "Epoch 4/5\n",
      "145180/145180 [==============================] - 6s 38us/sample - loss: 0.0075 - val_loss: 0.0074\n",
      "Epoch 5/5\n",
      "145180/145180 [==============================] - 6s 40us/sample - loss: 0.0073 - val_loss: 0.0073\n"
     ]
    },
    {
     "name": "stderr",
     "output_type": "stream",
     "text": [
      "C:\\Users\\Theo\\Anaconda3\\envs\\daml\\lib\\site-packages\\keras\\engine\\training_v1.py:2067: UserWarning: `Model.state_updates` will be removed in a future version. This property should not be used in TensorFlow 2.0, as `updates` are applied automatically.\n",
      "  updates=self.state_updates,\n"
     ]
    },
    {
     "name": "stdout",
     "output_type": "stream",
     "text": [
      "Train on 145180 samples, validate on 36296 samples\n",
      "Epoch 1/5\n",
      "144500/145180 [============================>.] - ETA: 0s - loss: 0.0154"
     ]
    },
    {
     "name": "stderr",
     "output_type": "stream",
     "text": [
      "C:\\Users\\Theo\\Anaconda3\\envs\\daml\\lib\\site-packages\\keras\\engine\\training_v1.py:2045: UserWarning: `Model.state_updates` will be removed in a future version. This property should not be used in TensorFlow 2.0, as `updates` are applied automatically.\n",
      "  updates = self.state_updates\n"
     ]
    },
    {
     "name": "stdout",
     "output_type": "stream",
     "text": [
      "145180/145180 [==============================] - 7s 50us/sample - loss: 0.0154 - val_loss: 0.0091\n",
      "Epoch 2/5\n",
      "145180/145180 [==============================] - 7s 45us/sample - loss: 0.0085 - val_loss: 0.0078\n",
      "Epoch 3/5\n",
      "145180/145180 [==============================] - 6s 44us/sample - loss: 0.0075 - val_loss: 0.0073\n",
      "Epoch 4/5\n",
      "145180/145180 [==============================] - 7s 45us/sample - loss: 0.0072 - val_loss: 0.0071\n",
      "Epoch 5/5\n",
      "145180/145180 [==============================] - 6s 44us/sample - loss: 0.0070 - val_loss: 0.0069\n"
     ]
    },
    {
     "name": "stderr",
     "output_type": "stream",
     "text": [
      "C:\\Users\\Theo\\Anaconda3\\envs\\daml\\lib\\site-packages\\keras\\engine\\training_v1.py:2067: UserWarning: `Model.state_updates` will be removed in a future version. This property should not be used in TensorFlow 2.0, as `updates` are applied automatically.\n",
      "  updates=self.state_updates,\n"
     ]
    },
    {
     "name": "stdout",
     "output_type": "stream",
     "text": [
      "Train on 145180 samples, validate on 36296 samples\n",
      "Epoch 1/5\n",
      "145100/145180 [============================>.] - ETA: 0s - loss: 0.0221"
     ]
    },
    {
     "name": "stderr",
     "output_type": "stream",
     "text": [
      "C:\\Users\\Theo\\Anaconda3\\envs\\daml\\lib\\site-packages\\keras\\engine\\training_v1.py:2045: UserWarning: `Model.state_updates` will be removed in a future version. This property should not be used in TensorFlow 2.0, as `updates` are applied automatically.\n",
      "  updates = self.state_updates\n"
     ]
    },
    {
     "name": "stdout",
     "output_type": "stream",
     "text": [
      "145180/145180 [==============================] - 8s 53us/sample - loss: 0.0221 - val_loss: 0.0157\n",
      "Epoch 2/5\n",
      "145180/145180 [==============================] - 6s 45us/sample - loss: 0.0147 - val_loss: 0.0140\n",
      "Epoch 3/5\n",
      "145180/145180 [==============================] - 7s 46us/sample - loss: 0.0138 - val_loss: 0.0135\n",
      "Epoch 4/5\n",
      "145180/145180 [==============================] - 6s 45us/sample - loss: 0.0133 - val_loss: 0.0130\n",
      "Epoch 5/5\n",
      "145180/145180 [==============================] - 7s 47us/sample - loss: 0.0128 - val_loss: 0.0126\n"
     ]
    },
    {
     "name": "stderr",
     "output_type": "stream",
     "text": [
      "C:\\Users\\Theo\\Anaconda3\\envs\\daml\\lib\\site-packages\\keras\\engine\\training_v1.py:2067: UserWarning: `Model.state_updates` will be removed in a future version. This property should not be used in TensorFlow 2.0, as `updates` are applied automatically.\n",
      "  updates=self.state_updates,\n"
     ]
    },
    {
     "name": "stdout",
     "output_type": "stream",
     "text": [
      "Train on 145180 samples, validate on 36296 samples\n",
      "Epoch 1/5\n",
      "144500/145180 [============================>.] - ETA: 0s - loss: 0.0171"
     ]
    },
    {
     "name": "stderr",
     "output_type": "stream",
     "text": [
      "C:\\Users\\Theo\\Anaconda3\\envs\\daml\\lib\\site-packages\\keras\\engine\\training_v1.py:2045: UserWarning: `Model.state_updates` will be removed in a future version. This property should not be used in TensorFlow 2.0, as `updates` are applied automatically.\n",
      "  updates = self.state_updates\n"
     ]
    },
    {
     "name": "stdout",
     "output_type": "stream",
     "text": [
      "145180/145180 [==============================] - 8s 56us/sample - loss: 0.0171 - val_loss: 0.0089\n",
      "Epoch 2/5\n",
      "145180/145180 [==============================] - 7s 47us/sample - loss: 0.0081 - val_loss: 0.0076\n",
      "Epoch 3/5\n",
      "145180/145180 [==============================] - 7s 46us/sample - loss: 0.0072 - val_loss: 0.0070\n",
      "Epoch 4/5\n",
      "145180/145180 [==============================] - 7s 47us/sample - loss: 0.0068 - val_loss: 0.0068\n",
      "Epoch 5/5\n",
      "145180/145180 [==============================] - 7s 46us/sample - loss: 0.0066 - val_loss: 0.0066\n"
     ]
    },
    {
     "name": "stderr",
     "output_type": "stream",
     "text": [
      "C:\\Users\\Theo\\Anaconda3\\envs\\daml\\lib\\site-packages\\keras\\engine\\training_v1.py:2067: UserWarning: `Model.state_updates` will be removed in a future version. This property should not be used in TensorFlow 2.0, as `updates` are applied automatically.\n",
      "  updates=self.state_updates,\n"
     ]
    },
    {
     "name": "stdout",
     "output_type": "stream",
     "text": [
      "Train on 145180 samples, validate on 36296 samples\n",
      "Epoch 1/5\n",
      "144300/145180 [============================>.] - ETA: 0s - loss: 0.0122"
     ]
    },
    {
     "name": "stderr",
     "output_type": "stream",
     "text": [
      "C:\\Users\\Theo\\Anaconda3\\envs\\daml\\lib\\site-packages\\keras\\engine\\training_v1.py:2045: UserWarning: `Model.state_updates` will be removed in a future version. This property should not be used in TensorFlow 2.0, as `updates` are applied automatically.\n",
      "  updates = self.state_updates\n"
     ]
    },
    {
     "name": "stdout",
     "output_type": "stream",
     "text": [
      "145180/145180 [==============================] - 7s 47us/sample - loss: 0.0122 - val_loss: 0.0070\n",
      "Epoch 2/5\n",
      "145180/145180 [==============================] - 6s 41us/sample - loss: 0.0065 - val_loss: 0.0060\n",
      "Epoch 3/5\n",
      "145180/145180 [==============================] - 6s 43us/sample - loss: 0.0058 - val_loss: 0.0056\n",
      "Epoch 4/5\n",
      "145180/145180 [==============================] - 6s 42us/sample - loss: 0.0055 - val_loss: 0.0054\n",
      "Epoch 5/5\n",
      "145180/145180 [==============================] - 6s 44us/sample - loss: 0.0053 - val_loss: 0.0052\n"
     ]
    },
    {
     "name": "stderr",
     "output_type": "stream",
     "text": [
      "C:\\Users\\Theo\\Anaconda3\\envs\\daml\\lib\\site-packages\\keras\\engine\\training_v1.py:2067: UserWarning: `Model.state_updates` will be removed in a future version. This property should not be used in TensorFlow 2.0, as `updates` are applied automatically.\n",
      "  updates=self.state_updates,\n"
     ]
    },
    {
     "name": "stdout",
     "output_type": "stream",
     "text": [
      "Train on 145180 samples, validate on 36296 samples\n",
      "Epoch 1/5\n",
      "144900/145180 [============================>.] - ETA: 0s - loss: 0.0117"
     ]
    },
    {
     "name": "stderr",
     "output_type": "stream",
     "text": [
      "C:\\Users\\Theo\\Anaconda3\\envs\\daml\\lib\\site-packages\\keras\\engine\\training_v1.py:2045: UserWarning: `Model.state_updates` will be removed in a future version. This property should not be used in TensorFlow 2.0, as `updates` are applied automatically.\n",
      "  updates = self.state_updates\n"
     ]
    },
    {
     "name": "stdout",
     "output_type": "stream",
     "text": [
      "145180/145180 [==============================] - 7s 49us/sample - loss: 0.0117 - val_loss: 0.0070\n",
      "Epoch 2/5\n",
      "145180/145180 [==============================] - 6s 44us/sample - loss: 0.0062 - val_loss: 0.0056\n",
      "Epoch 3/5\n",
      "145180/145180 [==============================] - 14s 95us/sample - loss: 0.0053 - val_loss: 0.0052\n",
      "Epoch 4/5\n",
      "145180/145180 [==============================] - 7s 45us/sample - loss: 0.0050 - val_loss: 0.0049\n",
      "Epoch 5/5\n",
      "145180/145180 [==============================] - 6s 43us/sample - loss: 0.0048 - val_loss: 0.0047\n"
     ]
    },
    {
     "name": "stderr",
     "output_type": "stream",
     "text": [
      "C:\\Users\\Theo\\Anaconda3\\envs\\daml\\lib\\site-packages\\keras\\engine\\training_v1.py:2067: UserWarning: `Model.state_updates` will be removed in a future version. This property should not be used in TensorFlow 2.0, as `updates` are applied automatically.\n",
      "  updates=self.state_updates,\n"
     ]
    },
    {
     "name": "stdout",
     "output_type": "stream",
     "text": [
      "Train on 145180 samples, validate on 36296 samples\n",
      "Epoch 1/5\n",
      "144600/145180 [============================>.] - ETA: 0s - loss: 0.0133"
     ]
    },
    {
     "name": "stderr",
     "output_type": "stream",
     "text": [
      "C:\\Users\\Theo\\Anaconda3\\envs\\daml\\lib\\site-packages\\keras\\engine\\training_v1.py:2045: UserWarning: `Model.state_updates` will be removed in a future version. This property should not be used in TensorFlow 2.0, as `updates` are applied automatically.\n",
      "  updates = self.state_updates\n"
     ]
    },
    {
     "name": "stdout",
     "output_type": "stream",
     "text": [
      "145180/145180 [==============================] - 7s 50us/sample - loss: 0.0133 - val_loss: 0.0079\n",
      "Epoch 2/5\n",
      "145180/145180 [==============================] - 6s 44us/sample - loss: 0.0072 - val_loss: 0.0067\n",
      "Epoch 3/5\n",
      "145180/145180 [==============================] - 6s 43us/sample - loss: 0.0065 - val_loss: 0.0063\n",
      "Epoch 4/5\n",
      "145180/145180 [==============================] - 6s 44us/sample - loss: 0.0060 - val_loss: 0.0053\n",
      "Epoch 5/5\n",
      "145180/145180 [==============================] - 6s 44us/sample - loss: 0.0050 - val_loss: 0.0050\n"
     ]
    },
    {
     "name": "stderr",
     "output_type": "stream",
     "text": [
      "C:\\Users\\Theo\\Anaconda3\\envs\\daml\\lib\\site-packages\\keras\\engine\\training_v1.py:2067: UserWarning: `Model.state_updates` will be removed in a future version. This property should not be used in TensorFlow 2.0, as `updates` are applied automatically.\n",
      "  updates=self.state_updates,\n"
     ]
    },
    {
     "name": "stdout",
     "output_type": "stream",
     "text": [
      "Train on 145180 samples, validate on 36296 samples\n",
      "Epoch 1/5\n",
      "144200/145180 [============================>.] - ETA: 0s - loss: 0.0139"
     ]
    },
    {
     "name": "stderr",
     "output_type": "stream",
     "text": [
      "C:\\Users\\Theo\\Anaconda3\\envs\\daml\\lib\\site-packages\\keras\\engine\\training_v1.py:2045: UserWarning: `Model.state_updates` will be removed in a future version. This property should not be used in TensorFlow 2.0, as `updates` are applied automatically.\n",
      "  updates = self.state_updates\n"
     ]
    },
    {
     "name": "stdout",
     "output_type": "stream",
     "text": [
      "145180/145180 [==============================] - 9s 63us/sample - loss: 0.0138 - val_loss: 0.0091\n",
      "Epoch 2/5\n",
      "145180/145180 [==============================] - 8s 56us/sample - loss: 0.0086 - val_loss: 0.0079\n",
      "Epoch 3/5\n",
      "145180/145180 [==============================] - 9s 61us/sample - loss: 0.0072 - val_loss: 0.0068\n",
      "Epoch 4/5\n",
      "145180/145180 [==============================] - 10s 70us/sample - loss: 0.0066 - val_loss: 0.0065\n",
      "Epoch 5/5\n",
      "145180/145180 [==============================] - 9s 64us/sample - loss: 0.0064 - val_loss: 0.0062\n"
     ]
    },
    {
     "name": "stderr",
     "output_type": "stream",
     "text": [
      "C:\\Users\\Theo\\Anaconda3\\envs\\daml\\lib\\site-packages\\keras\\engine\\training_v1.py:2067: UserWarning: `Model.state_updates` will be removed in a future version. This property should not be used in TensorFlow 2.0, as `updates` are applied automatically.\n",
      "  updates=self.state_updates,\n"
     ]
    },
    {
     "name": "stdout",
     "output_type": "stream",
     "text": [
      "Train on 145180 samples, validate on 36296 samples\n",
      "Epoch 1/5\n",
      "144900/145180 [============================>.] - ETA: 0s - loss: 0.0135"
     ]
    },
    {
     "name": "stderr",
     "output_type": "stream",
     "text": [
      "C:\\Users\\Theo\\Anaconda3\\envs\\daml\\lib\\site-packages\\keras\\engine\\training_v1.py:2045: UserWarning: `Model.state_updates` will be removed in a future version. This property should not be used in TensorFlow 2.0, as `updates` are applied automatically.\n",
      "  updates = self.state_updates\n"
     ]
    },
    {
     "name": "stdout",
     "output_type": "stream",
     "text": [
      "145180/145180 [==============================] - 11s 74us/sample - loss: 0.0135 - val_loss: 0.0079\n",
      "Epoch 2/5\n",
      "145180/145180 [==============================] - 10s 70us/sample - loss: 0.0073 - val_loss: 0.0069\n",
      "Epoch 3/5\n",
      "145180/145180 [==============================] - 9s 63us/sample - loss: 0.0067 - val_loss: 0.0066\n",
      "Epoch 4/5\n",
      "145180/145180 [==============================] - 9s 64us/sample - loss: 0.0065 - val_loss: 0.0064\n",
      "Epoch 5/5\n",
      "145180/145180 [==============================] - 9s 61us/sample - loss: 0.0063 - val_loss: 0.0062\n"
     ]
    },
    {
     "name": "stderr",
     "output_type": "stream",
     "text": [
      "C:\\Users\\Theo\\Anaconda3\\envs\\daml\\lib\\site-packages\\keras\\engine\\training_v1.py:2067: UserWarning: `Model.state_updates` will be removed in a future version. This property should not be used in TensorFlow 2.0, as `updates` are applied automatically.\n",
      "  updates=self.state_updates,\n"
     ]
    },
    {
     "name": "stdout",
     "output_type": "stream",
     "text": [
      "Train on 145180 samples, validate on 36296 samples\n",
      "Epoch 1/5\n",
      "145100/145180 [============================>.] - ETA: 0s - loss: 0.0115"
     ]
    },
    {
     "name": "stderr",
     "output_type": "stream",
     "text": [
      "C:\\Users\\Theo\\Anaconda3\\envs\\daml\\lib\\site-packages\\keras\\engine\\training_v1.py:2045: UserWarning: `Model.state_updates` will be removed in a future version. This property should not be used in TensorFlow 2.0, as `updates` are applied automatically.\n",
      "  updates = self.state_updates\n"
     ]
    },
    {
     "name": "stdout",
     "output_type": "stream",
     "text": [
      "145180/145180 [==============================] - 11s 73us/sample - loss: 0.0115 - val_loss: 0.0059\n",
      "Epoch 2/5\n",
      "145180/145180 [==============================] - 9s 60us/sample - loss: 0.0054 - val_loss: 0.0050\n",
      "Epoch 3/5\n",
      "145180/145180 [==============================] - 9s 63us/sample - loss: 0.0048 - val_loss: 0.0046\n",
      "Epoch 4/5\n",
      "145180/145180 [==============================] - 9s 60us/sample - loss: 0.0045 - val_loss: 0.0044\n",
      "Epoch 5/5\n",
      "145180/145180 [==============================] - 9s 60us/sample - loss: 0.0043 - val_loss: 0.0042\n"
     ]
    },
    {
     "name": "stderr",
     "output_type": "stream",
     "text": [
      "C:\\Users\\Theo\\Anaconda3\\envs\\daml\\lib\\site-packages\\keras\\engine\\training_v1.py:2067: UserWarning: `Model.state_updates` will be removed in a future version. This property should not be used in TensorFlow 2.0, as `updates` are applied automatically.\n",
      "  updates=self.state_updates,\n"
     ]
    },
    {
     "name": "stdout",
     "output_type": "stream",
     "text": [
      "Train on 145180 samples, validate on 36296 samples\n",
      "Epoch 1/5\n",
      "144700/145180 [============================>.] - ETA: 0s - loss: 0.0126"
     ]
    },
    {
     "name": "stderr",
     "output_type": "stream",
     "text": [
      "C:\\Users\\Theo\\Anaconda3\\envs\\daml\\lib\\site-packages\\keras\\engine\\training_v1.py:2045: UserWarning: `Model.state_updates` will be removed in a future version. This property should not be used in TensorFlow 2.0, as `updates` are applied automatically.\n",
      "  updates = self.state_updates\n"
     ]
    },
    {
     "name": "stdout",
     "output_type": "stream",
     "text": [
      "145180/145180 [==============================] - 11s 77us/sample - loss: 0.0125 - val_loss: 0.0076\n",
      "Epoch 2/5\n",
      "145180/145180 [==============================] - 11s 75us/sample - loss: 0.0072 - val_loss: 0.0067\n",
      "Epoch 3/5\n",
      "145180/145180 [==============================] - 11s 79us/sample - loss: 0.0065 - val_loss: 0.0061\n",
      "Epoch 4/5\n",
      "145180/145180 [==============================] - 10s 68us/sample - loss: 0.0061 - val_loss: 0.0058\n",
      "Epoch 5/5\n",
      "145180/145180 [==============================] - 10s 67us/sample - loss: 0.0058 - val_loss: 0.0057\n"
     ]
    },
    {
     "name": "stderr",
     "output_type": "stream",
     "text": [
      "C:\\Users\\Theo\\Anaconda3\\envs\\daml\\lib\\site-packages\\keras\\engine\\training_v1.py:2067: UserWarning: `Model.state_updates` will be removed in a future version. This property should not be used in TensorFlow 2.0, as `updates` are applied automatically.\n",
      "  updates=self.state_updates,\n"
     ]
    },
    {
     "name": "stdout",
     "output_type": "stream",
     "text": [
      "Train on 145180 samples, validate on 36296 samples\n",
      "Epoch 1/5\n",
      "144800/145180 [============================>.] - ETA: 0s - loss: 0.0129"
     ]
    },
    {
     "name": "stderr",
     "output_type": "stream",
     "text": [
      "C:\\Users\\Theo\\Anaconda3\\envs\\daml\\lib\\site-packages\\keras\\engine\\training_v1.py:2045: UserWarning: `Model.state_updates` will be removed in a future version. This property should not be used in TensorFlow 2.0, as `updates` are applied automatically.\n",
      "  updates = self.state_updates\n"
     ]
    },
    {
     "name": "stdout",
     "output_type": "stream",
     "text": [
      "145180/145180 [==============================] - 11s 78us/sample - loss: 0.0129 - val_loss: 0.0079\n",
      "Epoch 2/5\n",
      "145180/145180 [==============================] - 9s 65us/sample - loss: 0.0071 - val_loss: 0.0066\n",
      "Epoch 3/5\n",
      "145180/145180 [==============================] - 9s 65us/sample - loss: 0.0064 - val_loss: 0.0061\n",
      "Epoch 4/5\n",
      "145180/145180 [==============================] - 9s 65us/sample - loss: 0.0057 - val_loss: 0.0054\n",
      "Epoch 5/5\n",
      "145180/145180 [==============================] - 9s 65us/sample - loss: 0.0052 - val_loss: 0.0051\n"
     ]
    },
    {
     "name": "stderr",
     "output_type": "stream",
     "text": [
      "C:\\Users\\Theo\\Anaconda3\\envs\\daml\\lib\\site-packages\\keras\\engine\\training_v1.py:2067: UserWarning: `Model.state_updates` will be removed in a future version. This property should not be used in TensorFlow 2.0, as `updates` are applied automatically.\n",
      "  updates=self.state_updates,\n"
     ]
    },
    {
     "name": "stdout",
     "output_type": "stream",
     "text": [
      "Train on 145180 samples, validate on 36296 samples\n",
      "Epoch 1/5\n",
      "144700/145180 [============================>.] - ETA: 0s - loss: 0.0142"
     ]
    },
    {
     "name": "stderr",
     "output_type": "stream",
     "text": [
      "C:\\Users\\Theo\\Anaconda3\\envs\\daml\\lib\\site-packages\\keras\\engine\\training_v1.py:2045: UserWarning: `Model.state_updates` will be removed in a future version. This property should not be used in TensorFlow 2.0, as `updates` are applied automatically.\n",
      "  updates = self.state_updates\n"
     ]
    },
    {
     "name": "stdout",
     "output_type": "stream",
     "text": [
      "145180/145180 [==============================] - 11s 76us/sample - loss: 0.0142 - val_loss: 0.0078\n",
      "Epoch 2/5\n",
      "145180/145180 [==============================] - 10s 67us/sample - loss: 0.0069 - val_loss: 0.0061\n",
      "Epoch 3/5\n",
      "145180/145180 [==============================] - 11s 73us/sample - loss: 0.0057 - val_loss: 0.0054\n",
      "Epoch 4/5\n",
      "145180/145180 [==============================] - 10s 69us/sample - loss: 0.0052 - val_loss: 0.0052\n",
      "Epoch 5/5\n",
      "145180/145180 [==============================] - 10s 70us/sample - loss: 0.0050 - val_loss: 0.0049\n"
     ]
    },
    {
     "name": "stderr",
     "output_type": "stream",
     "text": [
      "C:\\Users\\Theo\\Anaconda3\\envs\\daml\\lib\\site-packages\\keras\\engine\\training_v1.py:2067: UserWarning: `Model.state_updates` will be removed in a future version. This property should not be used in TensorFlow 2.0, as `updates` are applied automatically.\n",
      "  updates=self.state_updates,\n"
     ]
    },
    {
     "name": "stdout",
     "output_type": "stream",
     "text": [
      "Train on 145180 samples, validate on 36296 samples\n",
      "Epoch 1/5\n",
      "144700/145180 [============================>.] - ETA: 0s - loss: 0.0138"
     ]
    },
    {
     "name": "stderr",
     "output_type": "stream",
     "text": [
      "C:\\Users\\Theo\\Anaconda3\\envs\\daml\\lib\\site-packages\\keras\\engine\\training_v1.py:2045: UserWarning: `Model.state_updates` will be removed in a future version. This property should not be used in TensorFlow 2.0, as `updates` are applied automatically.\n",
      "  updates = self.state_updates\n"
     ]
    },
    {
     "name": "stdout",
     "output_type": "stream",
     "text": [
      "145180/145180 [==============================] - 10s 66us/sample - loss: 0.0137 - val_loss: 0.0075\n",
      "Epoch 2/5\n",
      "145180/145180 [==============================] - 7s 51us/sample - loss: 0.0068 - val_loss: 0.0064\n",
      "Epoch 3/5\n",
      "145180/145180 [==============================] - 7s 52us/sample - loss: 0.0061 - val_loss: 0.0058\n",
      "Epoch 4/5\n",
      "145180/145180 [==============================] - 8s 52us/sample - loss: 0.0055 - val_loss: 0.0052\n",
      "Epoch 5/5\n",
      "145180/145180 [==============================] - 8s 56us/sample - loss: 0.0051 - val_loss: 0.0050\n"
     ]
    },
    {
     "name": "stderr",
     "output_type": "stream",
     "text": [
      "C:\\Users\\Theo\\Anaconda3\\envs\\daml\\lib\\site-packages\\keras\\engine\\training_v1.py:2067: UserWarning: `Model.state_updates` will be removed in a future version. This property should not be used in TensorFlow 2.0, as `updates` are applied automatically.\n",
      "  updates=self.state_updates,\n"
     ]
    },
    {
     "name": "stdout",
     "output_type": "stream",
     "text": [
      "Train on 145180 samples, validate on 36296 samples\n",
      "Epoch 1/5\n",
      "145180/145180 [==============================] - ETA: 0s - loss: 0.0173"
     ]
    },
    {
     "name": "stderr",
     "output_type": "stream",
     "text": [
      "C:\\Users\\Theo\\Anaconda3\\envs\\daml\\lib\\site-packages\\keras\\engine\\training_v1.py:2045: UserWarning: `Model.state_updates` will be removed in a future version. This property should not be used in TensorFlow 2.0, as `updates` are applied automatically.\n",
      "  updates = self.state_updates\n"
     ]
    },
    {
     "name": "stdout",
     "output_type": "stream",
     "text": [
      "145180/145180 [==============================] - 9s 64us/sample - loss: 0.0173 - val_loss: 0.0098\n",
      "Epoch 2/5\n",
      "145180/145180 [==============================] - 8s 55us/sample - loss: 0.0089 - val_loss: 0.0083\n",
      "Epoch 3/5\n",
      "145180/145180 [==============================] - 8s 53us/sample - loss: 0.0082 - val_loss: 0.0080\n",
      "Epoch 4/5\n",
      "145180/145180 [==============================] - 7s 51us/sample - loss: 0.0078 - val_loss: 0.0076\n",
      "Epoch 5/5\n",
      "145180/145180 [==============================] - 8s 52us/sample - loss: 0.0075 - val_loss: 0.0073\n"
     ]
    },
    {
     "name": "stderr",
     "output_type": "stream",
     "text": [
      "C:\\Users\\Theo\\Anaconda3\\envs\\daml\\lib\\site-packages\\keras\\engine\\training_v1.py:2067: UserWarning: `Model.state_updates` will be removed in a future version. This property should not be used in TensorFlow 2.0, as `updates` are applied automatically.\n",
      "  updates=self.state_updates,\n"
     ]
    },
    {
     "name": "stdout",
     "output_type": "stream",
     "text": [
      "Train on 145180 samples, validate on 36296 samples\n",
      "Epoch 1/5\n",
      "144200/145180 [============================>.] - ETA: 0s - loss: 0.0150"
     ]
    },
    {
     "name": "stderr",
     "output_type": "stream",
     "text": [
      "C:\\Users\\Theo\\Anaconda3\\envs\\daml\\lib\\site-packages\\keras\\engine\\training_v1.py:2045: UserWarning: `Model.state_updates` will be removed in a future version. This property should not be used in TensorFlow 2.0, as `updates` are applied automatically.\n",
      "  updates = self.state_updates\n"
     ]
    },
    {
     "name": "stdout",
     "output_type": "stream",
     "text": [
      "145180/145180 [==============================] - 10s 66us/sample - loss: 0.0150 - val_loss: 0.0096\n",
      "Epoch 2/5\n",
      "145180/145180 [==============================] - 8s 53us/sample - loss: 0.0089 - val_loss: 0.0083\n",
      "Epoch 3/5\n",
      "145180/145180 [==============================] - 8s 55us/sample - loss: 0.0078 - val_loss: 0.0068\n",
      "Epoch 4/5\n",
      "145180/145180 [==============================] - 8s 53us/sample - loss: 0.0064 - val_loss: 0.0062\n",
      "Epoch 5/5\n",
      "145180/145180 [==============================] - 8s 53us/sample - loss: 0.0061 - val_loss: 0.0060\n"
     ]
    },
    {
     "name": "stderr",
     "output_type": "stream",
     "text": [
      "C:\\Users\\Theo\\Anaconda3\\envs\\daml\\lib\\site-packages\\keras\\engine\\training_v1.py:2067: UserWarning: `Model.state_updates` will be removed in a future version. This property should not be used in TensorFlow 2.0, as `updates` are applied automatically.\n",
      "  updates=self.state_updates,\n"
     ]
    },
    {
     "name": "stdout",
     "output_type": "stream",
     "text": [
      "Train on 145180 samples, validate on 36296 samples\n",
      "Epoch 1/5\n",
      "145100/145180 [============================>.] - ETA: 0s - loss: 0.0150"
     ]
    },
    {
     "name": "stderr",
     "output_type": "stream",
     "text": [
      "C:\\Users\\Theo\\Anaconda3\\envs\\daml\\lib\\site-packages\\keras\\engine\\training_v1.py:2045: UserWarning: `Model.state_updates` will be removed in a future version. This property should not be used in TensorFlow 2.0, as `updates` are applied automatically.\n",
      "  updates = self.state_updates\n"
     ]
    },
    {
     "name": "stdout",
     "output_type": "stream",
     "text": [
      "145180/145180 [==============================] - 11s 76us/sample - loss: 0.0150 - val_loss: 0.0088\n",
      "Epoch 2/5\n",
      "145180/145180 [==============================] - 9s 59us/sample - loss: 0.0084 - val_loss: 0.0080\n",
      "Epoch 3/5\n",
      "145180/145180 [==============================] - 9s 59us/sample - loss: 0.0078 - val_loss: 0.0076\n",
      "Epoch 4/5\n",
      "145180/145180 [==============================] - 9s 59us/sample - loss: 0.0075 - val_loss: 0.0074\n",
      "Epoch 5/5\n",
      "145180/145180 [==============================] - 8s 58us/sample - loss: 0.0073 - val_loss: 0.0072\n"
     ]
    },
    {
     "name": "stderr",
     "output_type": "stream",
     "text": [
      "C:\\Users\\Theo\\Anaconda3\\envs\\daml\\lib\\site-packages\\keras\\engine\\training_v1.py:2067: UserWarning: `Model.state_updates` will be removed in a future version. This property should not be used in TensorFlow 2.0, as `updates` are applied automatically.\n",
      "  updates=self.state_updates,\n"
     ]
    },
    {
     "name": "stdout",
     "output_type": "stream",
     "text": [
      "Train on 145180 samples, validate on 36296 samples\n",
      "Epoch 1/5\n",
      "144500/145180 [============================>.] - ETA: 0s - loss: 0.0162"
     ]
    },
    {
     "name": "stderr",
     "output_type": "stream",
     "text": [
      "C:\\Users\\Theo\\Anaconda3\\envs\\daml\\lib\\site-packages\\keras\\engine\\training_v1.py:2045: UserWarning: `Model.state_updates` will be removed in a future version. This property should not be used in TensorFlow 2.0, as `updates` are applied automatically.\n",
      "  updates = self.state_updates\n"
     ]
    },
    {
     "name": "stdout",
     "output_type": "stream",
     "text": [
      "145180/145180 [==============================] - 10s 70us/sample - loss: 0.0162 - val_loss: 0.0101\n",
      "Epoch 2/5\n",
      "145180/145180 [==============================] - 9s 60us/sample - loss: 0.0083 - val_loss: 0.0075\n",
      "Epoch 3/5\n",
      "145180/145180 [==============================] - 9s 59us/sample - loss: 0.0072 - val_loss: 0.0070\n",
      "Epoch 4/5\n",
      "145180/145180 [==============================] - 8s 58us/sample - loss: 0.0069 - val_loss: 0.0067\n",
      "Epoch 5/5\n",
      "145180/145180 [==============================] - 9s 63us/sample - loss: 0.0067 - val_loss: 0.0066\n"
     ]
    },
    {
     "name": "stderr",
     "output_type": "stream",
     "text": [
      "C:\\Users\\Theo\\Anaconda3\\envs\\daml\\lib\\site-packages\\keras\\engine\\training_v1.py:2067: UserWarning: `Model.state_updates` will be removed in a future version. This property should not be used in TensorFlow 2.0, as `updates` are applied automatically.\n",
      "  updates=self.state_updates,\n"
     ]
    },
    {
     "name": "stdout",
     "output_type": "stream",
     "text": [
      "Train on 145180 samples, validate on 36296 samples\n",
      "Epoch 1/5\n",
      "144900/145180 [============================>.] - ETA: 0s - loss: 0.0143"
     ]
    },
    {
     "name": "stderr",
     "output_type": "stream",
     "text": [
      "C:\\Users\\Theo\\Anaconda3\\envs\\daml\\lib\\site-packages\\keras\\engine\\training_v1.py:2045: UserWarning: `Model.state_updates` will be removed in a future version. This property should not be used in TensorFlow 2.0, as `updates` are applied automatically.\n",
      "  updates = self.state_updates\n"
     ]
    },
    {
     "name": "stdout",
     "output_type": "stream",
     "text": [
      "145180/145180 [==============================] - 11s 79us/sample - loss: 0.0143 - val_loss: 0.0081\n",
      "Epoch 2/5\n",
      "145180/145180 [==============================] - 10s 69us/sample - loss: 0.0069 - val_loss: 0.0061\n",
      "Epoch 3/5\n",
      "145180/145180 [==============================] - 9s 61us/sample - loss: 0.0058 - val_loss: 0.0056\n",
      "Epoch 4/5\n",
      "145180/145180 [==============================] - 9s 61us/sample - loss: 0.0052 - val_loss: 0.0049\n",
      "Epoch 5/5\n",
      "145180/145180 [==============================] - 9s 62us/sample - loss: 0.0047 - val_loss: 0.0046\n"
     ]
    },
    {
     "name": "stderr",
     "output_type": "stream",
     "text": [
      "C:\\Users\\Theo\\Anaconda3\\envs\\daml\\lib\\site-packages\\keras\\engine\\training_v1.py:2067: UserWarning: `Model.state_updates` will be removed in a future version. This property should not be used in TensorFlow 2.0, as `updates` are applied automatically.\n",
      "  updates=self.state_updates,\n"
     ]
    },
    {
     "name": "stdout",
     "output_type": "stream",
     "text": [
      "Train on 145180 samples, validate on 36296 samples\n",
      "Epoch 1/5\n",
      "144900/145180 [============================>.] - ETA: 0s - loss: 0.0225"
     ]
    },
    {
     "name": "stderr",
     "output_type": "stream",
     "text": [
      "C:\\Users\\Theo\\Anaconda3\\envs\\daml\\lib\\site-packages\\keras\\engine\\training_v1.py:2045: UserWarning: `Model.state_updates` will be removed in a future version. This property should not be used in TensorFlow 2.0, as `updates` are applied automatically.\n",
      "  updates = self.state_updates\n"
     ]
    },
    {
     "name": "stdout",
     "output_type": "stream",
     "text": [
      "145180/145180 [==============================] - 12s 80us/sample - loss: 0.0225 - val_loss: 0.0178\n",
      "Epoch 2/5\n",
      "145180/145180 [==============================] - 9s 65us/sample - loss: 0.0163 - val_loss: 0.0136\n",
      "Epoch 3/5\n",
      "145180/145180 [==============================] - 10s 66us/sample - loss: 0.0124 - val_loss: 0.0119\n",
      "Epoch 4/5\n",
      "145180/145180 [==============================] - 9s 65us/sample - loss: 0.0118 - val_loss: 0.0116\n",
      "Epoch 5/5\n",
      "145180/145180 [==============================] - 11s 74us/sample - loss: 0.0113 - val_loss: 0.0102\n"
     ]
    },
    {
     "name": "stderr",
     "output_type": "stream",
     "text": [
      "C:\\Users\\Theo\\Anaconda3\\envs\\daml\\lib\\site-packages\\keras\\engine\\training_v1.py:2067: UserWarning: `Model.state_updates` will be removed in a future version. This property should not be used in TensorFlow 2.0, as `updates` are applied automatically.\n",
      "  updates=self.state_updates,\n"
     ]
    },
    {
     "name": "stdout",
     "output_type": "stream",
     "text": [
      "Train on 145180 samples, validate on 36296 samples\n",
      "Epoch 1/5\n",
      "145000/145180 [============================>.] - ETA: 0s - loss: 0.0176"
     ]
    },
    {
     "name": "stderr",
     "output_type": "stream",
     "text": [
      "C:\\Users\\Theo\\Anaconda3\\envs\\daml\\lib\\site-packages\\keras\\engine\\training_v1.py:2045: UserWarning: `Model.state_updates` will be removed in a future version. This property should not be used in TensorFlow 2.0, as `updates` are applied automatically.\n",
      "  updates = self.state_updates\n"
     ]
    },
    {
     "name": "stdout",
     "output_type": "stream",
     "text": [
      "145180/145180 [==============================] - 13s 88us/sample - loss: 0.0176 - val_loss: 0.0098\n",
      "Epoch 2/5\n",
      "145180/145180 [==============================] - 10s 67us/sample - loss: 0.0091 - val_loss: 0.0085\n",
      "Epoch 3/5\n",
      "145180/145180 [==============================] - 10s 67us/sample - loss: 0.0082 - val_loss: 0.0080\n",
      "Epoch 4/5\n",
      "145180/145180 [==============================] - 10s 69us/sample - loss: 0.0080 - val_loss: 0.0078\n",
      "Epoch 5/5\n",
      "145180/145180 [==============================] - 10s 71us/sample - loss: 0.0078 - val_loss: 0.0078\n"
     ]
    },
    {
     "name": "stderr",
     "output_type": "stream",
     "text": [
      "C:\\Users\\Theo\\Anaconda3\\envs\\daml\\lib\\site-packages\\keras\\engine\\training_v1.py:2067: UserWarning: `Model.state_updates` will be removed in a future version. This property should not be used in TensorFlow 2.0, as `updates` are applied automatically.\n",
      "  updates=self.state_updates,\n"
     ]
    },
    {
     "name": "stdout",
     "output_type": "stream",
     "text": [
      "Train on 145180 samples, validate on 36296 samples\n",
      "Epoch 1/5\n",
      "145100/145180 [============================>.] - ETA: 0s - loss: 0.0162"
     ]
    },
    {
     "name": "stderr",
     "output_type": "stream",
     "text": [
      "C:\\Users\\Theo\\Anaconda3\\envs\\daml\\lib\\site-packages\\keras\\engine\\training_v1.py:2045: UserWarning: `Model.state_updates` will be removed in a future version. This property should not be used in TensorFlow 2.0, as `updates` are applied automatically.\n",
      "  updates = self.state_updates\n"
     ]
    },
    {
     "name": "stdout",
     "output_type": "stream",
     "text": [
      "145180/145180 [==============================] - 12s 85us/sample - loss: 0.0162 - val_loss: 0.0091\n",
      "Epoch 2/5\n",
      "145180/145180 [==============================] - 10s 72us/sample - loss: 0.0081 - val_loss: 0.0075\n",
      "Epoch 3/5\n",
      "145180/145180 [==============================] - 10s 72us/sample - loss: 0.0072 - val_loss: 0.0071\n",
      "Epoch 4/5\n",
      "145180/145180 [==============================] - 10s 72us/sample - loss: 0.0068 - val_loss: 0.0067\n",
      "Epoch 5/5\n",
      "145180/145180 [==============================] - 10s 68us/sample - loss: 0.0066 - val_loss: 0.0066\n"
     ]
    },
    {
     "name": "stderr",
     "output_type": "stream",
     "text": [
      "C:\\Users\\Theo\\Anaconda3\\envs\\daml\\lib\\site-packages\\keras\\engine\\training_v1.py:2067: UserWarning: `Model.state_updates` will be removed in a future version. This property should not be used in TensorFlow 2.0, as `updates` are applied automatically.\n",
      "  updates=self.state_updates,\n"
     ]
    },
    {
     "name": "stdout",
     "output_type": "stream",
     "text": [
      "Train on 217771 samples, validate on 54443 samples\n",
      "Epoch 1/5\n",
      "217000/217771 [============================>.] - ETA: 0s - loss: 0.0120"
     ]
    },
    {
     "name": "stderr",
     "output_type": "stream",
     "text": [
      "C:\\Users\\Theo\\Anaconda3\\envs\\daml\\lib\\site-packages\\keras\\engine\\training_v1.py:2045: UserWarning: `Model.state_updates` will be removed in a future version. This property should not be used in TensorFlow 2.0, as `updates` are applied automatically.\n",
      "  updates = self.state_updates\n"
     ]
    },
    {
     "name": "stdout",
     "output_type": "stream",
     "text": [
      "217771/217771 [==============================] - 15s 70us/sample - loss: 0.0119 - val_loss: 0.0072\n",
      "Epoch 2/5\n",
      "217771/217771 [==============================] - 13s 61us/sample - loss: 0.0068 - val_loss: 0.0064\n",
      "Epoch 3/5\n",
      "217771/217771 [==============================] - 13s 62us/sample - loss: 0.0059 - val_loss: 0.0057\n",
      "Epoch 4/5\n",
      "217771/217771 [==============================] - 13s 61us/sample - loss: 0.0056 - val_loss: 0.0055\n",
      "Epoch 5/5\n",
      "217771/217771 [==============================] - 13s 61us/sample - loss: 0.0045 - val_loss: 0.0043\n"
     ]
    }
   ],
   "source": [
    "grid.fit(X_train, X_train, batch_size = 100, shuffle = True, validation_split = 0.2)\n",
    "best_params = grid.best_params_  #get the best parameters found by the gridsearch "
   ]
  },
  {
   "cell_type": "code",
   "execution_count": 9,
   "id": "caf4d6f3",
   "metadata": {},
   "outputs": [],
   "source": [
    "#save the best parameters\n",
    "with open('best_params.pickle', 'wb') as handle:\n",
    "    pickle.dump(best_params, handle, protocol=pickle.HIGHEST_PROTOCOL)\n",
    "    "
   ]
  },
  {
   "cell_type": "code",
   "execution_count": 10,
   "id": "c4d3f545",
   "metadata": {},
   "outputs": [
    {
     "name": "stdout",
     "output_type": "stream",
     "text": [
      "{'act_func': 'linear', 'first_dense_dim': 256, 'num_dense_layers': 1, 'regularization_factor': 0.0001}\n"
     ]
    }
   ],
   "source": [
    "print(best_params)"
   ]
  },
  {
   "cell_type": "code",
   "execution_count": null,
   "id": "cc91e9b9",
   "metadata": {},
   "outputs": [],
   "source": []
  },
  {
   "cell_type": "code",
   "execution_count": null,
   "id": "6a9534c3",
   "metadata": {},
   "outputs": [],
   "source": []
  }
 ],
 "metadata": {
  "kernelspec": {
   "display_name": "Python 3 (ipykernel)",
   "language": "python",
   "name": "python3"
  },
  "language_info": {
   "codemirror_mode": {
    "name": "ipython",
    "version": 3
   },
   "file_extension": ".py",
   "mimetype": "text/x-python",
   "name": "python",
   "nbconvert_exporter": "python",
   "pygments_lexer": "ipython3",
   "version": "3.9.13"
  }
 },
 "nbformat": 4,
 "nbformat_minor": 5
}
