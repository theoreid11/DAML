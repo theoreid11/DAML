{
 "cells": [
  {
   "cell_type": "code",
   "execution_count": 4,
   "metadata": {},
   "outputs": [],
   "source": [
    "import numpy as np\n",
    "import random\n",
    "from matplotlib import pyplot as plt\n",
    "import pandas as pd\n",
    "from iminuit import Minuit"
   ]
  },
  {
   "cell_type": "code",
   "execution_count": 2,
   "metadata": {},
   "outputs": [],
   "source": [
    "#Open data file and read the lines into a list \n",
    "with open('datafile-exp.txt') as f:\n",
    "    lines = f.readlines()\n",
    "    \n",
    "decay_t = np.array(lines, dtype = float)         #Create an array from the list of decay times\n",
    "f.close()"
   ]
  },
  {
   "cell_type": "code",
   "execution_count": 3,
   "metadata": {},
   "outputs": [
    {
     "data": {
      "image/png": "[encoded data removed]",
      "text/plain": [
       "<Figure size 640x480 with 1 Axes>"
      ]
     },
     "metadata": {},
     "output_type": "display_data"
    }
   ],
   "source": [
    "nbins = 100                                                        #Define number of bins\n",
    "entries, binedges, patches =plt.hist(decay_t,bins = nbins)         #Plot histogram of decay times \n",
    "plt.xlabel(\"decay times (microseconds)\")\n",
    "plt.ylabel(\"counts\")\n",
    "plt.title(\"Decay times histogram\")\n",
    "plt.show()"
   ]
  },
  {
   "cell_type": "code",
   "execution_count": 4,
   "metadata": {},
   "outputs": [],
   "source": [
    "#Function which outputs results from maximum likelihood fit\n",
    "def showIminuitResult( params, theMinuit ):\n",
    "\n",
    "    fstr = \"{0:8.4f}\"\n",
    "    #For loop that prints value and corresponding error for every parameter\n",
    "    for pn in params :\n",
    "        val = theMinuit.values[pn]\n",
    "        err = theMinuit.errors[pn]\n",
    "        print('\\t','{:15s}'.format(pn), ':  \\t', fstr.format(val), ' +/- ', fstr.format(err))\n",
    "        \n",
    "    print('\\n')\n",
    "\n"
   ]
  },
  {
   "cell_type": "code",
   "execution_count": 5,
   "metadata": {},
   "outputs": [],
   "source": [
    "#function which calculates the negative log of the joint likelihood of decay prob. density function normalised over infinity\n",
    "#Parameter to be estimated is the lifetime tau\n",
    "def NLL(tau):  \n",
    "    #Equation for decay probability density function normalised over infinity \n",
    "    return -np.sum(np.log((1/tau)*np.exp(-decay_t/tau)))     \n",
    "\n"
   ]
  },
  {
   "cell_type": "code",
   "execution_count": 6,
   "metadata": {},
   "outputs": [],
   "source": [
    "#function which calculates the negative log of the joint likelihood of decay prob. density function normalised from [0,10]\n",
    "def NLL_correctly_normed(tau):\n",
    "    #Equation for decay probability density function normalised from [0,10]\n",
    "    return -np.sum(np.log((1/(tau*(np.exp(-0/tau)-np.exp(-10/tau))))*np.exp(-decay_t/tau)))\n"
   ]
  },
  {
   "cell_type": "code",
   "execution_count": 7,
   "metadata": {},
   "outputs": [],
   "source": [
    "def run_minim(min_func):\n",
    "    params = [\"tau\"]\n",
    "    #Setting values to start at and estimated errors. \n",
    "    startvals = {params[0] : 2.2 }                #Estimate tau parameter at 2.2\n",
    "    theMinuit = Minuit(min_func, **startvals)     #run Minuit optimiser with with NLL function.\n",
    "    theMinuit.errors=0.1                          #Errors on initial start value\n",
    "    \n",
    "    #Nll increases by 0.5 when you go to either side of the minimum by one unit error on the parameter\n",
    "    theMinuit.errordef=0.5                        #Set errordef to 0.5 since this a log-likelihood function\n",
    "\n",
    "    #Run the minimisation\n",
    "    result = theMinuit.migrad()\n",
    "    return params, theMinuit\n",
    "\n",
    "\n"
   ]
  },
  {
   "cell_type": "code",
   "execution_count": 8,
   "metadata": {},
   "outputs": [
    {
     "name": "stdout",
     "output_type": "stream",
     "text": [
      "\n",
      "Minuit Results for incorrectly normalised PDF (in microseconds)\n",
      "\t tau             :  \t   2.0961  +/-    0.0210\n",
      "\n",
      "\n",
      "\n",
      "Minuit Results  for correctly normalised PDF (in microseconds)\n",
      "\t tau             :  \t   2.2043  +/-    0.0250\n",
      "\n",
      "\n"
     ]
    }
   ],
   "source": [
    "def main():\n",
    "    \n",
    "    #call run_minim function with the parameter NLL normalised over infinity\n",
    "    #The function returns calculated parameters and corresponding errors.\n",
    "    params,theMinuit = run_minim(NLL)\n",
    "    \n",
    "    print (\"\\nMinuit Results for incorrectly normalised PDF (in microseconds)\")\n",
    "    showIminuitResult( params, theMinuit )  #call function that outputs results\n",
    "    \n",
    "    #call run_minim function with the parameter NLL normalised over [0,10]\n",
    "    #The function returns calculated parameters and corresponding errors.\n",
    "    params,theMinuit = run_minim(NLL_correctly_normed)\n",
    "    \n",
    "    print (\"\\nMinuit Results  for correctly normalised PDF (in microseconds)\")\n",
    "    showIminuitResult( params, theMinuit )  #call function that outputs results\n",
    "main()\n"
   ]
  },
  {
   "cell_type": "code",
   "execution_count": 9,
   "metadata": {},
   "outputs": [
    {
     "data": {
      "text/plain": [
       "'\\nThere is a difference of approximately 0.1s between the two calculated lifetime values. The first value printed corresponds to\\nthe case where the PDF has been normalised over a range of 0 and infinity which is incorrect because the data has been generated\\n0 and 10. The value does not agree with the literature value of tau = 2.2 microseconds since the upper bound of the estimated \\ntau = 2.09+0.02 = 2.11 microseconds. The second value printed corresponds to the case where the pdf has been correctly \\nnormalised, over the range [0,10]. This calculated value lies within the its error of the literature value of tau, since \\n2.204-0.025 = 2.179 <2.2, and 2.2043 > 2.2. \\n\\nThe incorrectly normalised pdf fit is smaller than the true value because it assumes that the data has been generated between \\n0 and infinity. However, our data has been generated from a region defined between 0 and 10, so when normalised with a \\nnormalisation factor over 0 to infinity, the integral of the normalised probability is less than 1 and we get a value of tau\\nthat is too low.\\n'"
      ]
     },
     "execution_count": 9,
     "metadata": {},
     "output_type": "execute_result"
    }
   ],
   "source": [
    "\"\"\"\n",
    "There is a difference of approximately 0.1s between the two calculated lifetime values. The first value printed corresponds to\n",
    "the case where the PDF has been normalised over a range of 0 and infinity which is incorrect because the data has been generated\n",
    "0 and 10. The value does not agree with the literature value of tau = 2.2 microseconds since the upper bound of the estimated \n",
    "tau = 2.09+0.02 = 2.11 microseconds. The second value printed corresponds to the case where the pdf has been correctly \n",
    "normalised, over the range [0,10]. This calculated value lies within the its error of the literature value of tau, since \n",
    "2.204-0.025 = 2.179 <2.2, and 2.2043 > 2.2. \n",
    "\n",
    "The incorrectly normalised pdf fit is smaller than the true value because it assumes that the data has been generated between \n",
    "0 and infinity. However, our data has been generated from a region defined between 0 and 10, so when normalised with a \n",
    "normalisation factor over 0 to infinity, the integral of the normalised probability is less than 1 and we get a value of tau\n",
    "that is too low.\n",
    "\"\"\""
   ]
  },
  {
   "cell_type": "code",
   "execution_count": 10,
   "metadata": {},
   "outputs": [],
   "source": [
    "#Q2)\n",
    "\n",
    "#Open data file and read the lines into a list \n",
    "with open('datafile-expresonance.txt') as f:\n",
    "    lines = f.readlines()\n",
    "    \n",
    "t = np.array(lines, dtype = float)\n",
    "f.close()"
   ]
  },
  {
   "cell_type": "code",
   "execution_count": 11,
   "metadata": {},
   "outputs": [
    {
     "data": {
      "image/png": "[encoded data removed]",
      "text/plain": [
       "<Figure size 640x480 with 1 Axes>"
      ]
     },
     "metadata": {},
     "output_type": "display_data"
    }
   ],
   "source": [
    "nbins = 100                                            #Define number of bins \n",
    "entries, binedges, patches =plt.hist(t,bins = nbins)   #Plot histogram of decay times \n",
    "plt.xlabel(\"time (microseconds)\")\n",
    "plt.ylabel(\"counts\")\n",
    "plt.title(\"mass distribution histogram\")\n",
    "plt.show()"
   ]
  },
  {
   "cell_type": "code",
   "execution_count": 12,
   "metadata": {},
   "outputs": [],
   "source": [
    "#function which calculates the decay prob. density function normalised over [0,10].\n",
    "def pdf_exp(tau):\n",
    "    return (1/(tau*(np.exp(-0/tau)-np.exp(-10/tau))))*np.exp(-t/tau)   #decay pdf normalised over [0,10]\n",
    "\n",
    "#function which calculates the Gaussian prob. density function normalised over a fixed width of 0.2 sigma.\n",
    "def pdf_Gaus(mu): \n",
    "    sig = 0.2       #Fixed width of Gaussian\n",
    "    return (1/np.sqrt(2*np.pi*sig**2))*np.exp((-(t-mu)**2)/(2*sig**2)) #normalised Gaussian pdf\n",
    "\n",
    "#function which calculates the negative log of the joint likelihood of the combined probability function.\n",
    "#The parameters to be estimated are the lifetime (tau), the mean of the Gaussian (mu) and the fraction (f)\n",
    "\n",
    "def NLLpdf(tau, mu,f):\n",
    "    exp_fn = pdf_exp(tau)    #call function which returns decay pdf\n",
    "    Gaus_fn = pdf_Gaus(mu)   #call function which returns Gaussian pdf\n",
    "   \n",
    "    return -np.sum(np.log((1-f)*Gaus_fn+(f)*exp_fn))  #return negative log of joint likelihood \n",
    "    \n",
    "    "
   ]
  },
  {
   "cell_type": "code",
   "execution_count": 13,
   "metadata": {},
   "outputs": [],
   "source": [
    "def run_minim2(min_func):\n",
    "    params = [\"tau\",\"mu\",\"f\"]     #Three parameters to be calculated\n",
    "    \n",
    "    startvals = {params[0] : 5,params[1] : 2.5,params[2] :0.9 } #give intial parameter estimates as a dictionary\n",
    "    theMinuit = Minuit(min_func, **startvals)    #Run optimiser with initial parameter guesses\n",
    "    #initial estimate of errors on the initial start values\n",
    "    theMinuit.errors=[0.1,0.1,0.1]\n",
    "    \n",
    "    #Nll increases by 0.5 when you go to either side of the minimum by one unit error on the parameter\n",
    "    theMinuit.errordef=0.5                   #Set errordef to 0.5 since this a log-likelihood function\n",
    "\n",
    "    #Run the minimisation\n",
    "    result = theMinuit.migrad()\n",
    "    return params, theMinuit\n"
   ]
  },
  {
   "cell_type": "code",
   "execution_count": 14,
   "metadata": {},
   "outputs": [
    {
     "name": "stdout",
     "output_type": "stream",
     "text": [
      "\n",
      "Minuit Results\n",
      "\t tau             :  \t   5.0432  +/-    0.1027\n",
      "\t mu              :  \t   2.4998  +/-    0.0118\n",
      "\t f               :  \t   0.9029  +/-    0.0045\n",
      "\n",
      "\n",
      "Where tau and mu are in microseconds while f is a probability in range (0,1)\n"
     ]
    }
   ],
   "source": [
    "def main2():\n",
    "    #Print result\n",
    "   \n",
    "    params,theMinuit = run_minim2(NLLpdf)\n",
    "    \n",
    "    print (\"\\nMinuit Results\")\n",
    "    showIminuitResult( params, theMinuit )\n",
    "    print('Where tau and mu are in microseconds while f is a probability in range (0,1)')\n",
    "\n",
    "main2()\n"
   ]
  },
  {
   "cell_type": "code",
   "execution_count": 15,
   "metadata": {},
   "outputs": [
    {
     "data": {
      "text/plain": [
       "'\\nThe lifetime is 5.0432 +/- 0.1027 microseconds which agrees with the given value of 5 microseconds. The calculate mean of \\nthe Gaussian, 2.4998 +/- 0.0118 microseconds is very accurate to the given value of 2.5 microseconds. Finally, the calculated\\nprobability, f = 0.9029 +/- 0.0045, is also in agreement with the given probability of 0.9.\\n\\nWe can conclude that the fits were successful since we have accurate estimations for all three parameters.\\n\\n\\n\\n\\n'"
      ]
     },
     "execution_count": 15,
     "metadata": {},
     "output_type": "execute_result"
    }
   ],
   "source": [
    "\"\"\"\n",
    "The lifetime is 5.0432 +/- 0.1027 microseconds which agrees with the given value of 5 microseconds. The calculate mean of \n",
    "the Gaussian, 2.4998 +/- 0.0118 microseconds is very accurate to the given value of 2.5 microseconds. Finally, the calculated\n",
    "probability, f = 0.9029 +/- 0.0045, is also in agreement with the given probability of 0.9.\n",
    "\n",
    "We can conclude that the fits were successful since we have accurate estimations for all three parameters.\n",
    "\n",
    "\n",
    "\n",
    "\n",
    "\"\"\""
   ]
  },
  {
   "cell_type": "code",
   "execution_count": null,
   "metadata": {},
   "outputs": [],
   "source": []
  }
 ],
 "metadata": {
  "kernelspec": {
   "display_name": "Python 3",
   "language": "python",
   "name": "python3"
  },
  "language_info": {
   "codemirror_mode": {
    "name": "ipython",
    "version": 3
   },
   "file_extension": ".py",
   "mimetype": "text/x-python",
   "name": "python",
   "nbconvert_exporter": "python",
   "pygments_lexer": "ipython3",
   "version": "3.7.4"
  }
 },
 "nbformat": 4,
 "nbformat_minor": 5
}
