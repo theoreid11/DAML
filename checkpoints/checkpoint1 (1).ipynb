{
 "cells": [
  {
   "cell_type": "markdown",
   "metadata": {},
   "source": [
    "# Checkpoint 1: Neural networks and deep learning\n",
    "---\n",
    "*Responsible:* Guillermo Hamity (<ghamity@ed.ac.uk>)\n",
    "\n",
    "In this checkpoint exercise, we will use neural networks to predict the **type** of weather *given* the available ground observations. You will be using observation data from **June 2019** across all UK Met Office weather stations.\n",
    "\n",
    "### Notes on the Dataset\n",
    "* You will be using weather observation data from the UK Met Office Datapoint service\n",
    "* Ground observations are made hourly at weather stations across the length of the UK \n",
    "* The data sample covers data from June 2019\n",
    "* Data collections for each day starts at 6.30pm. All observation data is listed in one day blocks\n",
    "* The time value column refers to the number of minutes after midnight \n",
    "* `Null` values for some features are expected (e.g. Wind Gust)\n",
    "* Data import and preparation is already provided \n",
    "\n",
    "\n",
    "This week, I am not providing example notebooks like `lecture2.ipynb` and `data-science-tools.ipynb` for Unit 2, though these may still be useful to you. Instead, I am **providing the imports for all of the modules and classes that you should need.** Think of these as LEGO blocks; you have the ones you need but may look up how to \"assemble\" them.\n",
    "\n",
    "### Notes on assessment\n",
    "* Try and calculate the answers to the exercises provided. If you are unable to complete the question, describe which approach you _would_ have taken to solve the problem\n",
    "* Code must be understandable and reproducible. Before grading the notebook kernel **may** be restarted and re-run, so make sure that your code can run from start to finish without any (unintentional) errors\n",
    "* If you are unsure on how to proceed please **ask one of the TAs** during the workshop\n",
    "- Notebooks should be submitted by **10am on Friday 9 October 2021** \n",
    "- This CP exercise sheet is divided into **6 sections**, corresponding to parts of the lecture, giving a maximum of **10 marks** in total:\n",
    "\n",
    "| <p align='left'> Title                         | <p align='left'> Exercise nos. | <p align='left'> Number of marks |\n",
    "| ------------------------------------- | ----- | --- |\n",
    "| <p align='left'> 1. Conceptual questions               | <p align='left'>  1–5  | <p align='left'> 3 |\n",
    "| <p align='left'> 2. Data preprocessing and RandomForest                | <p align='left'>  6–9  | <p align='left'> 2. |\n",
    "| <p align='left'> 3. Neural networks in `scikit-learn`  | <p align='left'>  10–11 | <p align='left'> 1.5 | \n",
    "| <p align='left'> 4. Neural networks in `Keras`         | <p align='left'> 12–13 | <p align='left'> 2 |\n",
    "| <p align='left'> 5. Regularisation                     | <p align='left'> 14–15 | <p align='left'> 1.5 |\n",
    "| <p align='left'> **Total** | | <p align='left'> **10** |\n",
    "\n",
    "- The total number of marks allocated for this CP is 10,\n",
    "    - 1 additional mark can be given (maximimally up to 10 marks in total) for \"bonus\" exercise on hyperparameter optimisation. If you are pressed for time, focus on the first five sections; those are the core ones.\n",
    "    - Half marks may be deducted for code legibility (i.e. very difficult to tell what you are doing), or for badly formated plots (i.e. no legends, axis labels etc.). The TAs will use their discression for this so comment code when applicable and keep relevant information in your plots.\n",
    "\n",
    "_Note:_ You can suppress double-printing of plots from the `plot` module by either _(a)_ adding a semicolon after the function call (_i.e._ `plot.<method>(...);`), or _(b)_ by capturing the return `pyplot.Figure` object as a variable (_i.e._ `fig = plot.<method>(...)`)."
   ]
  },
  {
   "cell_type": "markdown",
   "metadata": {},
   "source": [
    "## Preamble"
   ]
  },
  {
   "cell_type": "code",
   "execution_count": 2,
   "metadata": {},
   "outputs": [],
   "source": [
    "# Standard import(s)\n",
    "import numpy as np\n",
    "import pandas as pd\n",
    "import random as rn\n",
    "import sklearn\n",
    "import tensorflow as tf\n",
    "import matplotlib.pyplot as plt\n",
    "import seaborn as sns\n",
    "import os\n",
    "from sklearn.inspection import PartialDependenceDisplay\n",
    "%matplotlib inline\n",
    "\n",
    "\n",
    "from sklearn import metrics\n",
    "\n",
    "# Suppress unnecessary ConvergenceWarnings and DeprecationWarnings\n",
    "import warnings\n",
    "from sklearn.exceptions import ConvergenceWarning\n",
    "warnings.filterwarnings(action='ignore', category=ConvergenceWarning)\n",
    "warnings.filterwarnings(action='ignore', category=DeprecationWarning)\n",
    "\n",
    "# Set a random seed variable to make workbook reproducible\n",
    "seed=5\n",
    "np.random.seed(seed)\n",
    "rn.seed(seed)\n",
    "os.environ['PYTHONHASHSEED']=str(seed)\n",
    "tf.compat.v1.set_random_seed(seed)\n",
    "\n",
    "# Switch off multi-threading for TensorFlow\n",
    "from tensorflow.python.keras import backend as K\n",
    "config = tf.compat.v1.ConfigProto(intra_op_parallelism_threads=1,\n",
    "                                  inter_op_parallelism_threads=1)\n",
    "sess = tf.compat.v1.Session(graph=tf.compat.v1.get_default_graph(), config=config)\n",
    "K.set_session(sess)"
   ]
  },
  {
   "cell_type": "code",
   "execution_count": 3,
   "metadata": {},
   "outputs": [
    {
     "data": {
      "text/html": [
       "<div>\n",
       "<style scoped>\n",
       "    .dataframe tbody tr th:only-of-type {\n",
       "        vertical-align: middle;\n",
       "    }\n",
       "\n",
       "    .dataframe tbody tr th {\n",
       "        vertical-align: top;\n",
       "    }\n",
       "\n",
       "    .dataframe thead th {\n",
       "        text-align: right;\n",
       "    }\n",
       "</style>\n",
       "<table border=\"1\" class=\"dataframe\">\n",
       "  <thead>\n",
       "    <tr style=\"text-align: right;\">\n",
       "      <th></th>\n",
       "      <th>StationID</th>\n",
       "      <th>StationName</th>\n",
       "      <th>Elevation</th>\n",
       "      <th>Latitude</th>\n",
       "      <th>Longitude</th>\n",
       "      <th>Date</th>\n",
       "      <th>Time</th>\n",
       "      <th>Gust</th>\n",
       "      <th>Temperature</th>\n",
       "      <th>Visibility</th>\n",
       "      <th>WindDirection</th>\n",
       "      <th>WindSpeed</th>\n",
       "      <th>Pressure</th>\n",
       "      <th>PressureTrend</th>\n",
       "      <th>DewPoint</th>\n",
       "      <th>Humidity</th>\n",
       "      <th>Type</th>\n",
       "    </tr>\n",
       "  </thead>\n",
       "  <tbody>\n",
       "    <tr>\n",
       "      <th>0</th>\n",
       "      <td>3002</td>\n",
       "      <td>BALTASOUND</td>\n",
       "      <td>15.0</td>\n",
       "      <td>60.749</td>\n",
       "      <td>-0.854</td>\n",
       "      <td>2018-05-31</td>\n",
       "      <td>1020</td>\n",
       "      <td>NaN</td>\n",
       "      <td>16.1</td>\n",
       "      <td>30000.0</td>\n",
       "      <td>E</td>\n",
       "      <td>8.0</td>\n",
       "      <td>1019.0</td>\n",
       "      <td>F</td>\n",
       "      <td>11.6</td>\n",
       "      <td>74.5</td>\n",
       "      <td>0</td>\n",
       "    </tr>\n",
       "    <tr>\n",
       "      <th>1</th>\n",
       "      <td>3002</td>\n",
       "      <td>BALTASOUND</td>\n",
       "      <td>15.0</td>\n",
       "      <td>60.749</td>\n",
       "      <td>-0.854</td>\n",
       "      <td>2018-05-31</td>\n",
       "      <td>1080</td>\n",
       "      <td>NaN</td>\n",
       "      <td>14.9</td>\n",
       "      <td>22000.0</td>\n",
       "      <td>E</td>\n",
       "      <td>8.0</td>\n",
       "      <td>1019.0</td>\n",
       "      <td>F</td>\n",
       "      <td>11.8</td>\n",
       "      <td>81.5</td>\n",
       "      <td>0</td>\n",
       "    </tr>\n",
       "    <tr>\n",
       "      <th>2</th>\n",
       "      <td>3002</td>\n",
       "      <td>BALTASOUND</td>\n",
       "      <td>15.0</td>\n",
       "      <td>60.749</td>\n",
       "      <td>-0.854</td>\n",
       "      <td>2018-05-31</td>\n",
       "      <td>1140</td>\n",
       "      <td>NaN</td>\n",
       "      <td>14.0</td>\n",
       "      <td>14000.0</td>\n",
       "      <td>E</td>\n",
       "      <td>6.0</td>\n",
       "      <td>1018.0</td>\n",
       "      <td>F</td>\n",
       "      <td>11.6</td>\n",
       "      <td>85.4</td>\n",
       "      <td>0</td>\n",
       "    </tr>\n",
       "    <tr>\n",
       "      <th>3</th>\n",
       "      <td>3002</td>\n",
       "      <td>BALTASOUND</td>\n",
       "      <td>15.0</td>\n",
       "      <td>60.749</td>\n",
       "      <td>-0.854</td>\n",
       "      <td>2018-05-31</td>\n",
       "      <td>1200</td>\n",
       "      <td>NaN</td>\n",
       "      <td>12.9</td>\n",
       "      <td>12000.0</td>\n",
       "      <td>ENE</td>\n",
       "      <td>2.0</td>\n",
       "      <td>1019.0</td>\n",
       "      <td>R</td>\n",
       "      <td>11.0</td>\n",
       "      <td>88.1</td>\n",
       "      <td>0</td>\n",
       "    </tr>\n",
       "    <tr>\n",
       "      <th>4</th>\n",
       "      <td>3002</td>\n",
       "      <td>BALTASOUND</td>\n",
       "      <td>15.0</td>\n",
       "      <td>60.749</td>\n",
       "      <td>-0.854</td>\n",
       "      <td>2018-05-31</td>\n",
       "      <td>1260</td>\n",
       "      <td>NaN</td>\n",
       "      <td>12.0</td>\n",
       "      <td>9000.0</td>\n",
       "      <td>E</td>\n",
       "      <td>2.0</td>\n",
       "      <td>1019.0</td>\n",
       "      <td>R</td>\n",
       "      <td>10.9</td>\n",
       "      <td>92.9</td>\n",
       "      <td>1</td>\n",
       "    </tr>\n",
       "  </tbody>\n",
       "</table>\n",
       "</div>"
      ],
      "text/plain": [
       "   StationID StationName  Elevation  Latitude  Longitude        Date  Time  \\\n",
       "0       3002  BALTASOUND       15.0    60.749     -0.854  2018-05-31  1020   \n",
       "1       3002  BALTASOUND       15.0    60.749     -0.854  2018-05-31  1080   \n",
       "2       3002  BALTASOUND       15.0    60.749     -0.854  2018-05-31  1140   \n",
       "3       3002  BALTASOUND       15.0    60.749     -0.854  2018-05-31  1200   \n",
       "4       3002  BALTASOUND       15.0    60.749     -0.854  2018-05-31  1260   \n",
       "\n",
       "   Gust  Temperature  Visibility WindDirection  WindSpeed  Pressure  \\\n",
       "0   NaN         16.1     30000.0             E        8.0    1019.0   \n",
       "1   NaN         14.9     22000.0             E        8.0    1019.0   \n",
       "2   NaN         14.0     14000.0             E        6.0    1018.0   \n",
       "3   NaN         12.9     12000.0           ENE        2.0    1019.0   \n",
       "4   NaN         12.0      9000.0             E        2.0    1019.0   \n",
       "\n",
       "  PressureTrend  DewPoint  Humidity  Type  \n",
       "0             F      11.6      74.5     0  \n",
       "1             F      11.8      81.5     0  \n",
       "2             F      11.6      85.4     0  \n",
       "3             R      11.0      88.1     0  \n",
       "4             R      10.9      92.9     1  "
      ]
     },
     "execution_count": 3,
     "metadata": {},
     "output_type": "execute_result"
    }
   ],
   "source": [
    "# Load in the prepared weather data\n",
    "obs = pd.read_csv('weather.csv')\n",
    "obs.head()"
   ]
  },
  {
   "cell_type": "code",
   "execution_count": 4,
   "metadata": {},
   "outputs": [
    {
     "data": {
      "text/plain": [
       "(106553, 17)"
      ]
     },
     "execution_count": 4,
     "metadata": {},
     "output_type": "execute_result"
    }
   ],
   "source": [
    "obs.shape"
   ]
  },
  {
   "cell_type": "code",
   "execution_count": 5,
   "metadata": {},
   "outputs": [
    {
     "data": {
      "text/html": [
       "<div>\n",
       "<style scoped>\n",
       "    .dataframe tbody tr th:only-of-type {\n",
       "        vertical-align: middle;\n",
       "    }\n",
       "\n",
       "    .dataframe tbody tr th {\n",
       "        vertical-align: top;\n",
       "    }\n",
       "\n",
       "    .dataframe thead th {\n",
       "        text-align: right;\n",
       "    }\n",
       "</style>\n",
       "<table border=\"1\" class=\"dataframe\">\n",
       "  <thead>\n",
       "    <tr style=\"text-align: right;\">\n",
       "      <th></th>\n",
       "      <th>StationID</th>\n",
       "      <th>Elevation</th>\n",
       "      <th>Latitude</th>\n",
       "      <th>Longitude</th>\n",
       "      <th>Time</th>\n",
       "      <th>Gust</th>\n",
       "      <th>Temperature</th>\n",
       "      <th>Visibility</th>\n",
       "      <th>WindSpeed</th>\n",
       "      <th>Pressure</th>\n",
       "      <th>DewPoint</th>\n",
       "      <th>Humidity</th>\n",
       "      <th>Type</th>\n",
       "    </tr>\n",
       "  </thead>\n",
       "  <tbody>\n",
       "    <tr>\n",
       "      <th>count</th>\n",
       "      <td>106553.000000</td>\n",
       "      <td>106553.000000</td>\n",
       "      <td>106553.000000</td>\n",
       "      <td>106553.000000</td>\n",
       "      <td>106553.000000</td>\n",
       "      <td>7703.000000</td>\n",
       "      <td>106442.000000</td>\n",
       "      <td>92662.000000</td>\n",
       "      <td>102060.000000</td>\n",
       "      <td>99530.000000</td>\n",
       "      <td>106402.000000</td>\n",
       "      <td>106397.000000</td>\n",
       "      <td>106553.00000</td>\n",
       "    </tr>\n",
       "    <tr>\n",
       "      <th>mean</th>\n",
       "      <td>6147.845636</td>\n",
       "      <td>114.466594</td>\n",
       "      <td>53.673022</td>\n",
       "      <td>-2.829034</td>\n",
       "      <td>702.914418</td>\n",
       "      <td>33.043749</td>\n",
       "      <td>14.958912</td>\n",
       "      <td>25698.164404</td>\n",
       "      <td>8.999510</td>\n",
       "      <td>1018.748337</td>\n",
       "      <td>10.348008</td>\n",
       "      <td>76.185240</td>\n",
       "      <td>0.99603</td>\n",
       "    </tr>\n",
       "    <tr>\n",
       "      <th>std</th>\n",
       "      <td>15821.503845</td>\n",
       "      <td>171.669120</td>\n",
       "      <td>2.466079</td>\n",
       "      <td>2.269594</td>\n",
       "      <td>412.057262</td>\n",
       "      <td>13.424855</td>\n",
       "      <td>4.294516</td>\n",
       "      <td>14263.873943</td>\n",
       "      <td>6.087882</td>\n",
       "      <td>6.327468</td>\n",
       "      <td>3.120565</td>\n",
       "      <td>17.208653</td>\n",
       "      <td>0.92971</td>\n",
       "    </tr>\n",
       "    <tr>\n",
       "      <th>min</th>\n",
       "      <td>3002.000000</td>\n",
       "      <td>2.000000</td>\n",
       "      <td>49.207900</td>\n",
       "      <td>-10.250000</td>\n",
       "      <td>0.000000</td>\n",
       "      <td>0.000000</td>\n",
       "      <td>-1.200000</td>\n",
       "      <td>20.000000</td>\n",
       "      <td>0.000000</td>\n",
       "      <td>976.000000</td>\n",
       "      <td>-28.200000</td>\n",
       "      <td>0.800000</td>\n",
       "      <td>0.00000</td>\n",
       "    </tr>\n",
       "    <tr>\n",
       "      <th>25%</th>\n",
       "      <td>3204.000000</td>\n",
       "      <td>20.000000</td>\n",
       "      <td>51.565000</td>\n",
       "      <td>-4.149000</td>\n",
       "      <td>360.000000</td>\n",
       "      <td>29.000000</td>\n",
       "      <td>12.000000</td>\n",
       "      <td>14000.000000</td>\n",
       "      <td>5.000000</td>\n",
       "      <td>1015.000000</td>\n",
       "      <td>8.400000</td>\n",
       "      <td>65.300000</td>\n",
       "      <td>0.00000</td>\n",
       "    </tr>\n",
       "    <tr>\n",
       "      <th>50%</th>\n",
       "      <td>3414.000000</td>\n",
       "      <td>65.000000</td>\n",
       "      <td>53.175000</td>\n",
       "      <td>-2.663000</td>\n",
       "      <td>720.000000</td>\n",
       "      <td>32.000000</td>\n",
       "      <td>14.500000</td>\n",
       "      <td>25000.000000</td>\n",
       "      <td>8.000000</td>\n",
       "      <td>1018.000000</td>\n",
       "      <td>10.500000</td>\n",
       "      <td>79.200000</td>\n",
       "      <td>1.00000</td>\n",
       "    </tr>\n",
       "    <tr>\n",
       "      <th>75%</th>\n",
       "      <td>3769.000000</td>\n",
       "      <td>132.000000</td>\n",
       "      <td>55.285000</td>\n",
       "      <td>-1.097000</td>\n",
       "      <td>1020.000000</td>\n",
       "      <td>39.000000</td>\n",
       "      <td>17.500000</td>\n",
       "      <td>35000.000000</td>\n",
       "      <td>11.000000</td>\n",
       "      <td>1024.000000</td>\n",
       "      <td>12.500000</td>\n",
       "      <td>90.000000</td>\n",
       "      <td>1.00000</td>\n",
       "    </tr>\n",
       "    <tr>\n",
       "      <th>max</th>\n",
       "      <td>99142.000000</td>\n",
       "      <td>1245.000000</td>\n",
       "      <td>60.749000</td>\n",
       "      <td>1.348000</td>\n",
       "      <td>1380.000000</td>\n",
       "      <td>105.000000</td>\n",
       "      <td>31.600000</td>\n",
       "      <td>75000.000000</td>\n",
       "      <td>81.000000</td>\n",
       "      <td>1036.000000</td>\n",
       "      <td>22.700000</td>\n",
       "      <td>100.000000</td>\n",
       "      <td>3.00000</td>\n",
       "    </tr>\n",
       "  </tbody>\n",
       "</table>\n",
       "</div>"
      ],
      "text/plain": [
       "           StationID      Elevation       Latitude      Longitude  \\\n",
       "count  106553.000000  106553.000000  106553.000000  106553.000000   \n",
       "mean     6147.845636     114.466594      53.673022      -2.829034   \n",
       "std     15821.503845     171.669120       2.466079       2.269594   \n",
       "min      3002.000000       2.000000      49.207900     -10.250000   \n",
       "25%      3204.000000      20.000000      51.565000      -4.149000   \n",
       "50%      3414.000000      65.000000      53.175000      -2.663000   \n",
       "75%      3769.000000     132.000000      55.285000      -1.097000   \n",
       "max     99142.000000    1245.000000      60.749000       1.348000   \n",
       "\n",
       "                Time         Gust    Temperature    Visibility      WindSpeed  \\\n",
       "count  106553.000000  7703.000000  106442.000000  92662.000000  102060.000000   \n",
       "mean      702.914418    33.043749      14.958912  25698.164404       8.999510   \n",
       "std       412.057262    13.424855       4.294516  14263.873943       6.087882   \n",
       "min         0.000000     0.000000      -1.200000     20.000000       0.000000   \n",
       "25%       360.000000    29.000000      12.000000  14000.000000       5.000000   \n",
       "50%       720.000000    32.000000      14.500000  25000.000000       8.000000   \n",
       "75%      1020.000000    39.000000      17.500000  35000.000000      11.000000   \n",
       "max      1380.000000   105.000000      31.600000  75000.000000      81.000000   \n",
       "\n",
       "           Pressure       DewPoint       Humidity          Type  \n",
       "count  99530.000000  106402.000000  106397.000000  106553.00000  \n",
       "mean    1018.748337      10.348008      76.185240       0.99603  \n",
       "std        6.327468       3.120565      17.208653       0.92971  \n",
       "min      976.000000     -28.200000       0.800000       0.00000  \n",
       "25%     1015.000000       8.400000      65.300000       0.00000  \n",
       "50%     1018.000000      10.500000      79.200000       1.00000  \n",
       "75%     1024.000000      12.500000      90.000000       1.00000  \n",
       "max     1036.000000      22.700000     100.000000       3.00000  "
      ]
     },
     "execution_count": 5,
     "metadata": {},
     "output_type": "execute_result"
    }
   ],
   "source": [
    "obs.describe()"
   ]
  },
  {
   "cell_type": "markdown",
   "metadata": {},
   "source": [
    "For this exercise we will use **8** input features (provided) and clean the data:"
   ]
  },
  {
   "cell_type": "code",
   "execution_count": 6,
   "metadata": {},
   "outputs": [],
   "source": [
    "# Define 8 input feature variables, 1 target variable data, and names of the 3 weather types\n",
    "features = ['Latitude', 'Elevation', 'Temperature', 'Visibility', 'WindSpeed', 'Pressure', 'Humidity', 'WindDirection']\n",
    "output   = ['Type']\n",
    "wtype    = ['Clear', 'Cloudy', 'Precip']"
   ]
  },
  {
   "cell_type": "markdown",
   "metadata": {},
   "source": [
    "Define derived dataset containing only the relevant columns and rows."
   ]
  },
  {
   "cell_type": "code",
   "execution_count": 7,
   "metadata": {},
   "outputs": [
    {
     "data": {
      "text/plain": [
       "(86313, 9)"
      ]
     },
     "execution_count": 7,
     "metadata": {},
     "output_type": "execute_result"
    }
   ],
   "source": [
    "# Reduce to feature and type columns\n",
    "dataset = obs[features + output]\n",
    "\n",
    "# Drop duplicates and null values \n",
    "dataset = dataset.drop_duplicates().dropna()\n",
    "\n",
    "# Drop unrecorded weather type\n",
    "dataset = dataset[dataset.Type != 3]\n",
    "\n",
    "# Check shape \n",
    "dataset.shape"
   ]
  },
  {
   "cell_type": "markdown",
   "metadata": {},
   "source": [
    "## 1. Conceptual questions (3 Marks)\n",
    "---\n",
    "This section covers **5** exercises on conceptual understanding of neural networks."
   ]
  },
  {
   "cell_type": "markdown",
   "metadata": {},
   "source": [
    "#### 1.1. Which are the most used activation functions and why do we (typically) need non-linear activation functions in neural networks? (0.5 mark)"
   ]
  },
  {
   "cell_type": "code",
   "execution_count": 8,
   "metadata": {},
   "outputs": [],
   "source": [
    "#Sigmoid activation, RelU, Softmax and tanh\n",
    "#We need non-linear functions so that the neural network can do more complex tasks. In order to perform backpropogation, we \n",
    "#need to differentiate a non-linear function otherwise the derivative is constant and thus independent of the input.\n",
    "#Linear functions are composed of linear parts so Hidden layers would be useless without non-linear activation functions."
   ]
  },
  {
   "cell_type": "markdown",
   "metadata": {},
   "source": [
    "#### 1.2. Why do we need deep neural networks and which are the main differences between deep and shallow learning? (0.5 Mark)"
   ]
  },
  {
   "cell_type": "markdown",
   "metadata": {},
   "source": [
    "#The performance of Deep learning algorithms scales much better with the amount of data than other learning algorithms \n",
    "#making it more accurate and high performance on when given complex tasks.\n",
    "#Deep neural networks are able to get the relevant features whereas for shallow neural networks we must provide them.\n",
    "#Deep neural networks have two or more hidden layers\n",
    "#Deep neural networks can make use of high dimensional data whereas shallow neural networks cannot.\n"
   ]
  },
  {
   "cell_type": "markdown",
   "metadata": {},
   "source": [
    "#### 1.3. Discuss the Bias-variance trade-off and its relation to underfitting and overfitting of a model. Which are the caractheristics of an ideal model?  (0.5 mark)"
   ]
  },
  {
   "cell_type": "code",
   "execution_count": 9,
   "metadata": {},
   "outputs": [],
   "source": [
    "#If you increase the bias of an algorithm  then you decrease the variance and vice versa. This is the Biad-variance trade-off.\n",
    "#An algorithm with low bias and high variance has been overfit (High loss on trsting data)\n",
    "#An algorithm with high bias and low variance has been underfit (poor performance on training data)\n",
    "#Ideal models have a low bias and a low variance.\n"
   ]
  },
  {
   "cell_type": "markdown",
   "metadata": {},
   "source": [
    "#### 1.4. Given a neural network with 4 input nodes, 2 layers with 5 nodes each, and 1 output node, what is the total number of free (trainable) parameters in the network? Does it matter which activation function(s) are used?  (0.5 mark)"
   ]
  },
  {
   "cell_type": "code",
   "execution_count": 10,
   "metadata": {},
   "outputs": [],
   "source": [
    "#free parameters from bias = 5 x 2 + 1 = 11\n",
    "#free parameters from connections between layers = (4x5)+(5x5) + (5x1) = 20+25+5 = 50\n",
    "\n",
    "#free paramaters = 61\n",
    "#this is independent of the activation function"
   ]
  },
  {
   "cell_type": "markdown",
   "metadata": {},
   "source": [
    "#### 1.5. What are appropriate choice for _(a)_ the number of output nodes and _(b)_ output activation function(s) for each of the following tasks, and why? (0.5 mark)"
   ]
  },
  {
   "cell_type": "markdown",
   "metadata": {},
   "source": [
    "1. Regression of the $x$, $y$, and $z$ coordinates of a single particle in an arbitrary coordinate system\n",
    "2. Regression of particle energy of a single particle\n",
    "3. Classification of two processes (signal vs. background)\n",
    "4. Classification among *N* classes (dog vs. cat vs. fish vs. ...)"
   ]
  },
  {
   "cell_type": "code",
   "execution_count": 11,
   "metadata": {},
   "outputs": [],
   "source": [
    "#1.a) 3 output nodes ,b) RelU, because it is fast to converge and avoids vanishing gradients\n",
    "#2.a) 1 output node  ,b) RelU, because it is fast to converge and avoids vanishing gradients\n",
    "#3.a) 2 output nodes ,b) sigmoid function because it only exists between 0 and 1 which is useful since we want probability outputs.\n",
    "#4.a) N output nodes ,b) softmax activation function, because it assigns 0 to 1 that must sum to 1 between all classes"
   ]
  },
  {
   "cell_type": "markdown",
   "metadata": {},
   "source": [
    "**1.6. Given some data points and regression/classification problem, write the appropite cost function and compare your solution to that from sklearn (0.5 marks)** "
   ]
  },
  {
   "cell_type": "markdown",
   "metadata": {},
   "source": [
    "**Regression** \n",
    "\n",
    "A good **loss function** for regression is the **Mean Squared Error**. \n",
    "\n",
    "For $N$ samples with targets $Y$, our prediction $\\bar{Y}$ has an MSE of:\n",
    "\n",
    "\n",
    "$\\mathrm{MSE} = \\frac{\\sum[(\\bar{Y}-Y)^2]}{N}$"
   ]
  },
  {
   "cell_type": "code",
   "execution_count": 12,
   "metadata": {},
   "outputs": [],
   "source": [
    "## Regression Problem\n",
    "\n",
    "# 3 Targets for regression \n",
    "Y = np.array([0.,1.,0.5])\n",
    "# 3 Predicted values (at random)\n",
    "YPred = np.random.rand(3)"
   ]
  },
  {
   "cell_type": "code",
   "execution_count": 13,
   "metadata": {},
   "outputs": [],
   "source": [
    "#cost function (Mean Square Error):\n",
    "def mse(YPred,Y):\n",
    "    error = np.sum((YPred-Y)**2)/len(Y) #equation for mean squared error target Y\n",
    "    return error"
   ]
  },
  {
   "cell_type": "code",
   "execution_count": 14,
   "metadata": {},
   "outputs": [
    {
     "name": "stdout",
     "output_type": "stream",
     "text": [
      "My MSE function is Correct\n"
     ]
    }
   ],
   "source": [
    "# Comparing our function to the sklearn MSE\n",
    "prediction = np.random.rand(Y.shape[0])\n",
    "print (\"My MSE function is {}\".format(\"Correct\" if mse(prediction,Y) == metrics.mean_squared_error(prediction,Y) else \"Wrong\"))"
   ]
  },
  {
   "cell_type": "markdown",
   "metadata": {},
   "source": [
    "**Classification**\n",
    "\n",
    "Log Loss from the lecture notes is appropiate for binary classification, where our prediction is a probaility of `label = 1`."
   ]
  },
  {
   "cell_type": "code",
   "execution_count": 15,
   "metadata": {},
   "outputs": [],
   "source": [
    "#10 Random class labels (0 or 1)\n",
    "Y = np.random.randint(0,2,10)\n",
    "# 10 Random Probabilities\n",
    "YPred = np.random.rand(10)"
   ]
  },
  {
   "cell_type": "code",
   "execution_count": 16,
   "metadata": {},
   "outputs": [],
   "source": [
    "def logloss(YPred,Y):\n",
    "    logerror = (-1/len(Y))*np.sum((Y*np.log(YPred))+(1-Y)*np.log(1-YPred)) #equation for logloss with target Y\n",
    "    return logerror"
   ]
  },
  {
   "cell_type": "code",
   "execution_count": 17,
   "metadata": {},
   "outputs": [
    {
     "data": {
      "text/plain": [
       "True"
      ]
     },
     "execution_count": 17,
     "metadata": {},
     "output_type": "execute_result"
    }
   ],
   "source": [
    "# Check it matches the sklearn log_loss\n",
    "logloss(YPred,Y) == metrics.log_loss(Y.astype(int),YPred)"
   ]
  },
  {
   "cell_type": "markdown",
   "metadata": {},
   "source": [
    "## 2. Data preprocessing and RTs (2 mark)\n",
    "---\n",
    "This section covers **4** exercises on data preparation, feature standardisation, and dataset splitting."
   ]
  },
  {
   "cell_type": "code",
   "execution_count": 18,
   "metadata": {},
   "outputs": [],
   "source": [
    "# Relevant import(s) for this section\n",
    "from sklearn import tree\n",
    "from sklearn.tree import DecisionTreeClassifier, plot_tree\n",
    "from sklearn.tree import export_graphviz\n",
    "from sklearn.model_selection import train_test_split # Import train_test_split function\n",
    "from sklearn import metrics # Import scikit-learn metrics module for accuracy calculation\n",
    "from sklearn import preprocessing # Import preprocessing for String-Int conversion\n",
    "from sklearn.compose import ColumnTransformer\n",
    "from sklearn.preprocessing import OneHotEncoder, StandardScaler, MinMaxScaler\n",
    "from sklearn.model_selection import train_test_split"
   ]
  },
  {
   "cell_type": "markdown",
   "metadata": {},
   "source": [
    "---\n",
    "**_Comment on target format and one-hot encoding:_** By default, the target column (`Type`) contains one integer (0, 1, or 2) for each example, the integer specifying one of three possible types of weather. However, for doing multi-class classification (which this is), we want our neural network to have one output node per class (_i.e._ 3 output nodes in this case), such that the activation of each output node is interpreted as the likelihood for a given sample being of the type in question. Therefore, the target should also be a 3-element vector for each sample; this vector should be all zeros, except for a $1$ at the index corresponding to the type in question. This is called **one-hot encoding**, and a few examples are shown below:\n",
    "\n",
    "- type = 0 $\\to$ one-hot = $[1, 0, 0]$ for 3 classes\n",
    "- type = 1 $\\to$ one-hot = $[0, 1, 0]$ for 3 classes\n",
    "- type = 2 $\\to$ one-hot = $[0, 0, 1]$ for 3 classes\n",
    "\n",
    "This is the target towards which a neural network classifier is trained: That is, ideally, for an example of type 0, the network will output a large activation ($\\approx 1$) on the first output node (interpreted as a large likelihood for the first weather type), and very small activations ($\\ll 1$) on the two other output nodes (intepreted as small likelihoods for the two other weather types); and so on.\n",
    "\n",
    "The same type of one-hot encoding can be performed for any number of target classes $N_{c}$, which just results in $N_{c}$-element target vectors with a single non-zero entry each.\n",
    "\n",
    "To be user friendly, however, `scikit-learn` allows us to use integer targets for multi-class classification — it does the one-hot encoding for us \"under the hood.\" Similarly, `keras`, _can_ also allow us to use integer targets for multi-class classification, provided we use the appropropriate loss (`sparse_categorical_crossentropy`). Otherwise (if we use `categorical_crossentropy` loss), it expects one-hot encoded targets. Which approach you choose is up to you — but now you know what goes on.\n",
    "\n",
    "---"
   ]
  },
  {
   "cell_type": "markdown",
   "metadata": {},
   "source": [
    "#### 2.1. Prepare the feature and target arrays (0.5 mark)\n",
    "- Randomly sample **3,500** observations per weather type (**10,500** observations in total) from `dataset` into a new `pandas.DataFrame`; call it `sample`.\n",
    "- One-hot encode the **wind direction** variable (_i.e._ $N$ to $[1, 0, \\ldots, 0]$, $NNE$ to $[0, 1, \\ldots, 0]$, _etc._ ), to allow us to input it to the neural network. There are 16 unique directions so we need to transform 1 feature into 16 features.\n",
    "The exact order of the encoding (_i.e._ which direction corresponds to which index) doesn't matter. *Hint:*\n",
    "  - *Either:* Use the scikit-learn `ColumnTransformer` with the `OneHotEncoder` applied to the `WindDirection` column, and let the remainder of the features pass through un-transformed.\n",
    "  - *Or:* Use the `OneHotEncoder` class directly on the `WindDirection` column (use `sparse=False` in the `OneHotEncoder` constructor), and then concatenate with a `numpy.array` containing the remaining features.\n",
    "- Define `numpy.arrays` named `X` and `y` containing the training features (the 7 unmodified ones plus the one-hot encoded wind directions) and target, respectively.\n",
    "- Argue whether the shapes of `X` and `y` are as expected/as they should be.\n"
   ]
  },
  {
   "cell_type": "code",
   "execution_count": 19,
   "metadata": {},
   "outputs": [
    {
     "name": "stdout",
     "output_type": "stream",
     "text": [
      "[0, 1, 2, 3, 4, 5, 6, 7, 8, 9, 10, 11, 12, 13, 14, 15, 'Latitude', 'Elevation', 'Temperature', 'Visibility', 'WindSpeed', 'Pressure', 'Humidity']\n"
     ]
    }
   ],
   "source": [
    "#For convenience concatenate the wind direction and other features \n",
    "# in the order that you can use this feature name variable\n",
    "feature_names = list(range(16))+features[:-1]\n",
    "print(feature_names)"
   ]
  },
  {
   "cell_type": "code",
   "execution_count": 20,
   "metadata": {},
   "outputs": [],
   "source": [
    "#shuffle dataset\n",
    "\n",
    "\n",
    "dataset = dataset.sample(frac = 1).reset_index(drop=True)  \n",
    "#put 3500 observations for each weather type into a list of 3\n",
    "frames =[dataset[dataset.Type == 0].head(3500),dataset[dataset.Type == 1].head(3500),dataset[dataset.Type == 2].head(3500)] \n",
    "#concatenate list to create 10500x9 dataframe\n",
    "sample = pd.concat(frames)\n",
    "\n",
    "#One-hot encode WindDirection ie split feature (index 7) into 16 features \n",
    "transformer = ColumnTransformer(transformers = [('',OneHotEncoder(),[7])],remainder = 'passthrough')\n",
    "\n",
    "transformed = transformer.fit_transform(sample)\n",
    "transformed_sample = pd.DataFrame(transformed,columns = transformer.get_feature_names_out())\n",
    "\n"
   ]
  },
  {
   "cell_type": "code",
   "execution_count": 21,
   "metadata": {},
   "outputs": [
    {
     "name": "stdout",
     "output_type": "stream",
     "text": [
      "(10500, 23)\n",
      "(10500,)\n"
     ]
    }
   ],
   "source": [
    "#Separate features and target into X and y arrays respectively\n",
    "X = transformed_sample[transformed_sample.columns[0:23]].values\n",
    "\n",
    "#flatten y array to 1D\n",
    "y = sample['Type'].values.flatten()\n",
    "print(X.shape)\n",
    "print(y.shape)\n",
    "#X is (10500,23) which means it includes all 10500 data points,7 of the original features, and 16 wind direction colums \n",
    "#y is (10500,) since it is one row containing the target values for all datapoints.\n"
   ]
  },
  {
   "cell_type": "markdown",
   "metadata": {},
   "source": [
    "#### 2.2. Train a Random Forest, evaluate performance, explore features (1.5 mark)\n",
    "\n",
    "Decision trees work well with a mixture of features (of different scales, and both binary and continuous data), so we will train a random forest to do the job of categorisation.\n",
    "\n",
    "You are given the train test split (70% training):"
   ]
  },
  {
   "cell_type": "code",
   "execution_count": 22,
   "metadata": {},
   "outputs": [
    {
     "name": "stdout",
     "output_type": "stream",
     "text": [
      "(7350, 23) (3150, 23) (7350,)\n"
     ]
    }
   ],
   "source": [
    "#Import random fosets and confusion matrix metric\n",
    "from sklearn.ensemble import RandomForestClassifier\n",
    "from sklearn.metrics import confusion_matrix,ConfusionMatrixDisplay, plot_confusion_matrix\n",
    "from sklearn.model_selection import GridSearchCV\n",
    "\n",
    "# split dataset into training set and test set\n",
    "x_train, x_test, y_train, y_test = train_test_split(X, y, test_size=0.3, random_state=1) # 70% training and 30% test\n",
    "print(x_train.shape,x_test.shape,y_train.ravel().shape)"
   ]
  },
  {
   "cell_type": "markdown",
   "metadata": {},
   "source": [
    "1. Train a `RandomForestClassifier` with a `GridSearchCV` over the following input parameters to the mode'. Split the dataset into only 3 cross validation folds to make it a little faster (Hint: see `GreidSearchCV` function documentation)\n",
    "2. Check the overal accuaracy on the testing set\n",
    "3. What is the best set of hyperparametrs the scan has found? \n",
    "\n",
    "*Hint:* the final random forest that is chosen can be returned with th the `best_estimator_` member of the `GridSearchCV` object"
   ]
  },
  {
   "cell_type": "code",
   "execution_count": 23,
   "metadata": {},
   "outputs": [],
   "source": [
    "# We scan a broad range of parameters to use for the RandomForest\n",
    "rf_dic={\n",
    "    \"n_estimators\":[10,50,200,500],\n",
    "    \"max_features\": [\"sqrt\",\"log2\"],\n",
    "    \"criterion\": [\"gini\"],\n",
    "    \"max_depth\": [4,8,30]\n",
    "    }"
   ]
  },
  {
   "cell_type": "code",
   "execution_count": 24,
   "metadata": {},
   "outputs": [
    {
     "ename": "KeyboardInterrupt",
     "evalue": "",
     "output_type": "error",
     "traceback": [
      "\u001b[1;31m---------------------------------------------------------------------------\u001b[0m",
      "\u001b[1;31mKeyboardInterrupt\u001b[0m                         Traceback (most recent call last)",
      "Cell \u001b[1;32mIn [24], line 5\u001b[0m\n\u001b[0;32m      3\u001b[0m \u001b[38;5;66;03m#Perform a random forest with gridsearch\u001b[39;00m\n\u001b[0;32m      4\u001b[0m grid_search \u001b[38;5;241m=\u001b[39m GridSearchCV(rfc,rf_dic,n_jobs\u001b[38;5;241m=\u001b[39m\u001b[38;5;241m7\u001b[39m, cv \u001b[38;5;241m=\u001b[39m \u001b[38;5;241m3\u001b[39m)\n\u001b[1;32m----> 5\u001b[0m grid_search\u001b[38;5;241m.\u001b[39mfit(x_train, y_train)\n",
      "File \u001b[1;32m~\\Anaconda3\\envs\\daml\\lib\\site-packages\\sklearn\\model_selection\\_search.py:875\u001b[0m, in \u001b[0;36mBaseSearchCV.fit\u001b[1;34m(self, X, y, groups, **fit_params)\u001b[0m\n\u001b[0;32m    869\u001b[0m     results \u001b[38;5;241m=\u001b[39m \u001b[38;5;28mself\u001b[39m\u001b[38;5;241m.\u001b[39m_format_results(\n\u001b[0;32m    870\u001b[0m         all_candidate_params, n_splits, all_out, all_more_results\n\u001b[0;32m    871\u001b[0m     )\n\u001b[0;32m    873\u001b[0m     \u001b[38;5;28;01mreturn\u001b[39;00m results\n\u001b[1;32m--> 875\u001b[0m \u001b[38;5;28;43mself\u001b[39;49m\u001b[38;5;241;43m.\u001b[39;49m\u001b[43m_run_search\u001b[49m\u001b[43m(\u001b[49m\u001b[43mevaluate_candidates\u001b[49m\u001b[43m)\u001b[49m\n\u001b[0;32m    877\u001b[0m \u001b[38;5;66;03m# multimetric is determined here because in the case of a callable\u001b[39;00m\n\u001b[0;32m    878\u001b[0m \u001b[38;5;66;03m# self.scoring the return type is only known after calling\u001b[39;00m\n\u001b[0;32m    879\u001b[0m first_test_score \u001b[38;5;241m=\u001b[39m all_out[\u001b[38;5;241m0\u001b[39m][\u001b[38;5;124m\"\u001b[39m\u001b[38;5;124mtest_scores\u001b[39m\u001b[38;5;124m\"\u001b[39m]\n",
      "File \u001b[1;32m~\\Anaconda3\\envs\\daml\\lib\\site-packages\\sklearn\\model_selection\\_search.py:1379\u001b[0m, in \u001b[0;36mGridSearchCV._run_search\u001b[1;34m(self, evaluate_candidates)\u001b[0m\n\u001b[0;32m   1377\u001b[0m \u001b[38;5;28;01mdef\u001b[39;00m \u001b[38;5;21m_run_search\u001b[39m(\u001b[38;5;28mself\u001b[39m, evaluate_candidates):\n\u001b[0;32m   1378\u001b[0m     \u001b[38;5;124;03m\"\"\"Search all candidates in param_grid\"\"\"\u001b[39;00m\n\u001b[1;32m-> 1379\u001b[0m     \u001b[43mevaluate_candidates\u001b[49m\u001b[43m(\u001b[49m\u001b[43mParameterGrid\u001b[49m\u001b[43m(\u001b[49m\u001b[38;5;28;43mself\u001b[39;49m\u001b[38;5;241;43m.\u001b[39;49m\u001b[43mparam_grid\u001b[49m\u001b[43m)\u001b[49m\u001b[43m)\u001b[49m\n",
      "File \u001b[1;32m~\\Anaconda3\\envs\\daml\\lib\\site-packages\\sklearn\\model_selection\\_search.py:822\u001b[0m, in \u001b[0;36mBaseSearchCV.fit.<locals>.evaluate_candidates\u001b[1;34m(candidate_params, cv, more_results)\u001b[0m\n\u001b[0;32m    814\u001b[0m \u001b[38;5;28;01mif\u001b[39;00m \u001b[38;5;28mself\u001b[39m\u001b[38;5;241m.\u001b[39mverbose \u001b[38;5;241m>\u001b[39m \u001b[38;5;241m0\u001b[39m:\n\u001b[0;32m    815\u001b[0m     \u001b[38;5;28mprint\u001b[39m(\n\u001b[0;32m    816\u001b[0m         \u001b[38;5;124m\"\u001b[39m\u001b[38;5;124mFitting \u001b[39m\u001b[38;5;132;01m{0}\u001b[39;00m\u001b[38;5;124m folds for each of \u001b[39m\u001b[38;5;132;01m{1}\u001b[39;00m\u001b[38;5;124m candidates,\u001b[39m\u001b[38;5;124m\"\u001b[39m\n\u001b[0;32m    817\u001b[0m         \u001b[38;5;124m\"\u001b[39m\u001b[38;5;124m totalling \u001b[39m\u001b[38;5;132;01m{2}\u001b[39;00m\u001b[38;5;124m fits\u001b[39m\u001b[38;5;124m\"\u001b[39m\u001b[38;5;241m.\u001b[39mformat(\n\u001b[0;32m    818\u001b[0m             n_splits, n_candidates, n_candidates \u001b[38;5;241m*\u001b[39m n_splits\n\u001b[0;32m    819\u001b[0m         )\n\u001b[0;32m    820\u001b[0m     )\n\u001b[1;32m--> 822\u001b[0m out \u001b[38;5;241m=\u001b[39m \u001b[43mparallel\u001b[49m\u001b[43m(\u001b[49m\n\u001b[0;32m    823\u001b[0m \u001b[43m    \u001b[49m\u001b[43mdelayed\u001b[49m\u001b[43m(\u001b[49m\u001b[43m_fit_and_score\u001b[49m\u001b[43m)\u001b[49m\u001b[43m(\u001b[49m\n\u001b[0;32m    824\u001b[0m \u001b[43m        \u001b[49m\u001b[43mclone\u001b[49m\u001b[43m(\u001b[49m\u001b[43mbase_estimator\u001b[49m\u001b[43m)\u001b[49m\u001b[43m,\u001b[49m\n\u001b[0;32m    825\u001b[0m \u001b[43m        \u001b[49m\u001b[43mX\u001b[49m\u001b[43m,\u001b[49m\n\u001b[0;32m    826\u001b[0m \u001b[43m        \u001b[49m\u001b[43my\u001b[49m\u001b[43m,\u001b[49m\n\u001b[0;32m    827\u001b[0m \u001b[43m        \u001b[49m\u001b[43mtrain\u001b[49m\u001b[38;5;241;43m=\u001b[39;49m\u001b[43mtrain\u001b[49m\u001b[43m,\u001b[49m\n\u001b[0;32m    828\u001b[0m \u001b[43m        \u001b[49m\u001b[43mtest\u001b[49m\u001b[38;5;241;43m=\u001b[39;49m\u001b[43mtest\u001b[49m\u001b[43m,\u001b[49m\n\u001b[0;32m    829\u001b[0m \u001b[43m        \u001b[49m\u001b[43mparameters\u001b[49m\u001b[38;5;241;43m=\u001b[39;49m\u001b[43mparameters\u001b[49m\u001b[43m,\u001b[49m\n\u001b[0;32m    830\u001b[0m \u001b[43m        \u001b[49m\u001b[43msplit_progress\u001b[49m\u001b[38;5;241;43m=\u001b[39;49m\u001b[43m(\u001b[49m\u001b[43msplit_idx\u001b[49m\u001b[43m,\u001b[49m\u001b[43m \u001b[49m\u001b[43mn_splits\u001b[49m\u001b[43m)\u001b[49m\u001b[43m,\u001b[49m\n\u001b[0;32m    831\u001b[0m \u001b[43m        \u001b[49m\u001b[43mcandidate_progress\u001b[49m\u001b[38;5;241;43m=\u001b[39;49m\u001b[43m(\u001b[49m\u001b[43mcand_idx\u001b[49m\u001b[43m,\u001b[49m\u001b[43m \u001b[49m\u001b[43mn_candidates\u001b[49m\u001b[43m)\u001b[49m\u001b[43m,\u001b[49m\n\u001b[0;32m    832\u001b[0m \u001b[43m        \u001b[49m\u001b[38;5;241;43m*\u001b[39;49m\u001b[38;5;241;43m*\u001b[39;49m\u001b[43mfit_and_score_kwargs\u001b[49m\u001b[43m,\u001b[49m\n\u001b[0;32m    833\u001b[0m \u001b[43m    \u001b[49m\u001b[43m)\u001b[49m\n\u001b[0;32m    834\u001b[0m \u001b[43m    \u001b[49m\u001b[38;5;28;43;01mfor\u001b[39;49;00m\u001b[43m \u001b[49m\u001b[43m(\u001b[49m\u001b[43mcand_idx\u001b[49m\u001b[43m,\u001b[49m\u001b[43m \u001b[49m\u001b[43mparameters\u001b[49m\u001b[43m)\u001b[49m\u001b[43m,\u001b[49m\u001b[43m \u001b[49m\u001b[43m(\u001b[49m\u001b[43msplit_idx\u001b[49m\u001b[43m,\u001b[49m\u001b[43m \u001b[49m\u001b[43m(\u001b[49m\u001b[43mtrain\u001b[49m\u001b[43m,\u001b[49m\u001b[43m \u001b[49m\u001b[43mtest\u001b[49m\u001b[43m)\u001b[49m\u001b[43m)\u001b[49m\u001b[43m \u001b[49m\u001b[38;5;129;43;01min\u001b[39;49;00m\u001b[43m \u001b[49m\u001b[43mproduct\u001b[49m\u001b[43m(\u001b[49m\n\u001b[0;32m    835\u001b[0m \u001b[43m        \u001b[49m\u001b[38;5;28;43menumerate\u001b[39;49m\u001b[43m(\u001b[49m\u001b[43mcandidate_params\u001b[49m\u001b[43m)\u001b[49m\u001b[43m,\u001b[49m\u001b[43m \u001b[49m\u001b[38;5;28;43menumerate\u001b[39;49m\u001b[43m(\u001b[49m\u001b[43mcv\u001b[49m\u001b[38;5;241;43m.\u001b[39;49m\u001b[43msplit\u001b[49m\u001b[43m(\u001b[49m\u001b[43mX\u001b[49m\u001b[43m,\u001b[49m\u001b[43m \u001b[49m\u001b[43my\u001b[49m\u001b[43m,\u001b[49m\u001b[43m \u001b[49m\u001b[43mgroups\u001b[49m\u001b[43m)\u001b[49m\u001b[43m)\u001b[49m\n\u001b[0;32m    836\u001b[0m \u001b[43m    \u001b[49m\u001b[43m)\u001b[49m\n\u001b[0;32m    837\u001b[0m \u001b[43m\u001b[49m\u001b[43m)\u001b[49m\n\u001b[0;32m    839\u001b[0m \u001b[38;5;28;01mif\u001b[39;00m \u001b[38;5;28mlen\u001b[39m(out) \u001b[38;5;241m<\u001b[39m \u001b[38;5;241m1\u001b[39m:\n\u001b[0;32m    840\u001b[0m     \u001b[38;5;28;01mraise\u001b[39;00m \u001b[38;5;167;01mValueError\u001b[39;00m(\n\u001b[0;32m    841\u001b[0m         \u001b[38;5;124m\"\u001b[39m\u001b[38;5;124mNo fits were performed. \u001b[39m\u001b[38;5;124m\"\u001b[39m\n\u001b[0;32m    842\u001b[0m         \u001b[38;5;124m\"\u001b[39m\u001b[38;5;124mWas the CV iterator empty? \u001b[39m\u001b[38;5;124m\"\u001b[39m\n\u001b[0;32m    843\u001b[0m         \u001b[38;5;124m\"\u001b[39m\u001b[38;5;124mWere there no candidates?\u001b[39m\u001b[38;5;124m\"\u001b[39m\n\u001b[0;32m    844\u001b[0m     )\n",
      "File \u001b[1;32m~\\Anaconda3\\envs\\daml\\lib\\site-packages\\joblib\\parallel.py:1098\u001b[0m, in \u001b[0;36mParallel.__call__\u001b[1;34m(self, iterable)\u001b[0m\n\u001b[0;32m   1095\u001b[0m     \u001b[38;5;28mself\u001b[39m\u001b[38;5;241m.\u001b[39m_iterating \u001b[38;5;241m=\u001b[39m \u001b[38;5;28;01mFalse\u001b[39;00m\n\u001b[0;32m   1097\u001b[0m \u001b[38;5;28;01mwith\u001b[39;00m \u001b[38;5;28mself\u001b[39m\u001b[38;5;241m.\u001b[39m_backend\u001b[38;5;241m.\u001b[39mretrieval_context():\n\u001b[1;32m-> 1098\u001b[0m     \u001b[38;5;28;43mself\u001b[39;49m\u001b[38;5;241;43m.\u001b[39;49m\u001b[43mretrieve\u001b[49m\u001b[43m(\u001b[49m\u001b[43m)\u001b[49m\n\u001b[0;32m   1099\u001b[0m \u001b[38;5;66;03m# Make sure that we get a last message telling us we are done\u001b[39;00m\n\u001b[0;32m   1100\u001b[0m elapsed_time \u001b[38;5;241m=\u001b[39m time\u001b[38;5;241m.\u001b[39mtime() \u001b[38;5;241m-\u001b[39m \u001b[38;5;28mself\u001b[39m\u001b[38;5;241m.\u001b[39m_start_time\n",
      "File \u001b[1;32m~\\Anaconda3\\envs\\daml\\lib\\site-packages\\joblib\\parallel.py:975\u001b[0m, in \u001b[0;36mParallel.retrieve\u001b[1;34m(self)\u001b[0m\n\u001b[0;32m    973\u001b[0m \u001b[38;5;28;01mtry\u001b[39;00m:\n\u001b[0;32m    974\u001b[0m     \u001b[38;5;28;01mif\u001b[39;00m \u001b[38;5;28mgetattr\u001b[39m(\u001b[38;5;28mself\u001b[39m\u001b[38;5;241m.\u001b[39m_backend, \u001b[38;5;124m'\u001b[39m\u001b[38;5;124msupports_timeout\u001b[39m\u001b[38;5;124m'\u001b[39m, \u001b[38;5;28;01mFalse\u001b[39;00m):\n\u001b[1;32m--> 975\u001b[0m         \u001b[38;5;28mself\u001b[39m\u001b[38;5;241m.\u001b[39m_output\u001b[38;5;241m.\u001b[39mextend(\u001b[43mjob\u001b[49m\u001b[38;5;241;43m.\u001b[39;49m\u001b[43mget\u001b[49m\u001b[43m(\u001b[49m\u001b[43mtimeout\u001b[49m\u001b[38;5;241;43m=\u001b[39;49m\u001b[38;5;28;43mself\u001b[39;49m\u001b[38;5;241;43m.\u001b[39;49m\u001b[43mtimeout\u001b[49m\u001b[43m)\u001b[49m)\n\u001b[0;32m    976\u001b[0m     \u001b[38;5;28;01melse\u001b[39;00m:\n\u001b[0;32m    977\u001b[0m         \u001b[38;5;28mself\u001b[39m\u001b[38;5;241m.\u001b[39m_output\u001b[38;5;241m.\u001b[39mextend(job\u001b[38;5;241m.\u001b[39mget())\n",
      "File \u001b[1;32m~\\Anaconda3\\envs\\daml\\lib\\site-packages\\joblib\\_parallel_backends.py:567\u001b[0m, in \u001b[0;36mLokyBackend.wrap_future_result\u001b[1;34m(future, timeout)\u001b[0m\n\u001b[0;32m    564\u001b[0m \u001b[38;5;124;03m\"\"\"Wrapper for Future.result to implement the same behaviour as\u001b[39;00m\n\u001b[0;32m    565\u001b[0m \u001b[38;5;124;03mAsyncResults.get from multiprocessing.\"\"\"\u001b[39;00m\n\u001b[0;32m    566\u001b[0m \u001b[38;5;28;01mtry\u001b[39;00m:\n\u001b[1;32m--> 567\u001b[0m     \u001b[38;5;28;01mreturn\u001b[39;00m \u001b[43mfuture\u001b[49m\u001b[38;5;241;43m.\u001b[39;49m\u001b[43mresult\u001b[49m\u001b[43m(\u001b[49m\u001b[43mtimeout\u001b[49m\u001b[38;5;241;43m=\u001b[39;49m\u001b[43mtimeout\u001b[49m\u001b[43m)\u001b[49m\n\u001b[0;32m    568\u001b[0m \u001b[38;5;28;01mexcept\u001b[39;00m CfTimeoutError \u001b[38;5;28;01mas\u001b[39;00m e:\n\u001b[0;32m    569\u001b[0m     \u001b[38;5;28;01mraise\u001b[39;00m \u001b[38;5;167;01mTimeoutError\u001b[39;00m \u001b[38;5;28;01mfrom\u001b[39;00m \u001b[38;5;21;01me\u001b[39;00m\n",
      "File \u001b[1;32m~\\Anaconda3\\envs\\daml\\lib\\concurrent\\futures\\_base.py:441\u001b[0m, in \u001b[0;36mFuture.result\u001b[1;34m(self, timeout)\u001b[0m\n\u001b[0;32m    438\u001b[0m \u001b[38;5;28;01melif\u001b[39;00m \u001b[38;5;28mself\u001b[39m\u001b[38;5;241m.\u001b[39m_state \u001b[38;5;241m==\u001b[39m FINISHED:\n\u001b[0;32m    439\u001b[0m     \u001b[38;5;28;01mreturn\u001b[39;00m \u001b[38;5;28mself\u001b[39m\u001b[38;5;241m.\u001b[39m__get_result()\n\u001b[1;32m--> 441\u001b[0m \u001b[38;5;28;43mself\u001b[39;49m\u001b[38;5;241;43m.\u001b[39;49m\u001b[43m_condition\u001b[49m\u001b[38;5;241;43m.\u001b[39;49m\u001b[43mwait\u001b[49m\u001b[43m(\u001b[49m\u001b[43mtimeout\u001b[49m\u001b[43m)\u001b[49m\n\u001b[0;32m    443\u001b[0m \u001b[38;5;28;01mif\u001b[39;00m \u001b[38;5;28mself\u001b[39m\u001b[38;5;241m.\u001b[39m_state \u001b[38;5;129;01min\u001b[39;00m [CANCELLED, CANCELLED_AND_NOTIFIED]:\n\u001b[0;32m    444\u001b[0m     \u001b[38;5;28;01mraise\u001b[39;00m CancelledError()\n",
      "File \u001b[1;32m~\\Anaconda3\\envs\\daml\\lib\\threading.py:312\u001b[0m, in \u001b[0;36mCondition.wait\u001b[1;34m(self, timeout)\u001b[0m\n\u001b[0;32m    310\u001b[0m \u001b[38;5;28;01mtry\u001b[39;00m:    \u001b[38;5;66;03m# restore state no matter what (e.g., KeyboardInterrupt)\u001b[39;00m\n\u001b[0;32m    311\u001b[0m     \u001b[38;5;28;01mif\u001b[39;00m timeout \u001b[38;5;129;01mis\u001b[39;00m \u001b[38;5;28;01mNone\u001b[39;00m:\n\u001b[1;32m--> 312\u001b[0m         \u001b[43mwaiter\u001b[49m\u001b[38;5;241;43m.\u001b[39;49m\u001b[43macquire\u001b[49m\u001b[43m(\u001b[49m\u001b[43m)\u001b[49m\n\u001b[0;32m    313\u001b[0m         gotit \u001b[38;5;241m=\u001b[39m \u001b[38;5;28;01mTrue\u001b[39;00m\n\u001b[0;32m    314\u001b[0m     \u001b[38;5;28;01melse\u001b[39;00m:\n",
      "\u001b[1;31mKeyboardInterrupt\u001b[0m: "
     ]
    }
   ],
   "source": [
    "#define random forest classifier\n",
    "rfc=RandomForestClassifier(n_estimators=100, criterion = 'gini',max_features=5, max_depth=4,random_state=1)\n",
    "#Perform a random forest with gridsearch\n",
    "grid_search = GridSearchCV(rfc,rf_dic,n_jobs=7, cv = 3)\n",
    "grid_search.fit(x_train, y_train)"
   ]
  },
  {
   "cell_type": "code",
   "execution_count": null,
   "metadata": {},
   "outputs": [],
   "source": [
    "#returns the estimator with the highest score in the grid search\n",
    "grid_search.best_estimator_"
   ]
  },
  {
   "cell_type": "code",
   "execution_count": null,
   "metadata": {},
   "outputs": [],
   "source": [
    "#best set of hyperparams\n",
    "grid_search.best_estimator_.get_params()"
   ]
  },
  {
   "cell_type": "code",
   "execution_count": null,
   "metadata": {},
   "outputs": [],
   "source": [
    "#Print accuracy of model\n",
    "y_pred = grid_search.predict(x_train)\n",
    "print(\"Accuracy Training:\",metrics.accuracy_score(y_train, y_pred))\n",
    "y_pred = grid_search.predict(x_test)\n",
    "print(\"Accuracy Testing:\",metrics.accuracy_score(y_test, y_pred))\n",
    "\n"
   ]
  },
  {
   "cell_type": "markdown",
   "metadata": {},
   "source": [
    "---"
   ]
  },
  {
   "cell_type": "markdown",
   "metadata": {},
   "source": [
    "**Understanding Classification Accuracy**\n",
    "\n",
    "4. Use the `confusion_matrix` method on the **test data** to return the confusion matrix normalised over the true lables, i.e. sum over rows should sum to 100%. Use the given colormap to plot the confusion matrix in a heatmap.\n",
    "    - Define the axis tick names to represent Clear, Cloudy or Precip\n",
    "    - Use suitable x and y axis labels\n",
    "    \n",
    "5. What are the true positive rates for clear, cloudy and perp? \n",
    "6. What is the probability that rain is forcast on a sunny day?"
   ]
  },
  {
   "cell_type": "code",
   "execution_count": null,
   "metadata": {},
   "outputs": [],
   "source": [
    "\n",
    "fig = plt.figure()\n",
    "matrix = ConfusionMatrixDisplay.from_estimator(\n",
    "    grid_search,x_test,y_test,cmap=plt.cm.Blues,normalize='true',\n",
    "    display_labels=(('clear'),('cloudy'),('precip')))\n",
    "plt.xlabel('Predicted weather')\n",
    "plt.ylabel('Actual Weather')\n",
    "\n",
    "#5.True positives clear = 0.73, cloudy 0.61, rain = 0.84\n",
    "#6. 0.021 chance of rain being forecast on sunny day"
   ]
  },
  {
   "cell_type": "markdown",
   "metadata": {},
   "source": [
    "---\n",
    "**Understanding Feature Importance**\n",
    "\n",
    "There are several ways to understand which **features are important** to the \n",
    "decision tree. The most common is to look at `feature_importances_` list which is calculated at training time. This quantifies by how much each feature splits the dataset, the higher the number, the more imporant the feature. In random forests were we have 100s of trees, the importance is an gregate.\n",
    "\n",
    "\n",
    "*Note:* below the code assumes the random forest CV search is still `grid_search`"
   ]
  },
  {
   "cell_type": "code",
   "execution_count": null,
   "metadata": {},
   "outputs": [],
   "source": [
    "# Given plotting example for feature importance\n",
    "fig, ax = plt.subplots(figsize=(10, 10))\n",
    "ax.barh(range(23), grid_search.best_estimator_.feature_importances_)\n",
    "ax.set_yticks(range(23),feature_names)\n",
    "ax.set_title(\"Training Feature Importance\")\n",
    "plt.show()"
   ]
  },
  {
   "cell_type": "markdown",
   "metadata": {},
   "source": [
    "E.g. In the RF I trained, wind direction has little impact on the performance, while Pressure, Visibility and Humidity seem like natural important features.\n",
    "\n",
    "The problem with `feature_importances_` is that they are **calulated and biased towards the training dataset**, so may not represent the most relevant features for classifying on the **testing dataset**.\n",
    "\n",
    "\n",
    "We can use `permutation_importance` to get a more accurate representation on the feature importance. "
   ]
  },
  {
   "cell_type": "code",
   "execution_count": null,
   "metadata": {},
   "outputs": [],
   "source": [
    "from sklearn.inspection import permutation_importance"
   ]
  },
  {
   "cell_type": "markdown",
   "metadata": {},
   "source": [
    "This function will randomly permute (shuffle) one feature at a time, and look at how much the accuracy changes. We can perform this permutation several times (`n_repeats`) and get an average impact on the accuracy, and a std deviation.\n",
    "\n",
    "7. Complete the permutation importance function below\n",
    "    - Use the test dataset\n",
    "    - Permute each feature 20 times\n"
   ]
  },
  {
   "cell_type": "code",
   "execution_count": null,
   "metadata": {},
   "outputs": [],
   "source": [
    "result = permutation_importance(grid_search, x_test, y_test,n_repeats = 20,\n",
    "                                random_state=42, n_jobs=2)"
   ]
  },
  {
   "cell_type": "markdown",
   "metadata": {},
   "source": [
    "8. Make the feature importance plot as above using \n",
    "    - `result.importances_mean` as the feature importances\n",
    "    - `result.importances_std` for the `barh` parameter `xerr=`\n",
    "    - Comment on how the imporatnces change on the testing dataset"
   ]
  },
  {
   "cell_type": "code",
   "execution_count": null,
   "metadata": {},
   "outputs": [],
   "source": [
    "fig, ax = plt.subplots(figsize=(10, 10))\n",
    "ax.barh(range(23), result.importances_mean,xerr=(result.importances_std))\n",
    "ax.set_yticks(range(23),feature_names)\n",
    "ax.set_title(\"Feature Importance\")\n",
    "plt.show()\n",
    "\n",
    "#Overall the feature importances have decreased\n",
    "#Temperature is relatively less important. Elevation is significantly less important than windspeed,\n",
    "#and both are significantly less important than the other features.\n",
    "#Humidity becomes less important than visibility on the testing dataset."
   ]
  },
  {
   "cell_type": "markdown",
   "metadata": {},
   "source": [
    "---\n",
    "Finally we can look at the impact of individual features on the probablity of a **particular class**.\n",
    "\n",
    "Using `PartialDependenceDisplay` we choose a set of features that we allow to vary within a range, while other features remain fixed. We can look at how the probability estimate changes on average for any one of our targets. \n",
    "\n",
    "9. Complete the `PartialDependenceDisplay.from_estimator` function by:\n",
    "    - adding your random forest estimator\n",
    "    - using the first 100 data points of the test dataset as input\n",
    "    - Use the `Humidity`, `Pressure` and `Visibility` features. These feature values are scanned while the others remain fixed (*Hint:* `features` parameter)\n",
    "    - Look at the impact on the `Precipitaion` class probability (*Hint:* `target` parameter)\n",
    "10. Comment on the trends shown over the 3 features on the probability it will rain."
   ]
  },
  {
   "cell_type": "code",
   "execution_count": null,
   "metadata": {
    "scrolled": false
   },
   "outputs": [],
   "source": [
    "print(feature_names)\n",
    "fig, ax = plt.subplots(figsize=(12, 6))\n",
    "ax.set_title(\"Decision Tree\")\n",
    "\n",
    "tree_disp = PartialDependenceDisplay.from_estimator(\n",
    "    grid_search,x_test[:100],features =[22,21,19],\n",
    "    target = [2],\n",
    "    ax=ax)\n",
    "\n",
    "tree_disp.axes_[0][0].set_xlabel(\"Humidity\")\n",
    "tree_disp.axes_[0][1].set_xlabel(\"Pressure\")\n",
    "tree_disp.axes_[0][2].set_xlabel(\"Visibility\")\n",
    "\n",
    "#Rain increase with humidity as expected.\n",
    "#After a certain pressure point, rain decreases with pressure\n",
    "#Rain decreases with visibility."
   ]
  },
  {
   "cell_type": "markdown",
   "metadata": {},
   "source": [
    "## 3. Neural networks in `scikit-learn` (1.5 mark)\n",
    "---\n",
    "This section covers exercises on constructing and training neural networks using the `scikit-learn` library, as well as evaluating neural network performance. `scikit-learn` provide many, very easy to use ML algorithms, including neural networks. These are called `MLPClassifier` (MLP = multi-layer perceptron; a historic name for densely connected, feed-forward neural networks) when used for classification, and `MLPRegressor` when used for regression. We will focus on the former for now."
   ]
  },
  {
   "cell_type": "code",
   "execution_count": 25,
   "metadata": {},
   "outputs": [],
   "source": [
    "# Relevant import(s) for this section\n",
    "from sklearn.neural_network import MLPClassifier\n"
   ]
  },
  {
   "cell_type": "markdown",
   "metadata": {},
   "source": [
    "#### 3.1. Standardise the relevant features  and split data (0.5 mark)\n",
    "We need some additional processing of the input features to make them appropiate for the neural network. \n",
    "\n",
    "- Use our feature array `X`, and standardize the features.\n",
    "\n",
    "    _Note:_ You shouldn't standardise the one-hot encoded wind directions; they already have the desired format. Perform a sanity check to make sure that the resulting features have the expected distributional properties (mean and standard deviation; or minimum and maximum value).\n",
    "    - Hint:\n",
    "\n",
    "        - Use the scikit-learn `StandardScaler`\n",
    "        - Or use the scikit-learn `MinMaxScaler`\n",
    "\n",
    "- Perform a sanity check to make sure that the resulting features have the expected distributional properties (mean and standard deviation; or minimum and maximum value).\n",
    "    - The number of columns should match, and depending on the choice of standardisation, the last 7 columns should either have:\n",
    "      - (Using `StandardScaler`) means = 0 and standard deviations = 1; or\n",
    "      - (Using `MinMaxScaler`) min = 0, max = 1\n",
    "      \n",
    "- Reserve **30%** of data for testing. Check whether the resulting arrays have the expected shapes."
   ]
  },
  {
   "cell_type": "code",
   "execution_count": 26,
   "metadata": {},
   "outputs": [
    {
     "name": "stdout",
     "output_type": "stream",
     "text": [
      "(10500, 23)\n",
      "8.61204864035937e-14\n",
      "0.9999999999999981\n"
     ]
    }
   ],
   "source": [
    "print(X.shape)\n",
    "scaler =StandardScaler()\n",
    "X[:,16:] = scaler.fit_transform(X[:,16:])\n",
    "\n",
    "#X = np.concatenate((X[:,:16],scaled),axis = 1)\n",
    "\n",
    "print(np.mean(X[:,16]))\n",
    "print(np.std(X[:,16]))\n",
    "\n",
    "#Separate 30% out to X_test and 70% to X_train\n",
    "\n",
    "X_train, X_test, y_train, y_test = train_test_split(X, y, test_size=0.3, random_state=1)\n",
    "\n"
   ]
  },
  {
   "cell_type": "markdown",
   "metadata": {},
   "source": [
    "#### 3.2. Construct, train, and evaluate a neural network  (1 mark)\n",
    "\n",
    "- Create an `MLPClassifier` which\n",
    "    - has **1 hidden layer of 50 neurons** \n",
    "    - has **no regularization term**\n",
    "    - trains for a maximum of **100 epochs** \n",
    "    - uses a batch size of **32**\n",
    "- Fit the classifier using the standard `.fit()` member method.\n",
    "- Plot the loss function value as a function of number of epochs (0.5 of mark).\n",
    "  You can access the loss history through the `.loss_curve_` attribute of the `MLPClassifier` instance. "
   ]
  },
  {
   "cell_type": "code",
   "execution_count": 27,
   "metadata": {},
   "outputs": [
    {
     "name": "stderr",
     "output_type": "stream",
     "text": [
      "C:\\Users\\Theo\\Anaconda3\\envs\\daml\\lib\\site-packages\\sklearn\\neural_network\\_multilayer_perceptron.py:709: UserWarning: Training interrupted by user.\n",
      "  warnings.warn(\"Training interrupted by user.\")\n"
     ]
    },
    {
     "data": {
      "text/plain": [
       "Text(0, 0.5, 'loss values')"
      ]
     },
     "execution_count": 27,
     "metadata": {},
     "output_type": "execute_result"
    },
    {
     "data": {
      "image/png": "[encoded data removed]",
      "text/plain": [
       "<Figure size 640x480 with 1 Axes>"
      ]
     },
     "metadata": {},
     "output_type": "display_data"
    }
   ],
   "source": [
    "max_iter = 100\n",
    "clf = MLPClassifier(max_iter = max_iter,alpha = 0,hidden_layer_sizes = (50,),\n",
    "                   batch_size = 32)\n",
    "clf.fit(X_train,y_train)\n",
    "loss_values =clf.loss_curve_\n",
    "#print(loss_values)\n",
    "#print(len(loss_values))\n",
    "\n",
    "\n",
    "plt.plot(loss_values)\n",
    "plt.xlabel(\"epochs\")\n",
    "plt.ylabel(\"loss values\")\n"
   ]
  },
  {
   "cell_type": "markdown",
   "metadata": {},
   "source": [
    "\n",
    "- Using the testing dataset: \n",
    "    - Compute the overall accuracy for the classifier using the `MLPClassifier`'s `.score()` member method for both testing and training datasets.\n",
    "    - Compute the confusion matrix (normalised in true labels), and plot it \n",
    "- Discuss the results"
   ]
  },
  {
   "cell_type": "code",
   "execution_count": null,
   "metadata": {},
   "outputs": [],
   "source": [
    "print(\"Accuracy Training:\",clf.score(X_train,y_train))\n",
    "print(\"Accuracy Testing:\",clf.score(X_test,y_test))\n"
   ]
  },
  {
   "cell_type": "code",
   "execution_count": null,
   "metadata": {},
   "outputs": [],
   "source": [
    "fig = plt.figure()\n",
    "matrix = ConfusionMatrixDisplay.from_estimator(\n",
    "    clf,X_test,y_test,cmap=plt.cm.Blues,normalize='true',\n",
    "    display_labels=(('clear'),('cloudy'),('precip')))\n",
    "plt.xlabel('Predicted weather')\n",
    "plt.ylabel('Actual Weather')"
   ]
  },
  {
   "cell_type": "markdown",
   "metadata": {},
   "source": [
    "## 4. Neural networks in `Keras` (2 marks)\n",
    "---\n",
    "This section covers exercises on constructing and training neural networks using the `Keras` library. `scikit-learn` is very easy to use, but libraries like `Keras` provide a lot more flexibility, which is why we will be using these extensively in the last two units of the _'Data science tools and machine learning'_ track."
   ]
  },
  {
   "cell_type": "code",
   "execution_count": 28,
   "metadata": {},
   "outputs": [],
   "source": [
    "# Relevant import(s) for this section\n",
    "from tensorflow.python.keras.models import Model\n",
    "from tensorflow.python.keras.layers import Input, Dense"
   ]
  },
  {
   "cell_type": "markdown",
   "metadata": {},
   "source": [
    "#### 4.1. Construct a neural network in `Keras` (1 mark)\n",
    "\n",
    "- Create a `keras.Model` using the **Keras functional API**. The network should have:\n",
    "    - An input layer with the same number of nodes as the number of features in `X`.\n",
    "    - A single, densely connected hidden layer with **50 nodes** equipped with **ReLU activation**.\n",
    "    - A densely connected output layer with **3 nodes** (the number of types of weather we're classifying) equipped with **softmax activation**.\n",
    "- Compile the model the using the **Adam optimiser**, add `'accuracy'` as metric, and use either:\n",
    "    - `categorical_crossentropy` loss, if you have one-hot encoded the targets `y`, or\n",
    "    - `sparse_categorical_crossentropy` loss if you hare using integer-valued targets.\n",
    "- Use the `.summary()` member method to print an overview of the model you have created, explain the output."
   ]
  },
  {
   "cell_type": "code",
   "execution_count": 33,
   "metadata": {},
   "outputs": [
    {
     "name": "stdout",
     "output_type": "stream",
     "text": [
      "(7350, 23)\n",
      "(3150, 23)\n",
      "(7350,)\n",
      "(3150,)\n"
     ]
    }
   ],
   "source": [
    "print(X_train.shape)\n",
    "print(X_test.shape)\n",
    "print(y_train.shape)\n",
    "print(y_test.shape)"
   ]
  },
  {
   "cell_type": "code",
   "execution_count": 29,
   "metadata": {},
   "outputs": [
    {
     "name": "stdout",
     "output_type": "stream",
     "text": [
      "Model: \"model\"\n",
      "_________________________________________________________________\n",
      "Layer (type)                 Output Shape              Param #   \n",
      "=================================================================\n",
      "input_1 (InputLayer)         [(None, 23)]              0         \n",
      "_________________________________________________________________\n",
      "dense (Dense)                (None, 50)                1200      \n",
      "_________________________________________________________________\n",
      "dense_1 (Dense)              (None, 3)                 153       \n",
      "=================================================================\n",
      "Total params: 1,353\n",
      "Trainable params: 1,353\n",
      "Non-trainable params: 0\n",
      "_________________________________________________________________\n"
     ]
    }
   ],
   "source": [
    "inputs = Input(shape=(23,))\n",
    "hidden_layer = Dense(50, activation=tf.nn.relu)(inputs)\n",
    "outputs = Dense(3, activation=tf.nn.softmax)(hidden_layer)\n",
    "\n",
    "model = Model(inputs=inputs, outputs=outputs)\n",
    "model.compile(loss='sparse_categorical_crossentropy', optimizer='adam',metrics =['accuracy'])\n",
    "\n",
    "model.summary()\n",
    "#This sumamry shows input layer with 23 nodes in a column with 0 parameters\n",
    "#a hidden layer with 50 nodes (shape None,50) with 1200 parameters\n",
    "#and the output layer with 3 nodes(shape None,3) with 153 parameters."
   ]
  },
  {
   "cell_type": "markdown",
   "metadata": {},
   "source": [
    "#### 4.2. Train a `Keras` neural network (1 mark)\n",
    "\n",
    "- Use the `.fit()` member method to train the network on the **training dataset** for **100 epochs** with a **batch size of 32**. Use **20% of the data for validation** and make sure to have `Keras` **shuffle** the training data between epochs. Save the fit history by doing `history_mld = .....`\n",
    "- Print the classification accuracy using the `.evaluate()` member method, for both the training and testing dataset. Comment on the results.\n",
    "- Plot val_loss and loss functions from the fit history. On the same plot, plot the sklearn curve from the excercise above. Note the sklearn NN does not provide a complementary validation loss history, so only plot the training loss.\n",
    "- Comment on the results of the overall accuracy compared to the scikit-learn method."
   ]
  },
  {
   "cell_type": "code",
   "execution_count": 32,
   "metadata": {},
   "outputs": [
    {
     "name": "stdout",
     "output_type": "stream",
     "text": [
      "(7350,)\n"
     ]
    }
   ],
   "source": [
    "print(y_train.shape)"
   ]
  },
  {
   "cell_type": "code",
   "execution_count": null,
   "metadata": {
    "scrolled": false
   },
   "outputs": [],
   "source": [
    "history= model.fit(X_train,y_train,batch_size = 32,epochs = 100,shuffle = True,validation_split = 0.2)\n",
    "val_loss, val_accuracy =model.evaluate(X_train,y_train)\n",
    "loss, accuracy = model.evaluate(X_test,y_test)\n",
    "\n",
    "\n",
    "print(\"Training loss, training accuracy:\",val_loss, val_accuracy )\n",
    "print(\"Test loss, test accuracy:\",loss, accuracy)\n",
    "\n",
    "#The training set accuracy is and test set accuracy are quite similar but the training set accuracy\n",
    "#is higher as expect.\n",
    "#The training data loss is significantly lower than the test data loss which suggests that the model\n",
    "#has not been underfit\n"
   ]
  },
  {
   "cell_type": "code",
   "execution_count": 1,
   "metadata": {},
   "outputs": [
    {
     "ename": "NameError",
     "evalue": "name 'history' is not defined",
     "output_type": "error",
     "traceback": [
      "\u001b[1;31m---------------------------------------------------------------------------\u001b[0m",
      "\u001b[1;31mNameError\u001b[0m                                 Traceback (most recent call last)",
      "Cell \u001b[1;32mIn [1], line 1\u001b[0m\n\u001b[1;32m----> 1\u001b[0m \u001b[38;5;28mprint\u001b[39m(history\u001b[38;5;241m.\u001b[39mhistory\u001b[38;5;241m.\u001b[39mkeys())\n\u001b[0;32m      2\u001b[0m \u001b[38;5;66;03m#Similar results to sk-learn model above\u001b[39;00m\n\u001b[0;32m      5\u001b[0m plt\u001b[38;5;241m.\u001b[39mplot(history\u001b[38;5;241m.\u001b[39mhistory[\u001b[38;5;124m'\u001b[39m\u001b[38;5;124mloss\u001b[39m\u001b[38;5;124m'\u001b[39m])\n",
      "\u001b[1;31mNameError\u001b[0m: name 'history' is not defined"
     ]
    }
   ],
   "source": [
    "print(history.history.keys())\n",
    "#Similar results to sk-learn model above\n",
    "\n",
    "\n",
    "plt.plot(history.history['loss'])\n",
    "plt.plot(history.history['val_loss'])\n",
    "#plt.plot(history.history['accuracy'])\n",
    "#plt.plot(history.history['val_accuracy'])\n",
    "plt.plot(loss_values)\n",
    "plt.title('model accuracy')\n",
    "plt.ylabel('loss')\n",
    "plt.xlabel('epoch')\n",
    "plt.legend(['train loss', 'val loss',\"skilearn loss\"], loc='upper right')\n",
    "plt.show()\n",
    "\n",
    "#Loss on the training set for keras is very similar to the loss in the skilearn method\n",
    "#As expected the validation loss is higher than the training loss.\n"
   ]
  },
  {
   "cell_type": "markdown",
   "metadata": {},
   "source": [
    "## 5. Regularisation (1.5 marks)\n",
    "---\n",
    "This section covers **2** exercises on the impact of weight regularisaton. Note that $L_{1}$- and $L_{2}$-regularisation may also be applied to the activation of intermediate layers. Also, a similar regularising effect could be achieved using **dropout** regularisation, which you are encouraged to try out, but which we won't study in this CP exercise."
   ]
  },
  {
   "cell_type": "code",
   "execution_count": null,
   "metadata": {},
   "outputs": [],
   "source": [
    "# Relevant import(s) for this section\n",
    "from tensorflow.python.keras.regularizers import l1_l2"
   ]
  },
  {
   "cell_type": "markdown",
   "metadata": {},
   "source": [
    "#### 5.1. Define `Keras` model factory method (0.5 mark)\n",
    "\n",
    "- Define a python function called `big_model_fn` which takes the followng three arguments:\n",
    "    - `l1`: A float specifying the $L_{1}$ regularisation factor (default value: 0)\n",
    "    - `l2`: A float specifying the $L_{2}$ regularisation factor (default value: 0)\n",
    "    - `name`: A string, specifying the name of the model (default value: None)\n",
    "- Indside the function, you should:\n",
    "    - Construct a `Keras` model using the functional API, which has:\n",
    "        - An input layer with the same number of nodes as the number of features in `X`.\n",
    "        - **Two** densely connected hidden layer with **100 nodes** each, both equipped with **ReLU activation**.\n",
    "        - Both hidden layers should be subject to kernel regularisation (_i.e._ weight regularisation) with the regularisation factors specified as an input.\n",
    "        - A densely connected output layer with **3 nodes** (the number of types of weather we're classifying) equipped with **softmax activation**.\n",
    "        - A name given by the corresponding argument.\n",
    "    - Compile the model in the same way as in **Exercise 14.**\n",
    "- The function should return the compiled `Keras` model. \n",
    "\n",
    "The method will provide a convenient way of constructing and compiling a number of \"big\"/deep `Keras` models which differ only by their regularisation and name."
   ]
  },
  {
   "cell_type": "code",
   "execution_count": null,
   "metadata": {},
   "outputs": [],
   "source": [
    "def big_model_fn(l1=0,l2=0,name=None):\n",
    "    inputs = Input(shape=(23,))\n",
    "    hidden_layer1 = Dense(100, activation=tf.nn.relu, kernel_regularizer = l1_l2(l1=l1, l2=l2))(inputs)\n",
    "    hidden_layer2 = Dense(100, activation=tf.nn.relu, kernel_regularizer = l1_l2(l1=l1 , l2=l2))(hidden_layer1)\n",
    "    outputs = Dense(3, activation=tf.nn.softmax)(hidden_layer2)\n",
    "\n",
    "    model = Model(name = name, inputs=inputs, outputs=outputs)\n",
    "    \n",
    "    model.compile(loss='sparse_categorical_crossentropy', optimizer='adam',metrics =['accuracy'])\n",
    "\n",
    "    return model.fit(X_train,y_train,batch_size = 32,epochs = 100,shuffle = True,validation_split = 0.2)\n"
   ]
  },
  {
   "cell_type": "markdown",
   "metadata": {},
   "source": [
    "#### 5.2. Train \"big\" models with and without regularisation (1 mark)\n",
    "\n",
    "- Construct three \"big\" model using the factory method:\n",
    "     - One with default parameters\n",
    "     - One with `l1=0.003` and  `name='model_L1'`\n",
    "     - One with `l2=0.03`  and `name='model_L2'`\n",
    "- Train each one as in **Exercise 15.**\n",
    "- Compare first the loss history of the un-regularised \"big\" model to that of the small model from **Exercise 15** using the `plot.loss()` method.\n",
    "- Then, compare the loss histories of all three \"big\" models with that of the small model.\n",
    "- Plot the loss and val loss of all 4 models. Target these points:\n",
    "    - Compare the performance of deep vs shallow models on the testing sets\n",
    "    - Compare the level of ovetraining (training vs testing loss)\n",
    "    - Note: Don't be alarmed if the shallow network performs slightly better that the deeper ones, this is dataset dependant.\n",
    "- Copy the same plotting code, but this time plot the training and validation accuracy\n",
    "- Discuss the results."
   ]
  },
  {
   "cell_type": "code",
   "execution_count": null,
   "metadata": {},
   "outputs": [],
   "source": [
    "history1 = big_model_fn(0,0,None)\n",
    "history2 = big_model_fn(0.003,0,'model_L1')\n",
    "history3 = big_model_fn(0.03,0,'model_L2')\n"
   ]
  },
  {
   "cell_type": "code",
   "execution_count": null,
   "metadata": {},
   "outputs": [],
   "source": [
    "fig, ax = plt.subplots()\n",
    "ax.plot(history1.history['loss'])\n",
    "ax.plot(history2.history['loss'])\n",
    "ax.plot(history3.history['loss'])\n",
    "ax.plot(history.history['loss'])\n",
    "ax.plot(history1.history['val_loss'])\n",
    "ax.plot(history2.history['val_loss'])\n",
    "ax.plot(history3.history['val_loss'])\n",
    "ax.plot(history.history['val_loss'])\n",
    "ax.set_ylim(0.2,2)\n",
    "ax.set_ylabel('loss')\n",
    "ax.set_xlabel('epoch')\n",
    "ax.set_title('model loss')\n",
    "ax.legend(['unregularised loss', 'regularisation = 0.003 loss','regularisation =0.03 loss','shallow loss',\n",
    "              'unregularised val_loss','regularisation = 0.003 val_loss','regularisation = 0.03 val_loss','shallow val_loss' ], loc='upper right')\n",
    "\n",
    "#See below for zoomed in plot\n",
    "#The shallow NN performs best overall with low loss on the training set and the low \n",
    "#loss on the testing set.\n",
    "#The regularised deep NNs are underfit. The models have a similar loss on the training and validation sets.\n",
    "#The unregularised deep NN is overfit. There is very low loss on the training set, but high loss\n",
    "#on the testing set"
   ]
  },
  {
   "cell_type": "code",
   "execution_count": null,
   "metadata": {},
   "outputs": [],
   "source": [
    "fig, ax = plt.subplots()\n",
    "ax.plot(history1.history['loss'])\n",
    "ax.plot(history2.history['loss'])\n",
    "ax.plot(history3.history['loss'])\n",
    "ax.plot(history.history['loss'])\n",
    "ax.plot(history1.history['val_loss'])\n",
    "ax.plot(history2.history['val_loss'])\n",
    "ax.plot(history3.history['val_loss'])\n",
    "ax.plot(history.history['val_loss'])\n",
    "ax.set_ylim(0.2,0.9)\n",
    "ax.set_ylabel('loss')\n",
    "ax.set_xlabel('epoch')\n",
    "ax.set_title('zoomed in model loss')\n",
    "ax.legend(['unregularised loss', 'regularisation = 0.003 loss','regularisation =0.03 loss','shallow loss',\n",
    "              'unregularised val_loss','regularisation = 0.003 val_loss','regularisation = 0.03 val_loss','shallow val_loss' ], loc='lower left')"
   ]
  },
  {
   "cell_type": "code",
   "execution_count": null,
   "metadata": {
    "scrolled": true
   },
   "outputs": [],
   "source": [
    "fig, ax = plt.subplots()\n",
    "plt.plot(history1.history['accuracy'])\n",
    "plt.plot(history2.history['accuracy'])\n",
    "plt.plot(history3.history['accuracy'])\n",
    "plt.plot(history.history['accuracy'])\n",
    "plt.plot(history1.history['val_accuracy'])\n",
    "plt.plot(history2.history['val_accuracy'])\n",
    "plt.plot(history3.history['val_accuracy'])\n",
    "plt.plot(history.history['val_accuracy'])\n",
    "plt.ylabel('accuracy')\n",
    "\n",
    "ax.set_ylim(0.55)\n",
    "plt.xlabel('epoch')\n",
    "plt.title('model accuracy')\n",
    "plt.legend(['unregularised', 'regularisation = 0.003','regularisation =0.03','shallow',\n",
    "            'unregularised val_accuracy','regularisation = 0.003 val_accuracy','regularisation = 0.03 val_accuracy' ], loc='lower right')\n",
    "#As expected overfit unregularised deep NN has the highest accuracy, but low validation accuracy\n",
    "#we see the shallow NN with a high accuracy.\n",
    "#Following this is both the regularised validation  sets.\n",
    "#We confirm that the regularised deep NNs are underfit since they are as/more accurate on validation sets as they \n",
    "#are on the training data."
   ]
  },
  {
   "cell_type": "code",
   "execution_count": null,
   "metadata": {},
   "outputs": [],
   "source": []
  },
  {
   "cell_type": "code",
   "execution_count": null,
   "metadata": {},
   "outputs": [],
   "source": []
  },
  {
   "cell_type": "code",
   "execution_count": null,
   "metadata": {},
   "outputs": [],
   "source": []
  }
 ],
 "metadata": {
  "kernelspec": {
   "display_name": "Python 3 (ipykernel)",
   "language": "python",
   "name": "python3"
  },
  "language_info": {
   "codemirror_mode": {
    "name": "ipython",
    "version": 3
   },
   "file_extension": ".py",
   "mimetype": "text/x-python",
   "name": "python",
   "nbconvert_exporter": "python",
   "pygments_lexer": "ipython3",
   "version": "3.9.13"
  }
 },
 "nbformat": 4,
 "nbformat_minor": 2
}
