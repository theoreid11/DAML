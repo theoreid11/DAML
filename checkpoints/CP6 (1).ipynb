{
 "cells": [
  {
   "cell_type": "code",
   "execution_count": 2,
   "metadata": {},
   "outputs": [],
   "source": [
    "import numpy as np\n",
    "import matplotlib.pyplot as plt\n",
    "from scipy.special import erfinv\n",
    "import scipy.integrate\n",
    "from iminuit import Minuit"
   ]
  },
  {
   "cell_type": "code",
   "execution_count": 3,
   "metadata": {},
   "outputs": [],
   "source": [
    "#Q1\n",
    "\n",
    "#Open data file and read the lines into a list \n",
    "with open('datafile-higgs.txt') as f:\n",
    "    lines = f.readlines()\n",
    "    \n",
    "masses = np.array(lines, dtype = float)         #Create an array from the list of masses\n",
    "f.close()"
   ]
  },
  {
   "cell_type": "code",
   "execution_count": 4,
   "metadata": {},
   "outputs": [
    {
     "name": "stdout",
     "output_type": "stream",
     "text": [
      "100000\n"
     ]
    }
   ],
   "source": [
    "print(len(masses))"
   ]
  },
  {
   "cell_type": "code",
   "execution_count": 5,
   "metadata": {},
   "outputs": [],
   "source": [
    "def run_minim(min_func):\n",
    "    params = ['A','M','f']                        #set parameters to be calculated\n",
    "    \n",
    "    #Setting values to start at and estimated errors. \n",
    "    startvals = {params[0] : 5,params[1] : 2.5, params[2] : 0.98}           \n",
    "    theMinuit = Minuit(min_func, **startvals)                 #run Minuit optimiser with with NLL function.\n",
    "    theMinuit.errors=[0.1,0.1,0.1]                          #Errors on initial start value\n",
    "    \n",
    "    #Nll increases by 0.5 when you go to either side of the minimum by one unit error on the parameter\n",
    "    theMinuit.errordef=0.5                        #Set errordef to 0.5 since this a log-likelihood function\n",
    "\n",
    "    #Run the minimisation\n",
    "    result = theMinuit.migrad()\n",
    "    return params, theMinuit\n"
   ]
  },
  {
   "cell_type": "code",
   "execution_count": 6,
   "metadata": {},
   "outputs": [],
   "source": [
    "#function which calculates the exp prob. density function normalised over [0,10].\n",
    "def pdf_exp(A):\n",
    "    return (1/(A*(np.exp(-0/A)-np.exp(-10/A))))*np.exp(-masses/A)   #pdf normalised over [0,10] with parameter A\n",
    "\n",
    "#function which calculates the Gaussian prob. density function normalised over a fixed width of 0.2 sigma.\n",
    "def pdf_Gaus(M): \n",
    "    sig = 0.2                                                              #Fixed width of Gaussian\n",
    "    return (1/np.sqrt(2*np.pi*sig**2))*np.exp((-(masses-M)**2)/(2*sig**2)) #normalised Gaussian pdf\n",
    "\n",
    "#function which calculates the negative log of the joint likelihood of the combined probability function.\n",
    "#The parameters to be estimated are A (decay constant), M (the Gaussian mean), and f (fraction)\n",
    "\n",
    "def NLLpdf(A, M,f):\n",
    "    exp_fn = pdf_exp(A)    #call function which returns decay pdf\n",
    "    Gaus_fn = pdf_Gaus(M)   #call function which returns Gaussian pdf\n",
    "   \n",
    "    return -np.sum(np.log((1-f)*Gaus_fn+(f)*exp_fn))  #return negative log of joint likelihood \n",
    "    \n"
   ]
  },
  {
   "cell_type": "code",
   "execution_count": 7,
   "metadata": {},
   "outputs": [
    {
     "name": "stdout",
     "output_type": "stream",
     "text": [
      "\n",
      "Minuit Results for PDF (in microseconds)\n",
      "\t A               :  \t    5.008  +/-     0.031\n",
      "\t M               :  \t    2.499  +/-     0.015\n",
      "\t f               :  \t   0.9796  +/-    0.0012\n"
     ]
    }
   ],
   "source": [
    "#call run_minim function with the parameter NLL \n",
    "#The function returns calculated parameters and corresponding errors.\n",
    "params,theMinuit = run_minim(NLLpdf)\n",
    "    \n",
    "print (\"\\nMinuit Results for PDF (in microseconds)\")\n",
    "\n",
    "#Output results with errors rounded to 2 significant figures and values rounded to the same decimal places as the errors\n",
    "print('\\t','{:15s}'.format('A'), ':  \\t', \"{0:8.3f}\".format(theMinuit.values[0]), ' +/- ', \"{0:8.3f}\".format(theMinuit.errors[0]))\n",
    "print('\\t','{:15s}'.format('M'), ':  \\t', \"{0:8.3f}\".format(theMinuit.values[1]), ' +/- ', \"{0:8.3f}\".format(theMinuit.errors[1]))\n",
    "print('\\t','{:15s}'.format('f'), ':  \\t', \"{0:8.4f}\".format(theMinuit.values[2]), ' +/- ', \"{0:8.4f}\".format(theMinuit.errors[2]))"
   ]
  },
  {
   "cell_type": "markdown",
   "metadata": {},
   "source": [
    "As expected, the fitted mean, M, calculated agrees with the given M = 2.5 since the fitted value is within the statistical error."
   ]
  },
  {
   "cell_type": "code",
   "execution_count": 7,
   "metadata": {},
   "outputs": [],
   "source": [
    "#Code to plot pdf and fit line\n",
    "\n",
    "\n",
    "def linefit(x,A,M,f):\n",
    "    sig = 0.2\n",
    "    exp_fn = (1/(A*(np.exp(-0/A)-np.exp(-10/A))))*np.exp(-x/A)   #call function which returns exp pdf\n",
    "    Gaus_fn = (1/np.sqrt(2*np.pi*sig**2))*np.exp((-(x-M)**2)/(2*sig**2))  #call function which returns Gaussian pdf\n",
    "                                                 \n",
    "    return ((1-f)*Gaus_fn+f*exp_fn )\n",
    "    "
   ]
  },
  {
   "cell_type": "code",
   "execution_count": 8,
   "metadata": {},
   "outputs": [
    {
     "data": {
      "text/plain": [
       "Text(0.5, 1.0, 'Combined Gaussian and exponential fits to masses')"
      ]
     },
     "execution_count": 8,
     "metadata": {},
     "output_type": "execute_result"
    },
    {
     "data": {
      "image/png": "[encoded data removed]",
      "text/plain": [
       "<Figure size 640x480 with 1 Axes>"
      ]
     },
     "metadata": {},
     "output_type": "display_data"
    }
   ],
   "source": [
    "x = np.linspace(0,10,100)                                                       #Used as input for functions to fit curves\n",
    "fit = linefit(x,theMinuit.values[0],theMinuit.values[1],theMinuit.values[2])    #Call fit function with fitted parameters\n",
    "\n",
    "entries,counts, bins = plt.hist(masses,bins = 100,density = True)               #Plot masses pdf\n",
    "plt.plot(x,fit)                                                                 #Plot fit line over pdf\n",
    "plt.xlabel('mass')\n",
    "plt.ylabel('Counts')\n",
    "plt.title('Combined Gaussian and exponential fits to masses')\n"
   ]
  },
  {
   "cell_type": "markdown",
   "metadata": {},
   "source": [
    "We observe that the fit line follows the distribution well."
   ]
  },
  {
   "cell_type": "code",
   "execution_count": 9,
   "metadata": {},
   "outputs": [],
   "source": [
    "#Q2\n",
    "\n",
    "#minimiser function \n",
    "def run_minim_shift(min_func):\n",
    "    params = ['b','c','M','f']                        #set parameters to be calculated\n",
    "    \n",
    "    #Setting values to start at and estimated errors. \n",
    "    startvals = {params[0] : -0.16,params[1] : 0.007, params[2] :2.5, params[3] : 0.98}           \n",
    "    theMinuit = Minuit(NLLpdf_shift, **startvals)              #run Minuit optimiser with with NLL function.\n",
    "    theMinuit.errors=[0.1,0.1,0.1,0.1]                          #Errors on initial start value\n",
    "    \n",
    "    #Nll increases by 0.5 when you go to either side of the minimum by one unit error on the parameter\n",
    "    theMinuit.errordef=0.5                        #Set errordef to 0.5 since this a log-likelihood function\n",
    "\n",
    "    #Run the minimisation\n",
    "    result = theMinuit.migrad()\n",
    "    return params, theMinuit"
   ]
  },
  {
   "cell_type": "code",
   "execution_count": 10,
   "metadata": {},
   "outputs": [],
   "source": [
    "#function that returns second order polynomial \n",
    "def poly(masses,b,c):\n",
    "    a=1\n",
    "    return a+b*masses+c*masses**2  #pdf normalised over [0,10]\n",
    "\n",
    "#function that returns normalised second order polynomial\n",
    "def pdf_normed_poly(b,c):\n",
    "    args = (b,c)\n",
    "    integ = scipy.integrate.quad(poly,0,10,args = args)        #Integrate polynomial in interval [0,10] to get normalisation\n",
    "    a=1\n",
    "    return ((1/integ[0])*(a+b*masses+c*masses**2))\n",
    "\n",
    "#function that returns the NLL of the combined polynomial and Gaussian pdfs\n",
    "def NLLpdf_shift(b,c, M,f):\n",
    "    poly_fn = pdf_normed_poly(b,c)   #call function which returns polynomial pdf\n",
    "    Gaus_fn = pdf_Gaus(M)   #call function which returns Gaussian pdf\n",
    "    \n",
    "    \n",
    "    #Set any values in polynomial and Gaussian functions that are negative to very small numbers. This is because we cannot\n",
    "    #take the log of negative or 0 numbers\n",
    "    poly_fn[poly_fn <= 0 ] = 1*10**(-15)\n",
    "    Gaus_fn[Gaus_fn <= 0 ] = 1*10**(-15)\n",
    "    NLL_comb = -np.sum(np.log((1-f)*Gaus_fn+(f)*poly_fn))\n",
    "    \n",
    "    return NLL_comb  #return negative log of joint likelihood \n",
    "    \n"
   ]
  },
  {
   "cell_type": "code",
   "execution_count": 11,
   "metadata": {},
   "outputs": [
    {
     "name": "stdout",
     "output_type": "stream",
     "text": [
      "\n",
      "Minuit Results for PDF (in microseconds) with statistical errors from polynomial fit\n",
      "\t b               :  \t  -0.1578  +/-    0.0014\n",
      "\t c               :  \t  0.00730  +/-   0.00015\n",
      "\t M               :  \t    2.494  +/-     0.016\n",
      "\t f               :  \t   0.9820  +/-    0.0012\n"
     ]
    }
   ],
   "source": [
    "#call run_minim function with the parameter NLL \n",
    "#The function returns calculated parameters and corresponding errors.\n",
    "params_shift,theMinuit_shift = run_minim_shift(NLLpdf_shift)\n",
    "    \n",
    "print (\"\\nMinuit Results for PDF (in microseconds) with statistical errors from polynomial fit\")\n",
    "\n",
    "#Output results\n",
    "print('\\t','{:15s}'.format('b'), ':  \\t', \"{0:8.4f}\".format(theMinuit_shift.values[0]), ' +/- ', \"{0:8.4f}\".format(theMinuit_shift.errors[0]))\n",
    "print('\\t','{:15s}'.format('c'), ':  \\t', \"{0:8.5f}\".format(theMinuit_shift.values[1]), ' +/- ', \"{0:8.5f}\".format(theMinuit_shift.errors[1]))\n",
    "print('\\t','{:15s}'.format('M'), ':  \\t', \"{0:8.3f}\".format(theMinuit_shift.values[2]), ' +/- ', \"{0:8.3f}\".format(theMinuit_shift.errors[2]))\n",
    "print('\\t','{:15s}'.format('f'), ':  \\t', \"{0:8.4f}\".format(theMinuit_shift.values[3]), ' +/- ', \"{0:8.4f}\".format(theMinuit_shift.errors[3]))\n",
    "\n"
   ]
  },
  {
   "cell_type": "code",
   "execution_count": 12,
   "metadata": {},
   "outputs": [
    {
     "name": "stdout",
     "output_type": "stream",
     "text": [
      "The systematic error on the mean of M due to the backround model is    -0.004\n"
     ]
    }
   ],
   "source": [
    "#difference in the calculated parameter for the polynomial and exponential fits is taken as the systematic error\n",
    "Err_sys = theMinuit_shift.values[2] - theMinuit.values[1]     \n",
    "print('The systematic error on the mean of M due to the backround model is ',\"{0:8.3f}\".format(Err_sys))\n"
   ]
  },
  {
   "cell_type": "code",
   "execution_count": 13,
   "metadata": {},
   "outputs": [
    {
     "name": "stdout",
     "output_type": "stream",
     "text": [
      "The total error on the mean 0.015184198485872795\n",
      "\t M (+/- stat error +/- sys error) :  \t    2.499  +/-     0.015  +/-     0.004\n",
      "\t M (+/- total error) :  \t    2.499  +/-     0.015\n"
     ]
    }
   ],
   "source": [
    "M_error = np.sqrt((theMinuit.errors[1]**2 +Err_sys**2))     #add stat error and systematic error in quadrature\n",
    "print('The total error on the mean', M_error) \n",
    "\n",
    "print('\\t','{:15s}'.format('M (+/- stat error +/- sys error)'), ':  \\t', \"{0:8.3f}\".format(theMinuit.values[1]), ' +/- ', \"{0:8.3f}\".format(theMinuit.errors[1]),' +/- ', \"{0:8.3f}\".format(abs(Err_sys)))\n",
    "print('\\t','{:15s}'.format('M (+/- total error)'), ':  \\t', \"{0:8.3f}\".format(theMinuit.values[1]),' +/- ',\"{0:8.3f}\".format( M_error))"
   ]
  },
  {
   "cell_type": "markdown",
   "metadata": {},
   "source": [
    "The systematic error is significantly less than the statistical error. When rounded to 2 significant figures, the combined error\n",
    "between the system and statistical errors is the same as the just the statistical error. We can conclude that the systematic error is not important in this measurement."
   ]
  },
  {
   "cell_type": "code",
   "execution_count": 14,
   "metadata": {},
   "outputs": [],
   "source": [
    "#Plots\n",
    "\n",
    "def polyfit(x,b,c):\n",
    "    a=1\n",
    "    return a+b*x+c*x**2  #pdf normalised over [0,10]\n",
    "\n",
    "def pdf_normed_poly(b,c):\n",
    "    args = (b,c)\n",
    "    integ = scipy.integrate.quad(polyfit,0,10,args = args)\n",
    "    a=1\n",
    "    return ((1/integ[0])*(a+b*x+c*x**2))"
   ]
  },
  {
   "cell_type": "code",
   "execution_count": 15,
   "metadata": {},
   "outputs": [],
   "source": [
    "def linefit2(x,b,c,M,f):\n",
    "    sig = 0.2\n",
    "    poly_fn = pdf_normed_poly(b,c)   #call function which returns polynomial pdf\n",
    "   \n",
    "    Gaus_fn = (1/np.sqrt(2*np.pi*sig**2))*np.exp((-(x-M)**2)/(2*sig**2))  #call function which returns Gaussian pdf\n",
    "                                                 \n",
    "    return ((1-f)*Gaus_fn+f*poly_fn )"
   ]
  },
  {
   "cell_type": "code",
   "execution_count": 16,
   "metadata": {},
   "outputs": [
    {
     "data": {
      "text/plain": [
       "Text(0.5, 1.0, 'Combined Gaussian and polynomial fits to masses')"
      ]
     },
     "execution_count": 16,
     "metadata": {},
     "output_type": "execute_result"
    },
    {
     "data": {
      "image/png": "[encoded data removed]",
      "text/plain": [
       "<Figure size 640x480 with 1 Axes>"
      ]
     },
     "metadata": {},
     "output_type": "display_data"
    }
   ],
   "source": [
    "\n",
    "fit2 = linefit2(x,theMinuit_shift.values[0],theMinuit_shift.values[1],theMinuit_shift.values[2],theMinuit_shift.values[3])\n",
    "\n",
    "entries,counts, bins = plt.hist(masses,bins = 100,density = True)\n",
    "plt.plot(x,fit2)\n",
    "plt.xlabel('mass')\n",
    "plt.ylabel('Counts')\n",
    "plt.title('Combined Gaussian and polynomial fits to masses')"
   ]
  },
  {
   "cell_type": "markdown",
   "metadata": {},
   "source": [
    "This fit approximately follows the distribution. It appears to be more accuracte than the linear+Gaussian fit but less accurate than the expeonential+Gaussian fit."
   ]
  },
  {
   "cell_type": "code",
   "execution_count": 17,
   "metadata": {},
   "outputs": [],
   "source": [
    "#Q3\n",
    "\n",
    "def run_minim_shiftlinear(min_func):\n",
    "    params = ['b','M','f']                        #set parameters to be calculated\n",
    "    #Setting values to start at and estimated errors. \n",
    "    startvals = {params[0] : -0.09,params[1] : 2.5, params[2] :0.98}           \n",
    "    theMinuit = Minuit(NLLpdf_shiftlinear, **startvals)              #run Minuit optimiser with with NLL function.\n",
    "    theMinuit.errors=[0.1,0.1,0.1]                          #Errors on initial start value\n",
    "    \n",
    "    #Nll increases by 0.5 when you go to either side of the minimum by one unit error on the parameter\n",
    "    theMinuit.errordef=0.5                        #Set errordef to 0.5 since this a log-likelihood function\n",
    "\n",
    "    #Run the minimisation\n",
    "    result = theMinuit.migrad()\n",
    "    return params, theMinuit"
   ]
  },
  {
   "cell_type": "code",
   "execution_count": 18,
   "metadata": {},
   "outputs": [],
   "source": [
    "#Function to leturn linear curve\n",
    "def linear(masses,b):\n",
    "    a=1\n",
    "    return a + b*masses \n",
    "\n",
    "#function to return normalised linear curve\n",
    "def pdf_normed_linear(b):\n",
    "    args = (b,)\n",
    "    integ = scipy.integrate.quad(linear,0,10,args = args) #integrate linear curve between [0,10] to get normalisation\n",
    "    a=1\n",
    "    return ((1/integ[0])*(a+b*masses))\n",
    "\n",
    "#Function to calculate combined NLL with linear and Gaussian pdfs\n",
    "def NLLpdf_shiftlinear(b,M,f):\n",
    "    linear_fn = pdf_normed_linear(b)   #call function which returns linear pdf\n",
    "    Gaus_fn = pdf_Gaus(M)   #call function which returns Gaussian pdf\n",
    "    \n",
    "    linear_fn[linear_fn < 0 ] = 1*10**(-15)\n",
    "    Gaus_fn[Gaus_fn < 0 ] = 1*10**(-15)\n",
    "    NLL_comblinear = -np.sum(np.log((1-f)*Gaus_fn+(f)*linear_fn))\n",
    "    \n",
    "    return NLL_comblinear  #return negative log of joint likelihood \n",
    "    \n",
    "\n"
   ]
  },
  {
   "cell_type": "code",
   "execution_count": 19,
   "metadata": {},
   "outputs": [
    {
     "name": "stdout",
     "output_type": "stream",
     "text": [
      "\t b               :  \t -0.09040  +/-   0.00022\n",
      "\t M               :  \t    2.465  +/-     0.015\n",
      "\t f               :  \t   0.9801  +/-    0.0012\n"
     ]
    }
   ],
   "source": [
    "#call run_minim function with the parameter NLL \n",
    "#The function returns calculated parameters and corresponding errors.\n",
    "params_shiftlinear,theMinuit_shiftlinear = run_minim_shiftlinear(NLLpdf_shiftlinear)\n",
    "    \n",
    "\n",
    "#Output results\n",
    "print('\\t','{:15s}'.format('b'), ':  \\t', \"{0:8.5f}\".format(theMinuit_shiftlinear.values[0]), ' +/- ', \"{0:8.5f}\".format(theMinuit_shiftlinear.errors[0]))\n",
    "print('\\t','{:15s}'.format('M'), ':  \\t', \"{0:8.3f}\".format(theMinuit_shiftlinear.values[1]), ' +/- ', \"{0:8.3f}\".format(theMinuit_shiftlinear.errors[1]))\n",
    "print('\\t','{:15s}'.format('f'), ':  \\t', \"{0:8.4f}\".format(theMinuit_shiftlinear.values[2]), ' +/- ', \"{0:8.4f}\".format(theMinuit_shiftlinear.errors[2]))\n",
    "\n"
   ]
  },
  {
   "cell_type": "code",
   "execution_count": 20,
   "metadata": {},
   "outputs": [],
   "source": [
    "#Plots\n",
    "\n",
    "def linearfit(x,b):\n",
    "    a=1\n",
    "    return a+b*x  #pdf normalised over [0,10]\n",
    "\n",
    "def pdf_normed_linear(b,):\n",
    "    args = (b,)\n",
    "    integ = scipy.integrate.quad(linearfit,0,10,args = args)\n",
    "    a=1\n",
    "    return (1/integ[0])*(a+b*x)"
   ]
  },
  {
   "cell_type": "code",
   "execution_count": 21,
   "metadata": {},
   "outputs": [],
   "source": [
    "def linefit3(x,b,M,f):\n",
    "    sig = 0.2\n",
    "    linear_fn = pdf_normed_linear(b)   #call function which returns decay pdf\n",
    "   \n",
    "    Gaus_fn = (1/np.sqrt(2*np.pi*sig**2))*np.exp((-(x-M)**2)/(2*sig**2))  #call function which returns Gaussian pdf\n",
    "                                                 \n",
    "    return ((1-f)*Gaus_fn+f*linear_fn )"
   ]
  },
  {
   "cell_type": "code",
   "execution_count": 22,
   "metadata": {},
   "outputs": [
    {
     "data": {
      "text/plain": [
       "Text(0.5, 1.0, 'Combined Gaussian and polynomial fits to masses')"
      ]
     },
     "execution_count": 22,
     "metadata": {},
     "output_type": "execute_result"
    },
    {
     "data": {
      "image/png": "[encoded data removed]",
      "text/plain": [
       "<Figure size 640x480 with 1 Axes>"
      ]
     },
     "metadata": {},
     "output_type": "display_data"
    }
   ],
   "source": [
    "\n",
    "fit3 = linefit3(x,theMinuit_shiftlinear.values[0],theMinuit_shiftlinear.values[1],theMinuit_shiftlinear.values[2])\n",
    "\n",
    "entries,counts, bins = plt.hist(masses,bins = 100,density = True)\n",
    "plt.plot(x,fit3)\n",
    "plt.xlabel('mass')\n",
    "plt.ylabel('Counts')\n",
    "plt.title('Combined Gaussian and polynomial fits to masses')"
   ]
  },
  {
   "cell_type": "markdown",
   "metadata": {},
   "source": [
    "By observation this combined linear Gaussian fit is the worst fit; it does not follow the distribution very well."
   ]
  },
  {
   "cell_type": "code",
   "execution_count": 23,
   "metadata": {},
   "outputs": [
    {
     "name": "stdout",
     "output_type": "stream",
     "text": [
      "The difference between the linear fitted mean and exponential fitted mean of M is     0.033\n",
      "Total error on the mean is    0.036\n"
     ]
    }
   ],
   "source": [
    "#Calculate difference between fitted mean for the linear + Gaussian and fitted mean for exponential model\n",
    "Err_sys_linear = theMinuit_shiftlinear.values[1] - theMinuit.values[1]  \n",
    "print('The difference between the linear fitted mean and exponential fitted mean of M is ',\"{0:8.3f}\".format(abs(Err_sys_linear)))\n",
    "\n",
    "#calculate difference in fitted mean for linear and polynomial models\n",
    "Err_sys_linearpoly = theMinuit_shiftlinear.values[1] - theMinuit_shift.values[2]\n",
    "\n",
    "#Calculate which of the three fitted means have the largest difference and set this as the total systematic error\n",
    "max_sys_err = (max(abs(Err_sys_linear),abs(Err_sys),abs(Err_sys_linearpoly)))\n",
    " \n",
    "\n",
    "M_error = np.sqrt((theMinuit.errors[1]**2 +max_sys_err**2))  #add systematic and statistical errors in quadrature\n",
    "\n",
    "\n",
    "print('Total error on the mean is',\"{0:8.3f}\".format( M_error))"
   ]
  },
  {
   "cell_type": "code",
   "execution_count": 24,
   "metadata": {},
   "outputs": [
    {
     "name": "stdout",
     "output_type": "stream",
     "text": [
      "\t M (+/- stat error +/- sys error) :  \t    2.499  +/-     0.015  +/-     0.033\n",
      "\t M (+/- total error) :  \t    2.499  +/-     0.036\n"
     ]
    }
   ],
   "source": [
    "print('\\t','{:15s}'.format('M (+/- stat error +/- sys error)'), ':  \\t', \"{0:8.3f}\".format(theMinuit.values[1]), ' +/- ', \"{0:8.3f}\".format(theMinuit.errors[1]), ' +/- ', \"{0:8.3f}\".format(max_sys_err))\n",
    "print('\\t','{:15s}'.format('M (+/- total error)'), ':  \\t', \"{0:8.3f}\".format(theMinuit.values[1]),' +/- ',\"{0:8.3f}\".format( M_error))"
   ]
  },
  {
   "cell_type": "markdown",
   "metadata": {},
   "source": [
    "In this case the systematic error is slighty greater than double the statistical error. Therefore, it is clear that the systematic error is important in this case. When rounded to 2 significant figures we see that the total error is signficantly larger than just the statistical error."
   ]
  }
 ],
 "metadata": {
  "kernelspec": {
   "display_name": "Python 3",
   "language": "python",
   "name": "python3"
  },
  "language_info": {
   "codemirror_mode": {
    "name": "ipython",
    "version": 3
   },
   "file_extension": ".py",
   "mimetype": "text/x-python",
   "name": "python",
   "nbconvert_exporter": "python",
   "pygments_lexer": "ipython3",
   "version": "3.7.4"
  }
 },
 "nbformat": 4,
 "nbformat_minor": 5
}
